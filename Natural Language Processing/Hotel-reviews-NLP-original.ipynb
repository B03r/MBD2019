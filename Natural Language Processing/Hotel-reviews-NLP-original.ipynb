{
 "cells": [
  {
   "cell_type": "markdown",
   "metadata": {},
   "source": [
    "# HOTEL REVIEWS NLP\n",
    "## Group E"
   ]
  },
  {
   "cell_type": "code",
   "execution_count": 1,
   "metadata": {},
   "outputs": [],
   "source": [
    "import pandas as pd\n",
    "\n",
    "serie = pd.read_csv('Hotel reviews.csv')\n",
    "df = pd.DataFrame(serie)"
   ]
  },
  {
   "cell_type": "code",
   "execution_count": 2,
   "metadata": {},
   "outputs": [
    {
     "data": {
      "text/html": [
       "<div>\n",
       "<style scoped>\n",
       "    .dataframe tbody tr th:only-of-type {\n",
       "        vertical-align: middle;\n",
       "    }\n",
       "\n",
       "    .dataframe tbody tr th {\n",
       "        vertical-align: top;\n",
       "    }\n",
       "\n",
       "    .dataframe thead th {\n",
       "        text-align: right;\n",
       "    }\n",
       "</style>\n",
       "<table border=\"1\" class=\"dataframe\">\n",
       "  <thead>\n",
       "    <tr style=\"text-align: right;\">\n",
       "      <th></th>\n",
       "      <th>Review Date</th>\n",
       "      <th>Star Rating</th>\n",
       "      <th>Overview</th>\n",
       "      <th>Review</th>\n",
       "      <th>Traveler Type</th>\n",
       "      <th>Score Breakdown</th>\n",
       "      <th>Location</th>\n",
       "      <th>Reviewer Rank</th>\n",
       "      <th>Name</th>\n",
       "      <th>Price Range</th>\n",
       "      <th>Hotel ID</th>\n",
       "    </tr>\n",
       "  </thead>\n",
       "  <tbody>\n",
       "    <tr>\n",
       "      <td>0</td>\n",
       "      <td>28-Feb-11</td>\n",
       "      <td>5</td>\n",
       "      <td>Very nice atmosphere</td>\n",
       "      <td>We were together with some friends at the Anew...</td>\n",
       "      <td>traveled with family</td>\n",
       "      <td>Value: 5 of 5 stars; Location: 5 of 5 stars; S...</td>\n",
       "      <td>Skofja Loka, Slovenia</td>\n",
       "      <td>NaN</td>\n",
       "      <td>Villa Ottone</td>\n",
       "      <td>$$</td>\n",
       "      <td>25.0</td>\n",
       "    </tr>\n",
       "    <tr>\n",
       "      <td>1</td>\n",
       "      <td>21-Feb-10</td>\n",
       "      <td>4</td>\n",
       "      <td>Very nice food, great atmosphere, feels like...</td>\n",
       "      <td>Martin and his staff are truely great! They ma...</td>\n",
       "      <td>traveled with family</td>\n",
       "      <td>Value: 5 of 5 stars; Location: 3 of 5 stars; S...</td>\n",
       "      <td>Brussels</td>\n",
       "      <td>Contributor</td>\n",
       "      <td>Villa Ottone</td>\n",
       "      <td>$$</td>\n",
       "      <td>25.0</td>\n",
       "    </tr>\n",
       "    <tr>\n",
       "      <td>2</td>\n",
       "      <td>4 days ago NEW</td>\n",
       "      <td>5</td>\n",
       "      <td>Best Hotel on the Planet</td>\n",
       "      <td>We have stayed at the Excelsior on numerous oc...</td>\n",
       "      <td>traveled with family</td>\n",
       "      <td>Value: 5 of 5 stars; Sleep Quality: 5 of 5 sta...</td>\n",
       "      <td>Singapore, Singapore</td>\n",
       "      <td>Contributor</td>\n",
       "      <td>San Vigilio</td>\n",
       "      <td>$$$$</td>\n",
       "      <td>49.0</td>\n",
       "    </tr>\n",
       "    <tr>\n",
       "      <td>3</td>\n",
       "      <td>17-Sep-14</td>\n",
       "      <td>5</td>\n",
       "      <td>Fantastic</td>\n",
       "      <td>The great reviews are well deserved. Stayed he...</td>\n",
       "      <td>traveled as a couple</td>\n",
       "      <td>Location: 5 of 5 stars; Rooms: 5 of 5 stars; S...</td>\n",
       "      <td>Burlington, Canada</td>\n",
       "      <td>Senior Contributor</td>\n",
       "      <td>San Vigilio</td>\n",
       "      <td>$$$$</td>\n",
       "      <td>49.0</td>\n",
       "    </tr>\n",
       "    <tr>\n",
       "      <td>4</td>\n",
       "      <td>27-Jul-14</td>\n",
       "      <td>5</td>\n",
       "      <td>It is all true!</td>\n",
       "      <td>Not sure we can add anything to the accurate r...</td>\n",
       "      <td>traveled as a couple</td>\n",
       "      <td>Rooms: 5 of 5 stars; Cleanliness: 5 of 5 stars...</td>\n",
       "      <td>Manchester, United Kingdom</td>\n",
       "      <td>Senior Reviewer</td>\n",
       "      <td>San Vigilio</td>\n",
       "      <td>$$$$</td>\n",
       "      <td>49.0</td>\n",
       "    </tr>\n",
       "  </tbody>\n",
       "</table>\n",
       "</div>"
      ],
      "text/plain": [
       "      Review Date  Star Rating  \\\n",
       "0       28-Feb-11            5   \n",
       "1       21-Feb-10            4   \n",
       "2  4 days ago NEW            5   \n",
       "3       17-Sep-14            5   \n",
       "4       27-Jul-14            5   \n",
       "\n",
       "                                            Overview  \\\n",
       "0                             Very nice atmosphere     \n",
       "1    Very nice food, great atmosphere, feels like...   \n",
       "2                         Best Hotel on the Planet     \n",
       "3                                        Fantastic     \n",
       "4                                  It is all true!     \n",
       "\n",
       "                                              Review         Traveler Type  \\\n",
       "0  We were together with some friends at the Anew...  traveled with family   \n",
       "1  Martin and his staff are truely great! They ma...  traveled with family   \n",
       "2  We have stayed at the Excelsior on numerous oc...  traveled with family   \n",
       "3  The great reviews are well deserved. Stayed he...  traveled as a couple   \n",
       "4  Not sure we can add anything to the accurate r...  traveled as a couple   \n",
       "\n",
       "                                     Score Breakdown  \\\n",
       "0  Value: 5 of 5 stars; Location: 5 of 5 stars; S...   \n",
       "1  Value: 5 of 5 stars; Location: 3 of 5 stars; S...   \n",
       "2  Value: 5 of 5 stars; Sleep Quality: 5 of 5 sta...   \n",
       "3  Location: 5 of 5 stars; Rooms: 5 of 5 stars; S...   \n",
       "4  Rooms: 5 of 5 stars; Cleanliness: 5 of 5 stars...   \n",
       "\n",
       "                     Location       Reviewer Rank          Name Price Range  \\\n",
       "0       Skofja Loka, Slovenia                 NaN  Villa Ottone          $$   \n",
       "1                    Brussels         Contributor  Villa Ottone          $$   \n",
       "2        Singapore, Singapore         Contributor   San Vigilio        $$$$   \n",
       "3          Burlington, Canada  Senior Contributor   San Vigilio        $$$$   \n",
       "4  Manchester, United Kingdom     Senior Reviewer   San Vigilio        $$$$   \n",
       "\n",
       "   Hotel ID  \n",
       "0      25.0  \n",
       "1      25.0  \n",
       "2      49.0  \n",
       "3      49.0  \n",
       "4      49.0  "
      ]
     },
     "execution_count": 2,
     "metadata": {},
     "output_type": "execute_result"
    }
   ],
   "source": [
    "# Keeping only the hotels for our business purpose\n",
    "df = df[df['Establishment Type'] == 'Hotel']\n",
    "del df['Establishment Type']\n",
    "df.head()"
   ]
  },
  {
   "cell_type": "markdown",
   "metadata": {},
   "source": [
    "#### Date Cleaning"
   ]
  },
  {
   "cell_type": "code",
   "execution_count": 3,
   "metadata": {},
   "outputs": [],
   "source": [
    "df = df[~df['Review Date'].str.contains(\"ago\")]\n",
    "df = df[~df['Review Date'].str.contains(\"NEW\")]\n",
    "df = df.reset_index(drop = True)\n",
    "df['Review Date'] = pd.to_datetime(df['Review Date'])"
   ]
  },
  {
   "cell_type": "code",
   "execution_count": 4,
   "metadata": {},
   "outputs": [
    {
     "data": {
      "text/plain": [
       "Review Date        datetime64[ns]\n",
       "Star Rating                 int64\n",
       "Overview                   object\n",
       "Review                     object\n",
       "Traveler Type              object\n",
       "Score Breakdown            object\n",
       "Location                   object\n",
       "Reviewer Rank              object\n",
       "Name                       object\n",
       "Price Range                object\n",
       "Hotel ID                  float64\n",
       "dtype: object"
      ]
     },
     "execution_count": 4,
     "metadata": {},
     "output_type": "execute_result"
    }
   ],
   "source": [
    "#Checking types of columns\n",
    "df.dtypes"
   ]
  },
  {
   "cell_type": "markdown",
   "metadata": {},
   "source": [
    "#### Location Cleaning"
   ]
  },
  {
   "cell_type": "code",
   "execution_count": 5,
   "metadata": {},
   "outputs": [],
   "source": [
    "# renaming Location to CityofReviewer since we have a rating variable called Location\n",
    "df = df.rename(columns={'Location': 'CityofReviewer'})"
   ]
  },
  {
   "cell_type": "code",
   "execution_count": 6,
   "metadata": {},
   "outputs": [],
   "source": [
    "#Assigning a NULL to the empty cell, without doing it it is difficult to work on this column of lists\n",
    "import warnings\n",
    "warnings.filterwarnings('ignore')\n",
    "\n",
    "df.CityofReviewer[df.CityofReviewer.isnull() == True] = 'NULL' \n",
    "df.CityofReviewer = df.CityofReviewer.str.split(\", \")"
   ]
  },
  {
   "cell_type": "code",
   "execution_count": 7,
   "metadata": {
    "scrolled": false
   },
   "outputs": [],
   "source": [
    "# Creating a column just with the city and not the country because we have a lot of missing values for the country so is relevant to save only the city\n",
    "import warnings\n",
    "warnings.filterwarnings('ignore')\n",
    "\n",
    "for i in range(0,len(df)):\n",
    "        df.CityofReviewer[i] = df.CityofReviewer[i][0]\n",
    "        "
   ]
  },
  {
   "cell_type": "markdown",
   "metadata": {},
   "source": [
    "#### Reviewer Rank Cleaning"
   ]
  },
  {
   "cell_type": "code",
   "execution_count": 8,
   "metadata": {},
   "outputs": [],
   "source": [
    "#Normalizing Review Rank but replacing NAs with Contributor \n",
    "df['Reviewer Rank'].fillna('Contributor', inplace=True)\n",
    "df['Reviewer Rank'] = df['Reviewer Rank'].map({'Contributor': 1,'Reviewer': 2,\\\n",
    "                                               'Senior Contributor': 3,'Senior Reviewer': 4, 'Top Contributor': 5}).astype(int)"
   ]
  },
  {
   "cell_type": "markdown",
   "metadata": {},
   "source": [
    "#### Expanding the Score Breakdown into 6 different columns known as Rating Variables: \n",
    "* `Value` \n",
    "* `Location` \n",
    "* `Sleep Quality`\n",
    "* `Rooms` \n",
    "* `Cleanliness` \n",
    "* `Service` "
   ]
  },
  {
   "cell_type": "code",
   "execution_count": 9,
   "metadata": {},
   "outputs": [],
   "source": [
    "## creating a function to use in the below for loop\n",
    "def sorter(text):\n",
    "    text = text.strip()\n",
    "    if text == \"Value\":\n",
    "        return 0\n",
    "    elif text == \"Location\":\n",
    "        return 1\n",
    "    elif text == \"Sleep Quality\":\n",
    "        return 2\n",
    "    elif text == \"Rooms\":\n",
    "        return 3\n",
    "    elif text == \"Cleanliness\":\n",
    "        return 4\n",
    "    elif text == \"Service\":\n",
    "        return 5\n",
    "    else:\n",
    "        return 6\n",
    "    "
   ]
  },
  {
   "cell_type": "code",
   "execution_count": 10,
   "metadata": {},
   "outputs": [],
   "source": [
    "#Dropping NAs for the Score Breakdown column in order to continue with the filtering\n",
    "df = df[df['Score Breakdown'].notna()].reset_index(drop = True)\n",
    "\n",
    "#Creating an array for each value using the function mentioned above\n",
    "import numpy as np\n",
    "ma = np.zeros(shape = (len(df['Score Breakdown']), 7))\n",
    "\n",
    "for i in range(0,len(df['Score Breakdown'])):\n",
    "    \n",
    "    ar = df['Score Breakdown'][i].split(\";\")\n",
    "    ln = np.zeros(7)\n",
    "    for j in range(0,len(ar)):\n",
    "        k = ar[j][0:ar[j].index(':')]\n",
    "        value = ar[j][(ar[j].index(':')+1):(ar[j].index('of'))].strip()\n",
    "        ln[sorter(k)] = value\n",
    "    ma[i] = ln\n",
    "            "
   ]
  },
  {
   "cell_type": "code",
   "execution_count": 11,
   "metadata": {},
   "outputs": [],
   "source": [
    "# converting the arrays created into columns by using the transpose function and deleting the Score Breakdown\n",
    "df['Value'] = pd.Series(np.transpose(ma)[0]).astype(int)\n",
    "df['Location'] = pd.Series(np.transpose(ma)[1]).astype(int)\n",
    "df['Sleep Quality'] = pd.Series(np.transpose(ma)[2]).astype(int)\n",
    "df['Rooms'] = pd.Series(np.transpose(ma)[3]).astype(int)\n",
    "df['Cleanliness'] = pd.Series(np.transpose(ma)[4]).astype(int)\n",
    "df['Service'] = pd.Series(np.transpose(ma)[5]).astype(int)\n",
    "del df['Score Breakdown']"
   ]
  },
  {
   "cell_type": "code",
   "execution_count": 12,
   "metadata": {},
   "outputs": [
    {
     "data": {
      "text/html": [
       "<div>\n",
       "<style scoped>\n",
       "    .dataframe tbody tr th:only-of-type {\n",
       "        vertical-align: middle;\n",
       "    }\n",
       "\n",
       "    .dataframe tbody tr th {\n",
       "        vertical-align: top;\n",
       "    }\n",
       "\n",
       "    .dataframe thead th {\n",
       "        text-align: right;\n",
       "    }\n",
       "</style>\n",
       "<table border=\"1\" class=\"dataframe\">\n",
       "  <thead>\n",
       "    <tr style=\"text-align: right;\">\n",
       "      <th></th>\n",
       "      <th>Review Date</th>\n",
       "      <th>Star Rating</th>\n",
       "      <th>Overview</th>\n",
       "      <th>Review</th>\n",
       "      <th>Traveler Type</th>\n",
       "      <th>CityofReviewer</th>\n",
       "      <th>Reviewer Rank</th>\n",
       "      <th>Name</th>\n",
       "      <th>Price Range</th>\n",
       "      <th>Hotel ID</th>\n",
       "      <th>Value</th>\n",
       "      <th>Location</th>\n",
       "      <th>Sleep Quality</th>\n",
       "      <th>Rooms</th>\n",
       "      <th>Cleanliness</th>\n",
       "      <th>Service</th>\n",
       "    </tr>\n",
       "  </thead>\n",
       "  <tbody>\n",
       "    <tr>\n",
       "      <td>0</td>\n",
       "      <td>2011-02-28</td>\n",
       "      <td>5</td>\n",
       "      <td>Very nice atmosphere</td>\n",
       "      <td>We were together with some friends at the Anew...</td>\n",
       "      <td>traveled with family</td>\n",
       "      <td>Skofja Loka</td>\n",
       "      <td>1</td>\n",
       "      <td>Villa Ottone</td>\n",
       "      <td>$$</td>\n",
       "      <td>25.0</td>\n",
       "      <td>5</td>\n",
       "      <td>5</td>\n",
       "      <td>4</td>\n",
       "      <td>5</td>\n",
       "      <td>5</td>\n",
       "      <td>5</td>\n",
       "    </tr>\n",
       "    <tr>\n",
       "      <td>1</td>\n",
       "      <td>2010-02-21</td>\n",
       "      <td>4</td>\n",
       "      <td>Very nice food, great atmosphere, feels like...</td>\n",
       "      <td>Martin and his staff are truely great! They ma...</td>\n",
       "      <td>traveled with family</td>\n",
       "      <td>Brussels</td>\n",
       "      <td>1</td>\n",
       "      <td>Villa Ottone</td>\n",
       "      <td>$$</td>\n",
       "      <td>25.0</td>\n",
       "      <td>5</td>\n",
       "      <td>3</td>\n",
       "      <td>5</td>\n",
       "      <td>4</td>\n",
       "      <td>5</td>\n",
       "      <td>5</td>\n",
       "    </tr>\n",
       "    <tr>\n",
       "      <td>2</td>\n",
       "      <td>2014-09-17</td>\n",
       "      <td>5</td>\n",
       "      <td>Fantastic</td>\n",
       "      <td>The great reviews are well deserved. Stayed he...</td>\n",
       "      <td>traveled as a couple</td>\n",
       "      <td>Burlington</td>\n",
       "      <td>3</td>\n",
       "      <td>San Vigilio</td>\n",
       "      <td>$$$$</td>\n",
       "      <td>49.0</td>\n",
       "      <td>0</td>\n",
       "      <td>5</td>\n",
       "      <td>0</td>\n",
       "      <td>5</td>\n",
       "      <td>0</td>\n",
       "      <td>5</td>\n",
       "    </tr>\n",
       "    <tr>\n",
       "      <td>3</td>\n",
       "      <td>2014-07-27</td>\n",
       "      <td>5</td>\n",
       "      <td>It is all true!</td>\n",
       "      <td>Not sure we can add anything to the accurate r...</td>\n",
       "      <td>traveled as a couple</td>\n",
       "      <td>Manchester</td>\n",
       "      <td>4</td>\n",
       "      <td>San Vigilio</td>\n",
       "      <td>$$$$</td>\n",
       "      <td>49.0</td>\n",
       "      <td>0</td>\n",
       "      <td>0</td>\n",
       "      <td>0</td>\n",
       "      <td>5</td>\n",
       "      <td>5</td>\n",
       "      <td>5</td>\n",
       "    </tr>\n",
       "    <tr>\n",
       "      <td>4</td>\n",
       "      <td>2014-07-23</td>\n",
       "      <td>5</td>\n",
       "      <td>Beyond our expectations</td>\n",
       "      <td>Everything was a high level surprise: from the...</td>\n",
       "      <td>traveled with family</td>\n",
       "      <td>Milan</td>\n",
       "      <td>1</td>\n",
       "      <td>San Vigilio</td>\n",
       "      <td>$$$$</td>\n",
       "      <td>49.0</td>\n",
       "      <td>0</td>\n",
       "      <td>0</td>\n",
       "      <td>5</td>\n",
       "      <td>5</td>\n",
       "      <td>0</td>\n",
       "      <td>5</td>\n",
       "    </tr>\n",
       "    <tr>\n",
       "      <td>...</td>\n",
       "      <td>...</td>\n",
       "      <td>...</td>\n",
       "      <td>...</td>\n",
       "      <td>...</td>\n",
       "      <td>...</td>\n",
       "      <td>...</td>\n",
       "      <td>...</td>\n",
       "      <td>...</td>\n",
       "      <td>...</td>\n",
       "      <td>...</td>\n",
       "      <td>...</td>\n",
       "      <td>...</td>\n",
       "      <td>...</td>\n",
       "      <td>...</td>\n",
       "      <td>...</td>\n",
       "      <td>...</td>\n",
       "    </tr>\n",
       "    <tr>\n",
       "      <td>4054</td>\n",
       "      <td>2005-11-15</td>\n",
       "      <td>5</td>\n",
       "      <td>A Perfect Place to Stay in a Quaint Town</td>\n",
       "      <td>This hotel is above &amp; beyond. The room was ver...</td>\n",
       "      <td>NaN</td>\n",
       "      <td>Santa Cruz</td>\n",
       "      <td>4</td>\n",
       "      <td>Bolzano</td>\n",
       "      <td>$$</td>\n",
       "      <td>33.0</td>\n",
       "      <td>5</td>\n",
       "      <td>0</td>\n",
       "      <td>0</td>\n",
       "      <td>5</td>\n",
       "      <td>5</td>\n",
       "      <td>5</td>\n",
       "    </tr>\n",
       "    <tr>\n",
       "      <td>4055</td>\n",
       "      <td>2005-07-09</td>\n",
       "      <td>4</td>\n",
       "      <td>Super Hotel</td>\n",
       "      <td>My wife and I spent two nights here in June. T...</td>\n",
       "      <td>NaN</td>\n",
       "      <td>San Diego</td>\n",
       "      <td>1</td>\n",
       "      <td>Bolzano</td>\n",
       "      <td>$$</td>\n",
       "      <td>33.0</td>\n",
       "      <td>4</td>\n",
       "      <td>0</td>\n",
       "      <td>0</td>\n",
       "      <td>4</td>\n",
       "      <td>4</td>\n",
       "      <td>5</td>\n",
       "    </tr>\n",
       "    <tr>\n",
       "      <td>4056</td>\n",
       "      <td>2005-05-31</td>\n",
       "      <td>5</td>\n",
       "      <td>How cool is this place!</td>\n",
       "      <td>I am at the Hotel Greif now, writing this revi...</td>\n",
       "      <td>NaN</td>\n",
       "      <td>Winter Haven</td>\n",
       "      <td>2</td>\n",
       "      <td>Bolzano</td>\n",
       "      <td>$$</td>\n",
       "      <td>33.0</td>\n",
       "      <td>5</td>\n",
       "      <td>0</td>\n",
       "      <td>0</td>\n",
       "      <td>5</td>\n",
       "      <td>5</td>\n",
       "      <td>5</td>\n",
       "    </tr>\n",
       "    <tr>\n",
       "      <td>4057</td>\n",
       "      <td>2005-02-03</td>\n",
       "      <td>5</td>\n",
       "      <td>Wow and wow</td>\n",
       "      <td>I have stayed at the Greif many times with my ...</td>\n",
       "      <td>traveled on business</td>\n",
       "      <td>UK</td>\n",
       "      <td>5</td>\n",
       "      <td>Bolzano</td>\n",
       "      <td>$$</td>\n",
       "      <td>33.0</td>\n",
       "      <td>4</td>\n",
       "      <td>0</td>\n",
       "      <td>0</td>\n",
       "      <td>5</td>\n",
       "      <td>5</td>\n",
       "      <td>5</td>\n",
       "    </tr>\n",
       "    <tr>\n",
       "      <td>4058</td>\n",
       "      <td>2013-08-07</td>\n",
       "      <td>5</td>\n",
       "      <td>Otzi's home town, and this hotel, are great!</td>\n",
       "      <td>We thoroughly enjoyed our 2 day stay in Bolzan...</td>\n",
       "      <td>traveled as a couple</td>\n",
       "      <td>Melbourne</td>\n",
       "      <td>1</td>\n",
       "      <td>Bolzano</td>\n",
       "      <td>$$</td>\n",
       "      <td>99.0</td>\n",
       "      <td>4</td>\n",
       "      <td>5</td>\n",
       "      <td>5</td>\n",
       "      <td>5</td>\n",
       "      <td>5</td>\n",
       "      <td>4</td>\n",
       "    </tr>\n",
       "  </tbody>\n",
       "</table>\n",
       "<p>4059 rows × 16 columns</p>\n",
       "</div>"
      ],
      "text/plain": [
       "     Review Date  Star Rating  \\\n",
       "0     2011-02-28            5   \n",
       "1     2010-02-21            4   \n",
       "2     2014-09-17            5   \n",
       "3     2014-07-27            5   \n",
       "4     2014-07-23            5   \n",
       "...          ...          ...   \n",
       "4054  2005-11-15            5   \n",
       "4055  2005-07-09            4   \n",
       "4056  2005-05-31            5   \n",
       "4057  2005-02-03            5   \n",
       "4058  2013-08-07            5   \n",
       "\n",
       "                                               Overview  \\\n",
       "0                                Very nice atmosphere     \n",
       "1       Very nice food, great atmosphere, feels like...   \n",
       "2                                           Fantastic     \n",
       "3                                     It is all true!     \n",
       "4                             Beyond our expectations     \n",
       "...                                                 ...   \n",
       "4054         A Perfect Place to Stay in a Quaint Town     \n",
       "4055                                       Super Hotel    \n",
       "4056                          How cool is this place!     \n",
       "4057                                      Wow and wow     \n",
       "4058     Otzi's home town, and this hotel, are great!     \n",
       "\n",
       "                                                 Review         Traveler Type  \\\n",
       "0     We were together with some friends at the Anew...  traveled with family   \n",
       "1     Martin and his staff are truely great! They ma...  traveled with family   \n",
       "2     The great reviews are well deserved. Stayed he...  traveled as a couple   \n",
       "3     Not sure we can add anything to the accurate r...  traveled as a couple   \n",
       "4     Everything was a high level surprise: from the...  traveled with family   \n",
       "...                                                 ...                   ...   \n",
       "4054  This hotel is above & beyond. The room was ver...                   NaN   \n",
       "4055  My wife and I spent two nights here in June. T...                   NaN   \n",
       "4056  I am at the Hotel Greif now, writing this revi...                   NaN   \n",
       "4057  I have stayed at the Greif many times with my ...  traveled on business   \n",
       "4058  We thoroughly enjoyed our 2 day stay in Bolzan...  traveled as a couple   \n",
       "\n",
       "     CityofReviewer  Reviewer Rank          Name Price Range  Hotel ID  Value  \\\n",
       "0       Skofja Loka              1  Villa Ottone          $$      25.0      5   \n",
       "1          Brussels              1  Villa Ottone          $$      25.0      5   \n",
       "2        Burlington              3   San Vigilio        $$$$      49.0      0   \n",
       "3        Manchester              4   San Vigilio        $$$$      49.0      0   \n",
       "4             Milan              1   San Vigilio        $$$$      49.0      0   \n",
       "...             ...            ...           ...         ...       ...    ...   \n",
       "4054     Santa Cruz              4       Bolzano          $$      33.0      5   \n",
       "4055      San Diego              1       Bolzano          $$      33.0      4   \n",
       "4056   Winter Haven              2       Bolzano          $$      33.0      5   \n",
       "4057             UK              5       Bolzano          $$      33.0      4   \n",
       "4058      Melbourne              1       Bolzano          $$      99.0      4   \n",
       "\n",
       "      Location  Sleep Quality  Rooms  Cleanliness  Service  \n",
       "0            5              4      5            5        5  \n",
       "1            3              5      4            5        5  \n",
       "2            5              0      5            0        5  \n",
       "3            0              0      5            5        5  \n",
       "4            0              5      5            0        5  \n",
       "...        ...            ...    ...          ...      ...  \n",
       "4054         0              0      5            5        5  \n",
       "4055         0              0      4            4        5  \n",
       "4056         0              0      5            5        5  \n",
       "4057         0              0      5            5        5  \n",
       "4058         5              5      5            5        4  \n",
       "\n",
       "[4059 rows x 16 columns]"
      ]
     },
     "execution_count": 12,
     "metadata": {},
     "output_type": "execute_result"
    }
   ],
   "source": [
    "df"
   ]
  },
  {
   "cell_type": "code",
   "execution_count": 13,
   "metadata": {},
   "outputs": [
    {
     "name": "stdout",
     "output_type": "stream",
     "text": [
      "<class 'pandas.core.frame.DataFrame'>\n",
      "RangeIndex: 4059 entries, 0 to 4058\n",
      "Data columns (total 16 columns):\n",
      "Review Date       4059 non-null datetime64[ns]\n",
      "Star Rating       4059 non-null int64\n",
      "Overview          4059 non-null object\n",
      "Review            4059 non-null object\n",
      "Traveler Type     3771 non-null object\n",
      "CityofReviewer    4059 non-null object\n",
      "Reviewer Rank     4059 non-null int64\n",
      "Name              4059 non-null object\n",
      "Price Range       3761 non-null object\n",
      "Hotel ID          4019 non-null float64\n",
      "Value             4059 non-null int64\n",
      "Location          4059 non-null int64\n",
      "Sleep Quality     4059 non-null int64\n",
      "Rooms             4059 non-null int64\n",
      "Cleanliness       4059 non-null int64\n",
      "Service           4059 non-null int64\n",
      "dtypes: datetime64[ns](1), float64(1), int64(8), object(6)\n",
      "memory usage: 507.5+ KB\n"
     ]
    }
   ],
   "source": [
    "#Checking for NAs\n",
    "df.info()"
   ]
  },
  {
   "cell_type": "markdown",
   "metadata": {},
   "source": [
    "#### Traveler Type Cleaning"
   ]
  },
  {
   "cell_type": "code",
   "execution_count": 14,
   "metadata": {},
   "outputs": [
    {
     "data": {
      "text/plain": [
       "array(['family', 'couple', 'friends', 'solo', 'business', nan],\n",
       "      dtype=object)"
      ]
     },
     "execution_count": 14,
     "metadata": {},
     "output_type": "execute_result"
    }
   ],
   "source": [
    "u = df['Traveler Type'].str.partition()\n",
    "df['Traveler Type'] = pd.DataFrame({ 'Traveler Type': u[2].str.split().str[-1]})\n",
    "df['Traveler Type'].unique()"
   ]
  },
  {
   "cell_type": "code",
   "execution_count": 15,
   "metadata": {},
   "outputs": [],
   "source": [
    "#Normalizing the Traveler Type\n",
    "df['Traveler Type'] = df['Traveler Type'].map({'solo': 1,'couple': 2,\\\n",
    "                                               'friends': 3,'family': 4, 'business': 5})"
   ]
  },
  {
   "cell_type": "code",
   "execution_count": 16,
   "metadata": {},
   "outputs": [],
   "source": [
    "# Filling NAs randomly of Traveller Type since we do not want to remove more rows\n",
    "fill_list = [1,2,3,4,5]\n",
    "df['Traveler Type'] = df['Traveler Type'].fillna(pd.Series(np.random.choice(fill_list, size=len(df.index))))\n",
    "df['Traveler Type'] = df['Traveler Type'].astype(int)"
   ]
  },
  {
   "cell_type": "markdown",
   "metadata": {},
   "source": [
    "#### Price Range Cleaning"
   ]
  },
  {
   "cell_type": "code",
   "execution_count": 17,
   "metadata": {},
   "outputs": [],
   "source": [
    "#Normalizing Price Range\n",
    "df['Price Range'] = df['Price Range'].map({'$': 1,'$$': 2,\\\n",
    "                                               '$$$': 3,'$$$$': 4})\n",
    "#Filling missing Values using the mean\n",
    "df['Price Range']=df['Price Range'].fillna(df['Price Range'].mean())\n"
   ]
  },
  {
   "cell_type": "markdown",
   "metadata": {},
   "source": [
    "#### Hotel ID Cleaning"
   ]
  },
  {
   "cell_type": "code",
   "execution_count": 18,
   "metadata": {},
   "outputs": [],
   "source": [
    "#since we have 40 missing values in this column and the values are unique, we will drop the NAs\n",
    "df = df[df['Hotel ID'].notna()].reset_index(drop = True)\n",
    "#converting Hotel ID to int\n",
    "df['Hotel ID'] = df['Hotel ID'].astype(int)"
   ]
  },
  {
   "cell_type": "markdown",
   "metadata": {},
   "source": [
    "## EDA"
   ]
  },
  {
   "cell_type": "code",
   "execution_count": 19,
   "metadata": {},
   "outputs": [
    {
     "name": "stdout",
     "output_type": "stream",
     "text": [
      "Top 5 cities with most Hotels:\n"
     ]
    },
    {
     "data": {
      "text/html": [
       "<div>\n",
       "<style scoped>\n",
       "    .dataframe tbody tr th:only-of-type {\n",
       "        vertical-align: middle;\n",
       "    }\n",
       "\n",
       "    .dataframe tbody tr th {\n",
       "        vertical-align: top;\n",
       "    }\n",
       "\n",
       "    .dataframe thead th {\n",
       "        text-align: right;\n",
       "    }\n",
       "</style>\n",
       "<table border=\"1\" class=\"dataframe\">\n",
       "  <thead>\n",
       "    <tr style=\"text-align: right;\">\n",
       "      <th></th>\n",
       "      <th>Number of Hotels</th>\n",
       "    </tr>\n",
       "    <tr>\n",
       "      <th>Name</th>\n",
       "      <th></th>\n",
       "    </tr>\n",
       "  </thead>\n",
       "  <tbody>\n",
       "    <tr>\n",
       "      <td>Bolzano</td>\n",
       "      <td>803</td>\n",
       "    </tr>\n",
       "    <tr>\n",
       "      <td>Castelrotto</td>\n",
       "      <td>393</td>\n",
       "    </tr>\n",
       "    <tr>\n",
       "      <td>Ortisei</td>\n",
       "      <td>375</td>\n",
       "    </tr>\n",
       "    <tr>\n",
       "      <td>Corvara in Badia</td>\n",
       "      <td>297</td>\n",
       "    </tr>\n",
       "    <tr>\n",
       "      <td>Sesto</td>\n",
       "      <td>161</td>\n",
       "    </tr>\n",
       "  </tbody>\n",
       "</table>\n",
       "</div>"
      ],
      "text/plain": [
       "                  Number of Hotels\n",
       "Name                              \n",
       "Bolzano                        803\n",
       "Castelrotto                    393\n",
       "Ortisei                        375\n",
       "Corvara in Badia               297\n",
       "Sesto                          161"
      ]
     },
     "execution_count": 19,
     "metadata": {},
     "output_type": "execute_result"
    }
   ],
   "source": [
    "#Grouping by Name(City) to get the top Hotels\n",
    "HotelCountPerCity = df.groupby(['Name']).agg({'Hotel ID':['count']})\n",
    "HotelCountPerCity.columns = ['Number of Hotels']\n",
    "print(\"Top 5 cities with most Hotels:\")\n",
    "HotelCountPerCity.sort_values(by=\"Number of Hotels\", ascending=False).head()"
   ]
  },
  {
   "cell_type": "markdown",
   "metadata": {},
   "source": [
    "#### Creating a new dataframe called MeanAndCount to analyze the different types of ratings. It contains:\n",
    "* `Count` \n",
    "* `Value_mean` \n",
    "* `Location_mean` \n",
    "* `Sleep Quality_mean`\n",
    "* `Rooms_mean` \n",
    "* `Cleanliness_mean` \n",
    "* `Service_mean` "
   ]
  },
  {
   "cell_type": "code",
   "execution_count": 20,
   "metadata": {},
   "outputs": [],
   "source": [
    "#Grouping by Hotel ID \n",
    "MeanAndCount = df.groupby(['Hotel ID']).agg({'Hotel ID':['count'],'Value': ['mean'],'Location': ['mean'], 'Sleep Quality': ['mean'], 'Rooms': ['mean'],\\\n",
    "                              'Cleanliness': ['mean'],'Service': ['mean']})\n",
    "MeanAndCount.columns = ['Count','Value_mean','Location_mean', 'SleepQuality_mean', 'Rooms_mean','Cleanliness_mean','Service_mean']                \n",
    "MeanAndCount = MeanAndCount.reset_index()\n",
    "\n"
   ]
  },
  {
   "cell_type": "code",
   "execution_count": 21,
   "metadata": {},
   "outputs": [
    {
     "name": "stdout",
     "output_type": "stream",
     "text": [
      "Top 5 Hotels with most counts:\n"
     ]
    },
    {
     "data": {
      "text/html": [
       "<div>\n",
       "<style scoped>\n",
       "    .dataframe tbody tr th:only-of-type {\n",
       "        vertical-align: middle;\n",
       "    }\n",
       "\n",
       "    .dataframe tbody tr th {\n",
       "        vertical-align: top;\n",
       "    }\n",
       "\n",
       "    .dataframe thead th {\n",
       "        text-align: right;\n",
       "    }\n",
       "</style>\n",
       "<table border=\"1\" class=\"dataframe\">\n",
       "  <thead>\n",
       "    <tr style=\"text-align: right;\">\n",
       "      <th></th>\n",
       "      <th>Hotel ID</th>\n",
       "      <th>Count</th>\n",
       "      <th>Value_mean</th>\n",
       "      <th>Location_mean</th>\n",
       "      <th>SleepQuality_mean</th>\n",
       "      <th>Rooms_mean</th>\n",
       "      <th>Cleanliness_mean</th>\n",
       "      <th>Service_mean</th>\n",
       "    </tr>\n",
       "  </thead>\n",
       "  <tbody>\n",
       "    <tr>\n",
       "      <td>47</td>\n",
       "      <td>50</td>\n",
       "      <td>240</td>\n",
       "      <td>4.112500</td>\n",
       "      <td>4.091667</td>\n",
       "      <td>3.712500</td>\n",
       "      <td>3.987500</td>\n",
       "      <td>4.508333</td>\n",
       "      <td>4.708333</td>\n",
       "    </tr>\n",
       "    <tr>\n",
       "      <td>15</td>\n",
       "      <td>18</td>\n",
       "      <td>185</td>\n",
       "      <td>4.432432</td>\n",
       "      <td>4.372973</td>\n",
       "      <td>3.210811</td>\n",
       "      <td>4.264865</td>\n",
       "      <td>4.675676</td>\n",
       "      <td>4.800000</td>\n",
       "    </tr>\n",
       "    <tr>\n",
       "      <td>72</td>\n",
       "      <td>100</td>\n",
       "      <td>184</td>\n",
       "      <td>4.021739</td>\n",
       "      <td>4.478261</td>\n",
       "      <td>3.494565</td>\n",
       "      <td>4.347826</td>\n",
       "      <td>4.445652</td>\n",
       "      <td>4.478261</td>\n",
       "    </tr>\n",
       "    <tr>\n",
       "      <td>9</td>\n",
       "      <td>12</td>\n",
       "      <td>183</td>\n",
       "      <td>4.502732</td>\n",
       "      <td>4.180328</td>\n",
       "      <td>3.710383</td>\n",
       "      <td>4.021858</td>\n",
       "      <td>4.491803</td>\n",
       "      <td>4.765027</td>\n",
       "    </tr>\n",
       "    <tr>\n",
       "      <td>27</td>\n",
       "      <td>30</td>\n",
       "      <td>167</td>\n",
       "      <td>4.011976</td>\n",
       "      <td>4.011976</td>\n",
       "      <td>3.479042</td>\n",
       "      <td>3.952096</td>\n",
       "      <td>4.347305</td>\n",
       "      <td>4.646707</td>\n",
       "    </tr>\n",
       "  </tbody>\n",
       "</table>\n",
       "</div>"
      ],
      "text/plain": [
       "    Hotel ID  Count  Value_mean  Location_mean  SleepQuality_mean  Rooms_mean  \\\n",
       "47        50    240    4.112500       4.091667           3.712500    3.987500   \n",
       "15        18    185    4.432432       4.372973           3.210811    4.264865   \n",
       "72       100    184    4.021739       4.478261           3.494565    4.347826   \n",
       "9         12    183    4.502732       4.180328           3.710383    4.021858   \n",
       "27        30    167    4.011976       4.011976           3.479042    3.952096   \n",
       "\n",
       "    Cleanliness_mean  Service_mean  \n",
       "47          4.508333      4.708333  \n",
       "15          4.675676      4.800000  \n",
       "72          4.445652      4.478261  \n",
       "9           4.491803      4.765027  \n",
       "27          4.347305      4.646707  "
      ]
     },
     "execution_count": 21,
     "metadata": {},
     "output_type": "execute_result"
    }
   ],
   "source": [
    "# getting the Hotels with most reviews\n",
    "print(\"Top 5 Hotels with most counts:\")\n",
    "top = MeanAndCount.sort_values(by=\"Count\", ascending=False).head()\n",
    "top"
   ]
  },
  {
   "cell_type": "code",
   "execution_count": 22,
   "metadata": {},
   "outputs": [
    {
     "data": {
      "text/plain": [
       "<matplotlib.axes._subplots.AxesSubplot at 0x11c537d10>"
      ]
     },
     "execution_count": 22,
     "metadata": {},
     "output_type": "execute_result"
    }
   ],
   "source": [
    "\n",
    "top.plot(x=\"Hotel ID\", y=[\"Value_mean\", \"Location_mean\", \"SleepQuality_mean\", \"Rooms_mean\",\"Cleanliness_mean\",\\\n",
    "                          \"Service_mean\"], kind=\"bar\",legend=None, title = \"Top 5 hotels with most counts\")"
   ]
  },
  {
   "cell_type": "code",
   "execution_count": 23,
   "metadata": {},
   "outputs": [
    {
     "name": "stdout",
     "output_type": "stream",
     "text": [
      "Top 5 Hotels with highest Value ratings:\n"
     ]
    },
    {
     "data": {
      "text/html": [
       "<div>\n",
       "<style scoped>\n",
       "    .dataframe tbody tr th:only-of-type {\n",
       "        vertical-align: middle;\n",
       "    }\n",
       "\n",
       "    .dataframe tbody tr th {\n",
       "        vertical-align: top;\n",
       "    }\n",
       "\n",
       "    .dataframe thead th {\n",
       "        text-align: right;\n",
       "    }\n",
       "</style>\n",
       "<table border=\"1\" class=\"dataframe\">\n",
       "  <thead>\n",
       "    <tr style=\"text-align: right;\">\n",
       "      <th></th>\n",
       "      <th>Hotel ID</th>\n",
       "      <th>Count</th>\n",
       "      <th>Value_mean</th>\n",
       "      <th>Location_mean</th>\n",
       "      <th>SleepQuality_mean</th>\n",
       "      <th>Rooms_mean</th>\n",
       "      <th>Cleanliness_mean</th>\n",
       "      <th>Service_mean</th>\n",
       "    </tr>\n",
       "  </thead>\n",
       "  <tbody>\n",
       "    <tr>\n",
       "      <td>14</td>\n",
       "      <td>17</td>\n",
       "      <td>24</td>\n",
       "      <td>4.666667</td>\n",
       "      <td>3.958333</td>\n",
       "      <td>3.000000</td>\n",
       "      <td>3.500000</td>\n",
       "      <td>4.291667</td>\n",
       "      <td>4.791667</td>\n",
       "    </tr>\n",
       "    <tr>\n",
       "      <td>9</td>\n",
       "      <td>12</td>\n",
       "      <td>183</td>\n",
       "      <td>4.502732</td>\n",
       "      <td>4.180328</td>\n",
       "      <td>3.710383</td>\n",
       "      <td>4.021858</td>\n",
       "      <td>4.491803</td>\n",
       "      <td>4.765027</td>\n",
       "    </tr>\n",
       "    <tr>\n",
       "      <td>18</td>\n",
       "      <td>21</td>\n",
       "      <td>50</td>\n",
       "      <td>4.480000</td>\n",
       "      <td>3.940000</td>\n",
       "      <td>3.140000</td>\n",
       "      <td>3.880000</td>\n",
       "      <td>4.440000</td>\n",
       "      <td>4.660000</td>\n",
       "    </tr>\n",
       "    <tr>\n",
       "      <td>2</td>\n",
       "      <td>4</td>\n",
       "      <td>17</td>\n",
       "      <td>4.470588</td>\n",
       "      <td>4.235294</td>\n",
       "      <td>3.000000</td>\n",
       "      <td>3.411765</td>\n",
       "      <td>4.235294</td>\n",
       "      <td>4.588235</td>\n",
       "    </tr>\n",
       "    <tr>\n",
       "      <td>49</td>\n",
       "      <td>52</td>\n",
       "      <td>15</td>\n",
       "      <td>4.466667</td>\n",
       "      <td>3.533333</td>\n",
       "      <td>3.066667</td>\n",
       "      <td>3.466667</td>\n",
       "      <td>4.733333</td>\n",
       "      <td>4.333333</td>\n",
       "    </tr>\n",
       "  </tbody>\n",
       "</table>\n",
       "</div>"
      ],
      "text/plain": [
       "    Hotel ID  Count  Value_mean  Location_mean  SleepQuality_mean  Rooms_mean  \\\n",
       "14        17     24    4.666667       3.958333           3.000000    3.500000   \n",
       "9         12    183    4.502732       4.180328           3.710383    4.021858   \n",
       "18        21     50    4.480000       3.940000           3.140000    3.880000   \n",
       "2          4     17    4.470588       4.235294           3.000000    3.411765   \n",
       "49        52     15    4.466667       3.533333           3.066667    3.466667   \n",
       "\n",
       "    Cleanliness_mean  Service_mean  \n",
       "14          4.291667      4.791667  \n",
       "9           4.491803      4.765027  \n",
       "18          4.440000      4.660000  \n",
       "2           4.235294      4.588235  \n",
       "49          4.733333      4.333333  "
      ]
     },
     "execution_count": 23,
     "metadata": {},
     "output_type": "execute_result"
    }
   ],
   "source": [
    "# getting the Hotels with highest ratings keeping number of reviews > 10 \n",
    "print(\"Top 5 Hotels with highest Value ratings:\")\n",
    "MeanAndCount = MeanAndCount[MeanAndCount['Count'] >10]\n",
    "top_value = MeanAndCount.sort_values(by=\"Value_mean\", ascending=False).head()\n",
    "top_value"
   ]
  },
  {
   "cell_type": "markdown",
   "metadata": {},
   "source": [
    "#### Plotting top 5 hotels with highest mean of the six different categories"
   ]
  },
  {
   "cell_type": "code",
   "execution_count": 24,
   "metadata": {
    "scrolled": true
   },
   "outputs": [
    {
     "data": {
      "text/html": [
       "<style>div.output_scroll { height: 65em; }</style>"
      ],
      "text/plain": [
       "<IPython.core.display.HTML object>"
      ]
     },
     "metadata": {},
     "output_type": "display_data"
    },
    {
     "data": {
      "text/plain": [
       "<matplotlib.axes._subplots.AxesSubplot at 0x11c501650>"
      ]
     },
     "execution_count": 24,
     "metadata": {},
     "output_type": "execute_result"
    },
    {
     "data": {
      "image/png": "[encoded data removed]",
      "text/plain": [
       "<Figure size 1440x360 with 2 Axes>"
      ]
     },
     "metadata": {
      "needs_background": "light"
     },
     "output_type": "display_data"
    },
    {
     "data": {
      "image/png": "[encoded data removed]",
      "text/plain": [
       "<Figure size 1440x360 with 2 Axes>"
      ]
     },
     "metadata": {
      "needs_background": "light"
     },
     "output_type": "display_data"
    },
    {
     "data": {
      "image/png": "[encoded data removed]",
      "text/plain": [
       "<Figure size 1440x360 with 2 Axes>"
      ]
     },
     "metadata": {
      "needs_background": "light"
     },
     "output_type": "display_data"
    }
   ],
   "source": [
    "# Increasing size of output window\n",
    "from IPython.core.display import display, HTML\n",
    "display(HTML(\"<style>div.output_scroll { height: 65em; }</style>\"))\n",
    "\n",
    "# keeping number of reviews > 10\n",
    "MeanAndCount = MeanAndCount[MeanAndCount['Count'] >10]\n",
    "\n",
    "top_value = MeanAndCount.sort_values(by=\"Value_mean\", ascending=False).head()\n",
    "top_sleepquality = MeanAndCount.sort_values(by=\"SleepQuality_mean\", ascending=False).head()\n",
    "top_location = MeanAndCount.sort_values(by=\"Location_mean\", ascending=False).head()\n",
    "top_rooms = MeanAndCount.sort_values(by=\"Rooms_mean\", ascending=False).head()\n",
    "top_cleanliness = MeanAndCount.sort_values(by=\"Cleanliness_mean\", ascending=False).head()\n",
    "top_service = MeanAndCount.sort_values(by=\"Service_mean\", ascending=False).head()\n",
    "\n",
    "\n",
    "from matplotlib import pyplot as plt\n",
    "\n",
    "fig, (ax1,ax2) = plt.subplots(1,2, figsize=(20,5))\n",
    "\n",
    "top_value.plot(x=\"Hotel ID\", y=[\"Value_mean\", \"Location_mean\", \"SleepQuality_mean\", \"Rooms_mean\",\"Cleanliness_mean\",\\\n",
    "                          \"Service_mean\"], kind=\"bar\", ax=ax1, title = \"Top 5 hotels with highest Value Ratings\")\n",
    "\n",
    "top_sleepquality.plot(x=\"Hotel ID\", y=[\"Value_mean\", \"Location_mean\", \"SleepQuality_mean\", \"Rooms_mean\",\"Cleanliness_mean\",\\\n",
    "                          \"Service_mean\"], kind=\"bar\",legend=None, ax=ax2, title = \"Top 5 hotels with highest Sleep Quality Ratings\")\n",
    "\n",
    "fig, (ax3,ax4) = plt.subplots(1,2, figsize=(20,5))\n",
    "\n",
    "top_location.plot(x=\"Hotel ID\", y=[\"Value_mean\", \"Location_mean\", \"SleepQuality_mean\", \"Rooms_mean\",\"Cleanliness_mean\",\\\n",
    "                          \"Service_mean\"], kind=\"bar\",legend=None, ax=ax3, title = \"Top 5 hotels with highest Location Ratings\")\n",
    "\n",
    "top_rooms.plot(x=\"Hotel ID\", y=[\"Value_mean\", \"Location_mean\", \"SleepQuality_mean\", \"Rooms_mean\",\"Cleanliness_mean\",\\\n",
    "                          \"Service_mean\"], kind=\"bar\",legend=None, ax=ax4, title = \"Top 5 hotels with highest Rooms Rating\")\n",
    "\n",
    "fig, (ax5,ax6) = plt.subplots(1,2, figsize=(20,5))\n",
    "\n",
    "top_cleanliness.plot(x=\"Hotel ID\", y=[\"Value_mean\", \"Location_mean\", \"SleepQuality_mean\", \"Rooms_mean\",\"Cleanliness_mean\",\\\n",
    "                          \"Service_mean\"], kind=\"bar\",legend=None, ax=ax5, title = \"Top 5 hotels with highest Cleanliness Ratings\")\n",
    "               \n",
    "top_service.plot(x=\"Hotel ID\", y=[\"Value_mean\", \"Location_mean\", \"SleepQuality_mean\", \"Rooms_mean\",\"Cleanliness_mean\",\\\n",
    "                          \"Service_mean\"], kind=\"bar\",legend=None, ax=ax6, title = \"Top 5 hotels with highest Service Ratings\")\n"
   ]
  },
  {
   "cell_type": "markdown",
   "metadata": {},
   "source": [
    "Looking at the graphs above and the Minimum and Maximum ratings below, we notice that Sleep Quality has always low ratings reaching a minimum of 1.5833 (not shown in the graphs). Hotel ID 16 has the highest Sleep Quality with a 4.17 compared to Hotel ID 17 with a 4.66 in Value ratings. Moreover, we can see that Cleanliness and Service have the two highest ratings in most graphs which that we will not have a lot of negative ratings that mention these two categories, they have a maximum rating of around 4.95 for both. However, this means that after doing the analysis, we should have a lot of negative comments that mention Sleep Quality, Rooms, Value."
   ]
  },
  {
   "cell_type": "code",
   "execution_count": 25,
   "metadata": {},
   "outputs": [
    {
     "name": "stdout",
     "output_type": "stream",
     "text": [
      "Maximum average of each rating category : \n",
      "Value_mean           4.666667\n",
      "Location_mean        4.478261\n",
      "SleepQuality_mean    4.173913\n",
      "Rooms_mean           4.461538\n",
      "Cleanliness_mean     4.950000\n",
      "Service_mean         4.944954\n",
      "dtype: float64\n"
     ]
    }
   ],
   "source": [
    "# Get a series containing maximum value of each rating column\n",
    "MeanAndCount1 = MeanAndCount\n",
    "del MeanAndCount1['Hotel ID']\n",
    "del MeanAndCount1['Count']\n",
    "maxRatings = MeanAndCount1.max()\n",
    " \n",
    "print('Maximum average of each rating category : ')\n",
    "print(maxRatings)"
   ]
  },
  {
   "cell_type": "code",
   "execution_count": 26,
   "metadata": {},
   "outputs": [
    {
     "name": "stdout",
     "output_type": "stream",
     "text": [
      "Minimum average of each rating category: \n",
      "Value_mean           3.301887\n",
      "Location_mean        2.400000\n",
      "SleepQuality_mean    1.583333\n",
      "Rooms_mean           2.933333\n",
      "Cleanliness_mean     3.650000\n",
      "Service_mean         3.700000\n",
      "dtype: float64\n"
     ]
    }
   ],
   "source": [
    "# Get a series containing minimum value of each rating column\n",
    "\n",
    "minRatings = MeanAndCount1.min()\n",
    " \n",
    "print('Minimum average of each rating category: ')\n",
    "print(minRatings)"
   ]
  },
  {
   "cell_type": "markdown",
   "metadata": {},
   "source": [
    "#### Plotting a time series of Year vs. Count"
   ]
  },
  {
   "cell_type": "code",
   "execution_count": 27,
   "metadata": {},
   "outputs": [
    {
     "data": {
      "text/plain": [
       "<matplotlib.axes._subplots.AxesSubplot at 0x11cbbd510>"
      ]
     },
     "execution_count": 27,
     "metadata": {},
     "output_type": "execute_result"
    },
    {
     "data": {
      "image/png": "[encoded data removed]",
      "text/plain": [
       "<Figure size 432x288 with 1 Axes>"
      ]
     },
     "metadata": {
      "needs_background": "light"
     },
     "output_type": "display_data"
    }
   ],
   "source": [
    "df['Review Date'].groupby([df['Review Date'].dt.year]).agg('count').plot(color = 'C2', kind=\"line\", title = \"Trend of comments from 2005 to 2014\")\n"
   ]
  },
  {
   "cell_type": "markdown",
   "metadata": {},
   "source": [
    "The trend shows an upward trend from 11 comments in 2005 reaching 1000 comments in 2013, an increase of  around 9000% in 8 years. This implies that nowadays we have millions of comments happening each day which means that an analyst working in the hotel management cannot track the comments except if it is automated in splitting comments into good or bad and giving advice to improve the work. This work is done using NLP and ML as shown further in this analysis"
   ]
  },
  {
   "cell_type": "markdown",
   "metadata": {},
   "source": [
    "#### How are ratings Distributed"
   ]
  },
  {
   "cell_type": "code",
   "execution_count": 28,
   "metadata": {
    "scrolled": true
   },
   "outputs": [
    {
     "data": {
      "text/html": [
       "<style>div.output_scroll { height:35em; }</style>"
      ],
      "text/plain": [
       "<IPython.core.display.HTML object>"
      ]
     },
     "metadata": {},
     "output_type": "display_data"
    },
    {
     "data": {
      "text/plain": [
       "<matplotlib.legend.Legend at 0x11e364fd0>"
      ]
     },
     "execution_count": 28,
     "metadata": {},
     "output_type": "execute_result"
    },
    {
     "data": {
      "image/png": "[encoded data removed]",
      "text/plain": [
       "<Figure size 1440x360 with 1 Axes>"
      ]
     },
     "metadata": {
      "needs_background": "light"
     },
     "output_type": "display_data"
    }
   ],
   "source": [
    "from IPython.core.display import display, HTML\n",
    "display(HTML(\"<style>div.output_scroll { height:35em; }</style>\"))\n",
    "\n",
    "# Plot ratings frequency\n",
    "plt.figure(figsize = [20,5])   # [width, height]\n",
    "\n",
    "x = list( df['Star Rating'].value_counts().index )\n",
    "y = list( df['Star Rating'].value_counts() )\n",
    "plt.barh(x, y)\n",
    "\n",
    "ticks_x = np.linspace(0, 3000, 6)   # (start, end, number of ticks)\n",
    "plt.xticks(ticks_x, fontsize=10, family='fantasy', color='black')\n",
    "plt.yticks( size=15 )\n",
    "\n",
    "plt.title('Distribution of Ratings', fontsize=20, weight='bold', color='navy', loc='center')\n",
    "plt.xlabel('Count', fontsize=15, weight='bold', color='navy')\n",
    "plt.ylabel('Ratings', fontsize=15, weight='bold', color='navy')\n",
    "plt.legend(['Reviewer Score'], shadow=True, loc=4)"
   ]
  },
  {
   "cell_type": "markdown",
   "metadata": {},
   "source": [
    "### Creation of target variable\n",
    "In order to define the target variable to train our NLP model we are going to use the overall rating"
   ]
  },
  {
   "cell_type": "code",
   "execution_count": 29,
   "metadata": {},
   "outputs": [],
   "source": [
    "import warnings\n",
    "warnings.filterwarnings('ignore')\n",
    "\n",
    "df['Target'] = np.nan\n",
    "for i in range(0,len(df)):\n",
    "    if df['Star Rating'][i] > 3:\n",
    "        df['Target'][i] = 0\n",
    "    else:\n",
    "        df['Target'][i] = 1\n",
    "df['Target'] = df['Target'].astype(int)"
   ]
  },
  {
   "cell_type": "markdown",
   "metadata": {},
   "source": [
    "### Plotting Target Variable"
   ]
  },
  {
   "cell_type": "code",
   "execution_count": 30,
   "metadata": {},
   "outputs": [
    {
     "data": {
      "image/png": "[encoded data removed]",
      "text/plain": [
       "<Figure size 1700x400 with 2 Axes>"
      ]
     },
     "metadata": {
      "needs_background": "light"
     },
     "output_type": "display_data"
    }
   ],
   "source": [
    "import seaborn as sns\n",
    "\n",
    "fig, axes = plt.subplots(ncols=2, figsize=(17, 4), dpi=100)\n",
    "plt.tight_layout()\n",
    "\n",
    "df.groupby('Target').count()['Hotel ID'].plot(kind='pie', ax=axes[0], labels=['Good Review (90%)', 'Bad Review (10%)'])\n",
    "sns.countplot(x=df['Target'], hue=df['Target'], ax=axes[1])\n",
    "\n",
    "axes[0].set_ylabel('')\n",
    "axes[1].set_ylabel('')\n",
    "axes[1].set_xticklabels(['Good Review (3625)', 'Bad Review(394)'])\n",
    "axes[0].tick_params(axis='x', labelsize=15)\n",
    "axes[0].tick_params(axis='y', labelsize=15)\n",
    "axes[1].tick_params(axis='x', labelsize=15)\n",
    "axes[1].tick_params(axis='y', labelsize=15)\n",
    "\n",
    "axes[0].set_title('Target Distribution in DataSet', fontsize=13)\n",
    "axes[1].set_title('Target Count in DataSet', fontsize=13)\n",
    "\n",
    "plt.show()"
   ]
  },
  {
   "cell_type": "markdown",
   "metadata": {},
   "source": [
    "The two graphs above show that we have an imbalance data set with a difference of 80% in size. We will fix this issue later on."
   ]
  },
  {
   "cell_type": "markdown",
   "metadata": {},
   "source": [
    "### Plotting the rating variables  against the target variable"
   ]
  },
  {
   "cell_type": "code",
   "execution_count": 31,
   "metadata": {},
   "outputs": [
    {
     "data": {
      "text/plain": [
       "<Figure size 2160x2160 with 0 Axes>"
      ]
     },
     "metadata": {},
     "output_type": "display_data"
    },
    {
     "data": {
      "image/png": "[encoded data removed]",
      "text/plain": [
       "<Figure size 2000x5000 with 6 Axes>"
      ]
     },
     "metadata": {
      "needs_background": "light"
     },
     "output_type": "display_data"
    }
   ],
   "source": [
    "\n",
    "import warnings\n",
    "warnings.filterwarnings('ignore')\n",
    "\n",
    "METAFEATURES = ['Value', 'Location', 'Sleep Quality', 'Rooms', 'Cleanliness','Service']\n",
    "BAD_TWEET = df['Target'] == 1\n",
    "plt.figure(figsize = [30,30])\n",
    "fig, axes = plt.subplots(ncols=1, nrows=len(METAFEATURES), figsize=(20, 50), dpi=100)\n",
    "\n",
    "for i, feature in enumerate(METAFEATURES):\n",
    "    \n",
    "    sns.distplot(df.loc[~BAD_TWEET][feature], label='Good', ax=axes[i], color='green')\n",
    "    sns.distplot(df.loc[BAD_TWEET][feature], label='Bad', ax=axes[i], color='red')\n",
    "    \n",
    "    axes[i].set_xlabel('')\n",
    "    axes[i].tick_params(axis='x', labelsize=12)\n",
    "    axes[i].tick_params(axis='y', labelsize=12)\n",
    "    axes[i].legend()\n",
    "  \n",
    "    \n",
    "    axes[i].set_title(f'{feature} Target Distribution in Training Set', fontsize=13)\n",
    "\n"
   ]
  },
  {
   "cell_type": "markdown",
   "metadata": {},
   "source": [
    "Comparing the graphs above, we can notice that most ratings equal to 3 or lower are bad. As explained previousyly that we will see more negative reviews in all rating variables except for Service and Cleanliness. This shows that we can classify the rating variables into 0s and 1s. 0 (Good Rating) for ratings greater than 3 and 1 (Bad Review) for ratings equal or lower than 3. "
   ]
  },
  {
   "cell_type": "markdown",
   "metadata": {},
   "source": [
    "#### Multi_Class of the Rating Variables"
   ]
  },
  {
   "cell_type": "code",
   "execution_count": 32,
   "metadata": {},
   "outputs": [
    {
     "data": {
      "text/html": [
       "<div>\n",
       "<style scoped>\n",
       "    .dataframe tbody tr th:only-of-type {\n",
       "        vertical-align: middle;\n",
       "    }\n",
       "\n",
       "    .dataframe tbody tr th {\n",
       "        vertical-align: top;\n",
       "    }\n",
       "\n",
       "    .dataframe thead th {\n",
       "        text-align: right;\n",
       "    }\n",
       "</style>\n",
       "<table border=\"1\" class=\"dataframe\">\n",
       "  <thead>\n",
       "    <tr style=\"text-align: right;\">\n",
       "      <th></th>\n",
       "      <th>Review Date</th>\n",
       "      <th>Star Rating</th>\n",
       "      <th>Overview</th>\n",
       "      <th>Review</th>\n",
       "      <th>Traveler Type</th>\n",
       "      <th>CityofReviewer</th>\n",
       "      <th>Reviewer Rank</th>\n",
       "      <th>Name</th>\n",
       "      <th>Price Range</th>\n",
       "      <th>Hotel ID</th>\n",
       "      <th>Value</th>\n",
       "      <th>Location</th>\n",
       "      <th>Sleep Quality</th>\n",
       "      <th>Rooms</th>\n",
       "      <th>Cleanliness</th>\n",
       "      <th>Service</th>\n",
       "      <th>Target</th>\n",
       "    </tr>\n",
       "  </thead>\n",
       "  <tbody>\n",
       "    <tr>\n",
       "      <td>0</td>\n",
       "      <td>2011-02-28</td>\n",
       "      <td>5</td>\n",
       "      <td>Very nice atmosphere</td>\n",
       "      <td>We were together with some friends at the Anew...</td>\n",
       "      <td>4</td>\n",
       "      <td>Skofja Loka</td>\n",
       "      <td>1</td>\n",
       "      <td>Villa Ottone</td>\n",
       "      <td>2.0</td>\n",
       "      <td>25</td>\n",
       "      <td>5</td>\n",
       "      <td>5</td>\n",
       "      <td>4</td>\n",
       "      <td>5</td>\n",
       "      <td>5</td>\n",
       "      <td>5</td>\n",
       "      <td>0</td>\n",
       "    </tr>\n",
       "    <tr>\n",
       "      <td>1</td>\n",
       "      <td>2010-02-21</td>\n",
       "      <td>4</td>\n",
       "      <td>Very nice food, great atmosphere, feels like...</td>\n",
       "      <td>Martin and his staff are truely great! They ma...</td>\n",
       "      <td>4</td>\n",
       "      <td>Brussels</td>\n",
       "      <td>1</td>\n",
       "      <td>Villa Ottone</td>\n",
       "      <td>2.0</td>\n",
       "      <td>25</td>\n",
       "      <td>5</td>\n",
       "      <td>3</td>\n",
       "      <td>5</td>\n",
       "      <td>4</td>\n",
       "      <td>5</td>\n",
       "      <td>5</td>\n",
       "      <td>0</td>\n",
       "    </tr>\n",
       "    <tr>\n",
       "      <td>2</td>\n",
       "      <td>2014-09-17</td>\n",
       "      <td>5</td>\n",
       "      <td>Fantastic</td>\n",
       "      <td>The great reviews are well deserved. Stayed he...</td>\n",
       "      <td>2</td>\n",
       "      <td>Burlington</td>\n",
       "      <td>3</td>\n",
       "      <td>San Vigilio</td>\n",
       "      <td>4.0</td>\n",
       "      <td>49</td>\n",
       "      <td>0</td>\n",
       "      <td>5</td>\n",
       "      <td>0</td>\n",
       "      <td>5</td>\n",
       "      <td>0</td>\n",
       "      <td>5</td>\n",
       "      <td>0</td>\n",
       "    </tr>\n",
       "    <tr>\n",
       "      <td>3</td>\n",
       "      <td>2014-07-27</td>\n",
       "      <td>5</td>\n",
       "      <td>It is all true!</td>\n",
       "      <td>Not sure we can add anything to the accurate r...</td>\n",
       "      <td>2</td>\n",
       "      <td>Manchester</td>\n",
       "      <td>4</td>\n",
       "      <td>San Vigilio</td>\n",
       "      <td>4.0</td>\n",
       "      <td>49</td>\n",
       "      <td>0</td>\n",
       "      <td>0</td>\n",
       "      <td>0</td>\n",
       "      <td>5</td>\n",
       "      <td>5</td>\n",
       "      <td>5</td>\n",
       "      <td>0</td>\n",
       "    </tr>\n",
       "    <tr>\n",
       "      <td>4</td>\n",
       "      <td>2014-07-23</td>\n",
       "      <td>5</td>\n",
       "      <td>Beyond our expectations</td>\n",
       "      <td>Everything was a high level surprise: from the...</td>\n",
       "      <td>4</td>\n",
       "      <td>Milan</td>\n",
       "      <td>1</td>\n",
       "      <td>San Vigilio</td>\n",
       "      <td>4.0</td>\n",
       "      <td>49</td>\n",
       "      <td>0</td>\n",
       "      <td>0</td>\n",
       "      <td>5</td>\n",
       "      <td>5</td>\n",
       "      <td>0</td>\n",
       "      <td>5</td>\n",
       "      <td>0</td>\n",
       "    </tr>\n",
       "    <tr>\n",
       "      <td>...</td>\n",
       "      <td>...</td>\n",
       "      <td>...</td>\n",
       "      <td>...</td>\n",
       "      <td>...</td>\n",
       "      <td>...</td>\n",
       "      <td>...</td>\n",
       "      <td>...</td>\n",
       "      <td>...</td>\n",
       "      <td>...</td>\n",
       "      <td>...</td>\n",
       "      <td>...</td>\n",
       "      <td>...</td>\n",
       "      <td>...</td>\n",
       "      <td>...</td>\n",
       "      <td>...</td>\n",
       "      <td>...</td>\n",
       "      <td>...</td>\n",
       "    </tr>\n",
       "    <tr>\n",
       "      <td>4014</td>\n",
       "      <td>2005-11-15</td>\n",
       "      <td>5</td>\n",
       "      <td>A Perfect Place to Stay in a Quaint Town</td>\n",
       "      <td>This hotel is above &amp; beyond. The room was ver...</td>\n",
       "      <td>3</td>\n",
       "      <td>Santa Cruz</td>\n",
       "      <td>4</td>\n",
       "      <td>Bolzano</td>\n",
       "      <td>2.0</td>\n",
       "      <td>33</td>\n",
       "      <td>5</td>\n",
       "      <td>0</td>\n",
       "      <td>0</td>\n",
       "      <td>5</td>\n",
       "      <td>5</td>\n",
       "      <td>5</td>\n",
       "      <td>0</td>\n",
       "    </tr>\n",
       "    <tr>\n",
       "      <td>4015</td>\n",
       "      <td>2005-07-09</td>\n",
       "      <td>4</td>\n",
       "      <td>Super Hotel</td>\n",
       "      <td>My wife and I spent two nights here in June. T...</td>\n",
       "      <td>4</td>\n",
       "      <td>San Diego</td>\n",
       "      <td>1</td>\n",
       "      <td>Bolzano</td>\n",
       "      <td>2.0</td>\n",
       "      <td>33</td>\n",
       "      <td>4</td>\n",
       "      <td>0</td>\n",
       "      <td>0</td>\n",
       "      <td>4</td>\n",
       "      <td>4</td>\n",
       "      <td>5</td>\n",
       "      <td>0</td>\n",
       "    </tr>\n",
       "    <tr>\n",
       "      <td>4016</td>\n",
       "      <td>2005-05-31</td>\n",
       "      <td>5</td>\n",
       "      <td>How cool is this place!</td>\n",
       "      <td>I am at the Hotel Greif now, writing this revi...</td>\n",
       "      <td>5</td>\n",
       "      <td>Winter Haven</td>\n",
       "      <td>2</td>\n",
       "      <td>Bolzano</td>\n",
       "      <td>2.0</td>\n",
       "      <td>33</td>\n",
       "      <td>5</td>\n",
       "      <td>0</td>\n",
       "      <td>0</td>\n",
       "      <td>5</td>\n",
       "      <td>5</td>\n",
       "      <td>5</td>\n",
       "      <td>0</td>\n",
       "    </tr>\n",
       "    <tr>\n",
       "      <td>4017</td>\n",
       "      <td>2005-02-03</td>\n",
       "      <td>5</td>\n",
       "      <td>Wow and wow</td>\n",
       "      <td>I have stayed at the Greif many times with my ...</td>\n",
       "      <td>5</td>\n",
       "      <td>UK</td>\n",
       "      <td>5</td>\n",
       "      <td>Bolzano</td>\n",
       "      <td>2.0</td>\n",
       "      <td>33</td>\n",
       "      <td>4</td>\n",
       "      <td>0</td>\n",
       "      <td>0</td>\n",
       "      <td>5</td>\n",
       "      <td>5</td>\n",
       "      <td>5</td>\n",
       "      <td>0</td>\n",
       "    </tr>\n",
       "    <tr>\n",
       "      <td>4018</td>\n",
       "      <td>2013-08-07</td>\n",
       "      <td>5</td>\n",
       "      <td>Otzi's home town, and this hotel, are great!</td>\n",
       "      <td>We thoroughly enjoyed our 2 day stay in Bolzan...</td>\n",
       "      <td>2</td>\n",
       "      <td>Melbourne</td>\n",
       "      <td>1</td>\n",
       "      <td>Bolzano</td>\n",
       "      <td>2.0</td>\n",
       "      <td>99</td>\n",
       "      <td>4</td>\n",
       "      <td>5</td>\n",
       "      <td>5</td>\n",
       "      <td>5</td>\n",
       "      <td>5</td>\n",
       "      <td>4</td>\n",
       "      <td>0</td>\n",
       "    </tr>\n",
       "  </tbody>\n",
       "</table>\n",
       "<p>4019 rows × 17 columns</p>\n",
       "</div>"
      ],
      "text/plain": [
       "     Review Date  Star Rating  \\\n",
       "0     2011-02-28            5   \n",
       "1     2010-02-21            4   \n",
       "2     2014-09-17            5   \n",
       "3     2014-07-27            5   \n",
       "4     2014-07-23            5   \n",
       "...          ...          ...   \n",
       "4014  2005-11-15            5   \n",
       "4015  2005-07-09            4   \n",
       "4016  2005-05-31            5   \n",
       "4017  2005-02-03            5   \n",
       "4018  2013-08-07            5   \n",
       "\n",
       "                                               Overview  \\\n",
       "0                                Very nice atmosphere     \n",
       "1       Very nice food, great atmosphere, feels like...   \n",
       "2                                           Fantastic     \n",
       "3                                     It is all true!     \n",
       "4                             Beyond our expectations     \n",
       "...                                                 ...   \n",
       "4014         A Perfect Place to Stay in a Quaint Town     \n",
       "4015                                       Super Hotel    \n",
       "4016                          How cool is this place!     \n",
       "4017                                      Wow and wow     \n",
       "4018     Otzi's home town, and this hotel, are great!     \n",
       "\n",
       "                                                 Review  Traveler Type  \\\n",
       "0     We were together with some friends at the Anew...              4   \n",
       "1     Martin and his staff are truely great! They ma...              4   \n",
       "2     The great reviews are well deserved. Stayed he...              2   \n",
       "3     Not sure we can add anything to the accurate r...              2   \n",
       "4     Everything was a high level surprise: from the...              4   \n",
       "...                                                 ...            ...   \n",
       "4014  This hotel is above & beyond. The room was ver...              3   \n",
       "4015  My wife and I spent two nights here in June. T...              4   \n",
       "4016  I am at the Hotel Greif now, writing this revi...              5   \n",
       "4017  I have stayed at the Greif many times with my ...              5   \n",
       "4018  We thoroughly enjoyed our 2 day stay in Bolzan...              2   \n",
       "\n",
       "     CityofReviewer  Reviewer Rank          Name  Price Range  Hotel ID  \\\n",
       "0       Skofja Loka              1  Villa Ottone          2.0        25   \n",
       "1          Brussels              1  Villa Ottone          2.0        25   \n",
       "2        Burlington              3   San Vigilio          4.0        49   \n",
       "3        Manchester              4   San Vigilio          4.0        49   \n",
       "4             Milan              1   San Vigilio          4.0        49   \n",
       "...             ...            ...           ...          ...       ...   \n",
       "4014     Santa Cruz              4       Bolzano          2.0        33   \n",
       "4015      San Diego              1       Bolzano          2.0        33   \n",
       "4016   Winter Haven              2       Bolzano          2.0        33   \n",
       "4017             UK              5       Bolzano          2.0        33   \n",
       "4018      Melbourne              1       Bolzano          2.0        99   \n",
       "\n",
       "      Value  Location  Sleep Quality  Rooms  Cleanliness  Service  Target  \n",
       "0         5         5              4      5            5        5       0  \n",
       "1         5         3              5      4            5        5       0  \n",
       "2         0         5              0      5            0        5       0  \n",
       "3         0         0              0      5            5        5       0  \n",
       "4         0         0              5      5            0        5       0  \n",
       "...     ...       ...            ...    ...          ...      ...     ...  \n",
       "4014      5         0              0      5            5        5       0  \n",
       "4015      4         0              0      4            4        5       0  \n",
       "4016      5         0              0      5            5        5       0  \n",
       "4017      4         0              0      5            5        5       0  \n",
       "4018      4         5              5      5            5        4       0  \n",
       "\n",
       "[4019 rows x 17 columns]"
      ]
     },
     "execution_count": 32,
     "metadata": {},
     "output_type": "execute_result"
    }
   ],
   "source": [
    "df"
   ]
  },
  {
   "cell_type": "code",
   "execution_count": null,
   "metadata": {},
   "outputs": [],
   "source": [
    "import warnings\n",
    "warnings.filterwarnings('ignore')\n",
    "\n",
    "for i in range(0,len(df)):\n",
    "    if df['Value'][i] > 3:\n",
    "        df['Value'][i] = 0\n",
    "    else:\n",
    "        df['Value'][i] = 1\n",
    "        \n",
    "    if df['Sleep Quality'][i] > 3:\n",
    "        df['Sleep Quality'][i] = 0\n",
    "    else:\n",
    "        df['Sleep Quality'][i] = 1\n",
    "        \n",
    "    if df['Rooms'][i] > 3:\n",
    "        df['Rooms'][i] = 0\n",
    "    else:\n",
    "        df['Rooms'][i] = 1\n",
    "        \n",
    "    if df['Cleanliness'][i] > 3:\n",
    "        df['Cleanliness'][i] = 0\n",
    "    else:\n",
    "        df['Cleanliness'][i] = 1\n",
    "        \n",
    "    if df['Service'][i] > 3:\n",
    "        df['Service'][i] = 0\n",
    "    else:\n",
    "        df['Service'][i] = 1\n",
    "        \n",
    "    if df['Location'][i] > 3:\n",
    "        df['Location'][i] = 0\n",
    "    else:\n",
    "        df['Location'][i] = 1"
   ]
  },
  {
   "cell_type": "markdown",
   "metadata": {},
   "source": [
    "#### Comparison of the two classes found in the Ratings Variables"
   ]
  },
  {
   "cell_type": "code",
   "execution_count": null,
   "metadata": {},
   "outputs": [],
   "source": [
    "METAFEATURES = ['Value', 'Location', 'Sleep Quality', 'Rooms', 'Cleanliness','Service']\n",
    "\n",
    "\n",
    "fig, axes = plt.subplots(ncols=1, nrows=len(METAFEATURES), figsize=(10, 10), dpi=100)\n",
    "labels = list(METAFEATURES)\n",
    "for i, feature in enumerate(METAFEATURES):\n",
    "    \n",
    "#     plt.pie(df.loc[~BAD_TWEET][feature], label='Good', ax=axes[i], color='green')\n",
    "#     plt.pie(df.loc[BAD_TWEET][feature], label='Bad', ax=axes[i], color='red')\n",
    "    \n",
    "    df.groupby([feature]).count()['Target'].plot(kind='pie', ax=axes[i], labels= ['Good Review', 'Bad Review'],textprops={'fontsize': 7}, subplots=True, legend = False)\n",
    "    axes[i].set_ylabel('')\n",
    "\n",
    "  \n",
    "    \n",
    "    axes[i].set_title(f'Comparison of the two classes in {feature} variable', fontsize=10)"
   ]
  },
  {
   "cell_type": "markdown",
   "metadata": {},
   "source": [
    "As mentioned previously, we notice Sleep-Quality has a lot of Bad reviews while Service and Cleanliness have a lot of positive reviews compared to the others.\n",
    "\n",
    "The aim of this analysis is to differentiate between Good and Bad reviews and then checking what improvements can be done by scanning for \"important\" words. We will test this idea by using the review text and target variable to predict the above mentioned rating variables and see if we get a good accuracy. (e.g: if a review mentiones dirty, then cleanliness should be 1: a bad review."
   ]
  },
  {
   "cell_type": "markdown",
   "metadata": {},
   "source": [
    "#### Ratings Variable vs. Target"
   ]
  },
  {
   "cell_type": "code",
   "execution_count": null,
   "metadata": {},
   "outputs": [],
   "source": [
    "import markdown as Markdown\n",
    "\n",
    "sum_value = 0\n",
    "sum_location = 0\n",
    "sum_sleep_quality = 0\n",
    "sum_rooms = 0\n",
    "sum_cleanliness = 0\n",
    "sum_service = 0\n",
    "\n",
    "for i in range(0,len(df)):\n",
    "    if df['Target'][i] == df['Value'][i]:\n",
    "        sum_value = sum_value + 1\n",
    "    else:\n",
    "        sum_value\n",
    "        \n",
    "    if df['Target'][i] == df['Location'][i]:\n",
    "        sum_location = sum_location + 1\n",
    "    else:\n",
    "        sum_location\n",
    "        \n",
    "    if df['Target'][i] == df['Sleep Quality'][i]:\n",
    "        sum_sleep_quality = sum_sleep_quality + 1\n",
    "    else:\n",
    "        sum_sleep_quality\n",
    "        \n",
    "    if df['Target'][i] == df['Rooms'][i]:\n",
    "        sum_rooms = sum_rooms + 1\n",
    "    else:\n",
    "        sum_rooms\n",
    "        \n",
    "    if df['Target'][i] == df['Cleanliness'][i]:\n",
    "        sum_cleanliness = sum_cleanliness + 1\n",
    "    else:\n",
    "        sum_cleanliness\n",
    "        \n",
    "    if df['Target'][i] == df['Service'][i]:\n",
    "        sum_service = sum_service + 1\n",
    "    else:\n",
    "        sum_service\n",
    "        \n",
    "\n",
    "        \n",
    "\n",
    "print(\"Value and Target match:\" + str(round((sum_value/len(df)*100),2)) + \"% of the time\") \n",
    "print(\"Location and Target match:\" + str(round((sum_location/len(df)*100),2)) + \"% of the time\")   \n",
    "print(\"Sleep Quality and Target match:\" + str(round((sum_sleep_quality/len(df)*100),2)) + \"% of the time\")   \n",
    "print(\"Rooms and Target match:\" + str(round((sum_rooms/len(df)*100),2)) + \"% of the time\")   \n",
    "print(\"Cleanliness and Target match:\" + str(round((sum_cleanliness/len(df)*100),2)) + \"% of the time\") \n",
    "print(\"Service and Target match:\" + str(round((sum_service/len(df)*100),2)) + \"% of the time\")   "
   ]
  },
  {
   "cell_type": "markdown",
   "metadata": {},
   "source": [
    "Looking at the above analysis we notice that our previous analysis confirms these findings. We mentioned that sleep quality will have a lot of bad reviews, logically it will not have a high accuracy with the target since only 10% of reviews are bad. Sleep Quality is the least matched with target with a 71% accuracy while Service has a 93% accuracy with the target"
   ]
  },
  {
   "cell_type": "markdown",
   "metadata": {},
   "source": [
    "#### NLP Cleaning"
   ]
  },
  {
   "cell_type": "code",
   "execution_count": null,
   "metadata": {},
   "outputs": [],
   "source": [
    "from IPython.core.display import display, HTML\n",
    "display(HTML(\"<style>.container { width:100% !important; }</style>\")) # Increase cell width\n",
    "display(HTML(\"<style>.rendered_html { font-size: 16px; }</style>\")) # Increase font size\n",
    "\n",
    "# Matplotlib conf\n",
    "import matplotlib.pyplot as plt\n",
    "from matplotlib import interactive\n",
    "%matplotlib inline\n",
    "\n",
    "# Seaborn conf\n",
    "import seaborn as sns\n",
    "sns.set_palette(sns.color_palette(\"seismic\"))\n",
    "\n",
    "# Needed Libraries\n",
    "import sys\n",
    "import pandas\n",
    "import pandas as pd\n",
    "import numpy as np\n",
    "import operator\n",
    "import string\n",
    "import re\n",
    "\n",
    "import nltk\n",
    "from nltk import word_tokenize, pos_tag, ne_chunk\n",
    "from nltk.stem import *\n",
    "from nltk.corpus import stopwords as stop_words\n",
    "from nltk.tokenize import WhitespaceTokenizer\n",
    "\n",
    "\n",
    "\n",
    "from sklearn.feature_extraction.text import CountVectorizer, TfidfTransformer, TfidfVectorizer\n",
    "from sklearn.feature_selection import SelectKBest, chi2\n",
    "from sklearn.metrics import confusion_matrix, accuracy_score\n",
    "from sklearn.naive_bayes import MultinomialNB\n",
    "from sklearn.model_selection import cross_val_score, GridSearchCV, ShuffleSplit\n"
   ]
  },
  {
   "cell_type": "code",
   "execution_count": null,
   "metadata": {},
   "outputs": [],
   "source": [
    "df.head(1)"
   ]
  },
  {
   "cell_type": "code",
   "execution_count": null,
   "metadata": {},
   "outputs": [],
   "source": [
    "def process_text(raw_text):\n",
    "    letters_only = re.sub(\"[^a-zA-Z]\", \" \",raw_text) \n",
    "    words = letters_only.lower().split()\n",
    "    \n",
    "    stops = set(stopwords.words(\"english\")) \n",
    "    not_stop_words = [w for w in words if not w in stops]\n",
    "    \n",
    "    wordnet_lemmatizer = WordNetLemmatizer()\n",
    "    lemmatized = [wordnet_lemmatizer.lemmatize(word) for word in not_stop_words]\n",
    "    \n",
    "    stemmer = PorterStemmer()\n",
    "    stemmed = [stemmer.stem(word) for word in lemmatized]\n",
    "    \n",
    "    return( \" \".join( stemmed ))"
   ]
  },
  {
   "cell_type": "code",
   "execution_count": null,
   "metadata": {},
   "outputs": [],
   "source": [
    "# Cleaning the Overview\n",
    "df['clean_overview'] = df['Overview'].apply(lambda x: process_text(x))\n",
    "df.head()"
   ]
  },
  {
   "cell_type": "code",
   "execution_count": null,
   "metadata": {},
   "outputs": [],
   "source": [
    "# Cleaning the Review\n",
    "df['clean_review'] = df['Review'].apply(lambda x: process_text(x))\n",
    "df.head()"
   ]
  },
  {
   "cell_type": "code",
   "execution_count": null,
   "metadata": {},
   "outputs": [],
   "source": [
    "categories = ['Value', 'Sleep Quality', 'Rooms', 'Location','Cleanliness', 'Service']\n",
    "train, test = train_test_split(df, random_state=42, test_size=0.33, shuffle=True)\n",
    "X_train = train.clean_review\n",
    "X_test = test.clean_review\n",
    "print(X_train.shape)\n",
    "print(X_test.shape)"
   ]
  },
  {
   "cell_type": "markdown",
   "metadata": {},
   "source": [
    "Naives Baes"
   ]
  },
  {
   "cell_type": "code",
   "execution_count": null,
   "metadata": {},
   "outputs": [],
   "source": [
    "from sklearn.pipeline import Pipeline\n",
    "from sklearn.multiclass import OneVsRestClassifier\n",
    "\n",
    "\n",
    "# Define a pipeline combining a text feature extractor with multi lable classifier\n",
    "NB_pipeline = Pipeline([\n",
    "                ('tfidf', TfidfVectorizer()),\n",
    "                ('clf', OneVsRestClassifier(MultinomialNB(\n",
    "                    fit_prior=True, class_prior=None))),\n",
    "            ])\n",
    "for category in categories:\n",
    "    print('... Processing {}'.format(category))\n",
    "    # train the model using X_dtm & y\n",
    "    NB_pipeline.fit(X_train, train[category])\n",
    "    # compute the testing accuracy\n",
    "    prediction = NB_pipeline.predict(X_test)\n",
    "    print('Test accuracy is {}'.format(accuracy_score(test[category], prediction)))"
   ]
  },
  {
   "cell_type": "markdown",
   "metadata": {},
   "source": [
    "Linear SVC"
   ]
  },
  {
   "cell_type": "code",
   "execution_count": null,
   "metadata": {},
   "outputs": [],
   "source": [
    "from sklearn.svm import LinearSVC\n",
    "\n",
    "SVC_pipeline = Pipeline([\n",
    "                ('tfidf', TfidfVectorizer()),\n",
    "                ('clf', OneVsRestClassifier(LinearSVC(), n_jobs=1)),\n",
    "            ])\n",
    "for category in categories:\n",
    "    print('... Processing {}'.format(category))\n",
    "    # train the model using X_dtm & y\n",
    "    SVC_pipeline.fit(X_train, train[category])\n",
    "    # compute the testing accuracy\n",
    "    prediction = SVC_pipeline.predict(X_test)\n",
    "    print('Test accuracy is {}'.format(accuracy_score(test[category], prediction)))"
   ]
  },
  {
   "cell_type": "markdown",
   "metadata": {},
   "source": [
    "Logistic Regression"
   ]
  },
  {
   "cell_type": "code",
   "execution_count": null,
   "metadata": {},
   "outputs": [],
   "source": [
    "from sklearn.linear_model import LogisticRegression\n",
    "\n",
    "LogReg_pipeline = Pipeline([\n",
    "                ('tfidf', TfidfVectorizer()),\n",
    "                ('clf', OneVsRestClassifier(LogisticRegression(solver='sag'), n_jobs=1)),\n",
    "            ])\n",
    "for category in categories:\n",
    "    print('... Processing {}'.format(category))\n",
    "    # train the model using X_dtm & y\n",
    "    LogReg_pipeline.fit(X_train, train[category])\n",
    "    # compute the testing accuracy\n",
    "    prediction = LogReg_pipeline.predict(X_test)\n",
    "    print('Test accuracy is {}'.format(accuracy_score(test[category], prediction)))"
   ]
  },
  {
   "cell_type": "code",
   "execution_count": null,
   "metadata": {},
   "outputs": [],
   "source": []
  },
  {
   "cell_type": "code",
   "execution_count": null,
   "metadata": {},
   "outputs": [],
   "source": [
    "features=df.iloc[:,[3]]\n",
    "features.reset_index(inplace=True)\n",
    "features=features.iloc[:,1:]"
   ]
  },
  {
   "cell_type": "code",
   "execution_count": null,
   "metadata": {},
   "outputs": [],
   "source": [
    "from textblob import TextBlob\n",
    "polarity=[] # list which will contain the polarity of the comments\n",
    "subjectivity=[] # list which will contain the subjectivity of the comments\n",
    "\n",
    "for i in features['Review'].values:\n",
    "    try:\n",
    "        analysis =TextBlob(i)\n",
    "        polarity.append(analysis.sentiment.polarity)\n",
    "        subjectivity.append(analysis.sentiment.subjectivity)\n",
    "        \n",
    "    except:\n",
    "        polarity.append(0)\n",
    "        subjectivity.append(0)"
   ]
  },
  {
   "cell_type": "code",
   "execution_count": null,
   "metadata": {},
   "outputs": [],
   "source": [
    "#Adding the Sentiment Polarity column to the data\n",
    "df['polarity']=polarity\n",
    "df['subjectivity']=subjectivity "
   ]
  },
  {
   "cell_type": "code",
   "execution_count": null,
   "metadata": {},
   "outputs": [],
   "source": [
    "df['label']=' '\n",
    "\n",
    "for i in range(len(df)):\n",
    "    if df['polarity'][i]>0:\n",
    "        df.at[i,'label']=0\n",
    "    elif df['polarity'][i]<0:\n",
    "        df.at[i,'label']=1\n",
    "    else:\n",
    "        df.at[i,'label']=2"
   ]
  },
  {
   "cell_type": "code",
   "execution_count": null,
   "metadata": {},
   "outputs": [],
   "source": [
    "len(df[df['label']== 1])"
   ]
  },
  {
   "cell_type": "code",
   "execution_count": null,
   "metadata": {},
   "outputs": [],
   "source": [
    "def process_text(raw_text):\n",
    "    letters_only = re.sub(\"[^a-zA-Z]\", \" \",raw_text) \n",
    "    words = letters_only.lower().split()\n",
    "    \n",
    "    stops = set(stopwords.words(\"english\")) \n",
    "    not_stop_words = [w for w in words if not w in stops]\n",
    "    \n",
    "    wordnet_lemmatizer = WordNetLemmatizer()\n",
    "    lemmatized = [wordnet_lemmatizer.lemmatize(word) for word in not_stop_words]\n",
    "    \n",
    "#     stemmer = PorterStemmer()\n",
    "#     stemmed = [stemmer.stem(word) for word in not_stop_words]\n",
    "   \n",
    "    \n",
    "    return( \" \".join( lemmatized )) "
   ]
  },
  {
   "cell_type": "code",
   "execution_count": null,
   "metadata": {},
   "outputs": [],
   "source": [
    "# Cleaning the Overview\n",
    "df['clean_overview'] = df['Overview'].apply(lambda x: process_text(x))\n",
    "df.head()"
   ]
  },
  {
   "cell_type": "code",
   "execution_count": null,
   "metadata": {},
   "outputs": [],
   "source": [
    "# Cleaning the Review\n",
    "df['clean_review'] = df['Review'].apply(lambda x: process_text(x))\n",
    "df.head()"
   ]
  },
  {
   "cell_type": "code",
   "execution_count": null,
   "metadata": {},
   "outputs": [],
   "source": [
    "from sklearn.feature_extraction.text import TfidfVectorizer \n",
    "tf_idf = TfidfVectorizer(max_features=50000)\n",
    "tf_data = tf_idf.fit_transform(df[\"clean_review\"])\n",
    "t=tf_data.toarray()\n",
    "labels = df['label'].values.astype('float64')"
   ]
  },
  {
   "cell_type": "code",
   "execution_count": null,
   "metadata": {},
   "outputs": [],
   "source": [
    "# naiver bayes mutinomial \n",
    "from sklearn.model_selection import train_test_split\n",
    "features_train, features_test, labels_train, labels_test = train_test_split(t, labels, test_size = 0.20, random_state = 0)"
   ]
  },
  {
   "cell_type": "code",
   "execution_count": null,
   "metadata": {},
   "outputs": [],
   "source": [
    "#naive bayes bernoulii\n",
    "from sklearn.naive_bayes import GaussianNB, BernoulliNB, MultinomialNB\n",
    "classifier =BernoulliNB()\n",
    "classifier.fit(features_train, labels_train)"
   ]
  },
  {
   "cell_type": "code",
   "execution_count": null,
   "metadata": {},
   "outputs": [],
   "source": [
    "labels_pred = classifier.predict(features_test)"
   ]
  },
  {
   "cell_type": "code",
   "execution_count": null,
   "metadata": {},
   "outputs": [],
   "source": [
    "from sklearn.metrics import accuracy_score \n",
    "print (accuracy_score(labels_test, labels_pred)) #can be calcuated from cm as well"
   ]
  },
  {
   "cell_type": "code",
   "execution_count": null,
   "metadata": {},
   "outputs": [],
   "source": [
    "#sampling of the data\n",
    "neg_review=len(df[df['label']==1])\n",
    "sample_data = df[df['label']==0].sample(neg_review, replace=True)\n",
    "neg_data = df[df['label']==1]"
   ]
  },
  {
   "cell_type": "code",
   "execution_count": null,
   "metadata": {},
   "outputs": [],
   "source": [
    "over_sample_df = pd.concat([sample_data,neg_data], axis=0)\n",
    "over_sample_class_counts=pd.value_counts(over_sample_df['label'])"
   ]
  },
  {
   "cell_type": "code",
   "execution_count": null,
   "metadata": {},
   "outputs": [],
   "source": [
    "over_sample_class_counts.plot(kind='bar')\n",
    "plt.xlabel = 'label' \n",
    "plt.ylabel = 'Frequency'"
   ]
  },
  {
   "cell_type": "code",
   "execution_count": null,
   "metadata": {},
   "outputs": [],
   "source": [
    "from sklearn.feature_extraction.text import TfidfVectorizer \n",
    "tf_idf = TfidfVectorizer(max_features=50000)\n",
    "tf_data = tf_idf.fit_transform(list(over_sample_df['clean_review']))\n",
    "t=tf_data.toarray()\n",
    "\n",
    "obj_dict={}\n",
    "obj_dict[\"Vectorizer\"]=tf_idf\n",
    "\n",
    "labels = over_sample_df['label'].values.astype('float64')"
   ]
  },
  {
   "cell_type": "code",
   "execution_count": null,
   "metadata": {},
   "outputs": [],
   "source": [
    "# naiver bayes mutinomial \n",
    "from sklearn.model_selection import train_test_split\n",
    "features_train, features_test, labels_train, labels_test = train_test_split(t, labels, test_size = 0.20, random_state = 0)"
   ]
  },
  {
   "cell_type": "code",
   "execution_count": null,
   "metadata": {},
   "outputs": [],
   "source": [
    "from sklearn.naive_bayes import GaussianNB, BernoulliNB, MultinomialNB\n",
    "classifier = BernoulliNB()\n",
    "classifier.fit(features_train, labels_train)\n",
    "\n",
    "obj_dict[\"BNB\"]=classifier \n",
    "# Predicting the Test set results\n",
    "labels_pred = classifier.predict(features_test)"
   ]
  },
  {
   "cell_type": "code",
   "execution_count": null,
   "metadata": {},
   "outputs": [],
   "source": [
    "from sklearn.metrics import accuracy_score \n",
    "print (accuracy_score(labels_test, labels_pred)) #can be calcuated from cm as well"
   ]
  },
  {
   "cell_type": "code",
   "execution_count": null,
   "metadata": {},
   "outputs": [],
   "source": [
    "df"
   ]
  },
  {
   "cell_type": "code",
   "execution_count": null,
   "metadata": {},
   "outputs": [],
   "source": [
    "tokenized_reviews = pd.Series(df['clean_review']).apply(lambda x: x.split())\n",
    "\n",
    "print(tokenized_reviews[1])"
   ]
  },
  {
   "cell_type": "code",
   "execution_count": null,
   "metadata": {},
   "outputs": [],
   "source": [
    "import gensim\n",
    "from gensim import corpora\n",
    "\n",
    "dictionary = corpora.Dictionary(tokenized_reviews)"
   ]
  },
  {
   "cell_type": "code",
   "execution_count": null,
   "metadata": {},
   "outputs": [],
   "source": [
    "\n",
    "'''\n",
    "OPTIONAL STEP\n",
    "Remove very rare and very common words:\n",
    "\n",
    "- words appearing less than 15 times\n",
    "- words appearing in more than 10% of all documents\n",
    "'''\n",
    "dictionary.filter_extremes(no_below=15, no_above=0.1, keep_n= 100000)"
   ]
  },
  {
   "cell_type": "code",
   "execution_count": null,
   "metadata": {},
   "outputs": [],
   "source": [
    "doc_term_matrix = [dictionary.doc2bow(rev) for rev in tokenized_reviews]"
   ]
  },
  {
   "cell_type": "code",
   "execution_count": null,
   "metadata": {},
   "outputs": [],
   "source": [
    "# Creating the object for LDA model using gensim library\n",
    "LDA = gensim.models.ldamodel.LdaModel\n",
    "\n",
    "# Build LDA model\n",
    "lda_model = LDA(corpus=doc_term_matrix, id2word=dictionary, num_topics=6, random_state=100,\n",
    "                chunksize=1000, passes=50)"
   ]
  },
  {
   "cell_type": "code",
   "execution_count": null,
   "metadata": {},
   "outputs": [],
   "source": [
    "lda_model.print_topics()"
   ]
  },
  {
   "cell_type": "code",
   "execution_count": null,
   "metadata": {},
   "outputs": [],
   "source": [
    "##### Locationss = df[df['Value'] == 1]\n",
    "Locationss"
   ]
  },
  {
   "cell_type": "code",
   "execution_count": null,
   "metadata": {},
   "outputs": [],
   "source": [
    "from textblob.classifiers import NaiveBayesClassifier as NBC\n",
    "from textblob import TextBlob\n",
    "\n",
    "training_corpus = [\n",
    "                   ('dirty', 'Cleanliness'),\n",
    "                   (\"unclean\", 'Cleanliness'),\n",
    "                   ('polluted', 'Cleanliness'),\n",
    "                   ('garbage', 'Cleanliness'),\n",
    "                   ('expensive', 'Value'),\n",
    "                   ('price', 'Value'),\n",
    "                   ('cost', 'Value'),\n",
    "                   ('rate', 'Value'),\n",
    "                   (\"What an awesome view\", 'Class_A'),\n",
    "                   ('I do not like this dish', 'Class_B')]\n",
    "test_corpus = [\n",
    "                (\"I am not feeling well today.\", 'Class_B'), \n",
    "                (\"I feel brilliant!\", 'Class_A'), \n",
    "                ('Gary is a friend of mine.', 'Class_A'), \n",
    "                (\"I can't believe I'm doing this.\", 'Class_B'), \n",
    "                ('The date was good.', 'Class_A'), ('I do not enjoy my job', 'Class_B')]\n",
    "\n",
    "model = NBC(training_corpus) \n",
    "print(model.classify(\"Their codes are amazing.\"))\n",
    ">>> \"Class_A\" \n",
    "print(model.classify(\"I don't like their computer.\"))\n",
    ">>> \"Class_B\"\n",
    "print(model.accuracy(test_corpus))\n",
    ">>> 0.83 \n",
    "```"
   ]
  },
  {
   "cell_type": "code",
   "execution_count": null,
   "metadata": {},
   "outputs": [],
   "source": [
    "def process_text(raw_text):\n",
    "    letters_only = re.sub(\"[^a-zA-Z]\", \" \",raw_text) \n",
    "    words = letters_only.lower().split()\n",
    "    \n",
    "    stops = set(stopwords.words(\"english\")) \n",
    "    not_stop_words = [w for w in words if not w in stops]\n",
    "    \n",
    "    wordnet_lemmatizer = WordNetLemmatizer()\n",
    "    lemmatized = [wordnet_lemmatizer.lemmatize(word) for word in not_stop_words]\n",
    "    \n",
    "    stemmer = PorterStemmer()\n",
    "    stemmed = [stemmer.stem(word) for word in lemmatized]\n",
    "    \n",
    "    return( \" \".join( stemmed ))  "
   ]
  },
  {
   "cell_type": "code",
   "execution_count": null,
   "metadata": {},
   "outputs": [],
   "source": [
    "# Cleaning the Overview\n",
    "df['clean_overview'] = df['Overview'].apply(lambda x: process_text(x))\n",
    "df.head()"
   ]
  },
  {
   "cell_type": "code",
   "execution_count": null,
   "metadata": {},
   "outputs": [],
   "source": [
    "# Cleaning the Review\n",
    "# Cleaning the Overview\n",
    "df['clean_review'] = df['Review'].apply(lambda x: process_text(x))\n",
    "df.head()"
   ]
  },
  {
   "cell_type": "code",
   "execution_count": null,
   "metadata": {},
   "outputs": [],
   "source": []
  },
  {
   "cell_type": "code",
   "execution_count": null,
   "metadata": {},
   "outputs": [],
   "source": []
  }
 ],
 "metadata": {
  "kernelspec": {
   "display_name": "Python 3",
   "language": "python",
   "name": "python3"
  },
  "language_info": {
   "codemirror_mode": {
    "name": "ipython",
    "version": 3
   },
   "file_extension": ".py",
   "mimetype": "text/x-python",
   "name": "python",
   "nbconvert_exporter": "python",
   "pygments_lexer": "ipython3",
   "version": "3.7.4"
  }
 },
 "nbformat": 4,
 "nbformat_minor": 2
}
