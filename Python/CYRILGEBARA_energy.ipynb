{
 "cells": [
  {
   "cell_type": "markdown",
   "metadata": {},
   "source": [
    "## Cyril Gebara - Individual Assignment - Energy\n",
    "### Energy in Spain: dataset"
   ]
  },
  {
   "cell_type": "markdown",
   "metadata": {},
   "source": [
    "The \"energy.csv\" dataset contains timeseries regarding the power market in Spain.\n",
    "\n",
    "Explanation of columns:\n",
    "* datetime: moment at which the observation happened, in UTC (https://en.wikipedia.org/wiki/Coordinated_Universal_Time)\n",
    "* power_demand: total consumption of electricity in MWh (MegaWatt-hours) [consumption]\n",
    "* nuclear: total energy generated in nuclear power plants in MWh [power generation]\n",
    "* gas: total energy generated in gas powered plants in MWh [power generation]\n",
    "* solar: total energy generated in solar farms in MWh [power generation]\n",
    "* hydro: total energy generated in hydro dams in MWh [power generation]\n",
    "* coal: total energy generated in coal powered plants in MWh [power generation]\n",
    "* wind: total energy generated in wind farms in MWh [power generation]\n",
    "* spot_price: price at which the energy is sold (generation) or bought (consumption) in €/MWh [price]"
   ]
  },
  {
   "cell_type": "markdown",
   "metadata": {},
   "source": [
    "### Import needed libraries"
   ]
  },
  {
   "cell_type": "code",
   "execution_count": 1,
   "metadata": {},
   "outputs": [],
   "source": [
    "import pandas as pd\n",
    "import numpy as np\n",
    "import matplotlib.pyplot as plt\n",
    "%matplotlib inline"
   ]
  },
  {
   "cell_type": "markdown",
   "metadata": {},
   "source": [
    "### Get the data as a pandas Dataframe"
   ]
  },
  {
   "cell_type": "code",
   "execution_count": 2,
   "metadata": {},
   "outputs": [],
   "source": [
    "energy = pd.read_csv(\"energy.csv\")"
   ]
  },
  {
   "cell_type": "markdown",
   "metadata": {},
   "source": [
    "### Calculate the following"
   ]
  },
  {
   "cell_type": "markdown",
   "metadata": {},
   "source": [
    "#### Shape (1 p)"
   ]
  },
  {
   "cell_type": "code",
   "execution_count": 3,
   "metadata": {},
   "outputs": [
    {
     "data": {
      "text/plain": [
       "(8737, 9)"
      ]
     },
     "execution_count": 3,
     "metadata": {},
     "output_type": "execute_result"
    }
   ],
   "source": [
    "energy.shape"
   ]
  },
  {
   "cell_type": "markdown",
   "metadata": {},
   "source": [
    "#### Create a list called \"features\" containing all the columns that are not \"datetime\" (1 p)"
   ]
  },
  {
   "cell_type": "code",
   "execution_count": 4,
   "metadata": {},
   "outputs": [
    {
     "name": "stdout",
     "output_type": "stream",
     "text": [
      "['power_demand', 'nuclear', 'gas', 'solar', 'hydro', 'coal', 'wind', 'spot_price']\n",
      "['power_demand', 'nuclear', 'gas', 'solar', 'hydro', 'coal', 'wind', 'spot_price']\n"
     ]
    }
   ],
   "source": [
    "# use filter or list comprehensions or for loops or dark magic\n",
    "\n",
    "energycolumns = energy.columns\n",
    "\n",
    "# using for loop\n",
    "features = []\n",
    "for column in energycolumns:\n",
    "    if \"datetime\" not in column:\n",
    "        features.append(column)\n",
    "print(features) \n",
    "\n",
    "#using lambda\n",
    "features = list(filter(lambda col: \"datetime\" not in col, energycolumns))\n",
    "print(features)\n",
    "\n",
    "  "
   ]
  },
  {
   "cell_type": "markdown",
   "metadata": {},
   "source": [
    "#### How many NaN are there in the dataset? (1 p)"
   ]
  },
  {
   "cell_type": "code",
   "execution_count": 5,
   "metadata": {
    "ExecuteTime": {
     "end_time": "2020-03-06T20:54:32.613280Z",
     "start_time": "2020-03-06T20:54:32.609720Z"
    }
   },
   "outputs": [
    {
     "name": "stdout",
     "output_type": "stream",
     "text": [
      "2541 nulls available\n"
     ]
    }
   ],
   "source": [
    "# \"Dealing with missing values\" in the slides\n",
    "nulls = energy.isnull().sum().sum()\n",
    "print(f\"{nulls} nulls available\")"
   ]
  },
  {
   "cell_type": "markdown",
   "metadata": {},
   "source": [
    "#### Convert the \"datetime\" column into a Series containing datetime objects (0.5 p)\n",
    "\n",
    "Pass utc=True as argument to your function of choice *cough* pd.to_dat... *cough*"
   ]
  },
  {
   "cell_type": "code",
   "execution_count": 6,
   "metadata": {},
   "outputs": [
    {
     "data": {
      "text/plain": [
       "datetime        datetime64[ns, UTC]\n",
       "power_demand                float64\n",
       "nuclear                     float64\n",
       "gas                         float64\n",
       "solar                       float64\n",
       "hydro                       float64\n",
       "coal                        float64\n",
       "wind                        float64\n",
       "spot_price                  float64\n",
       "dtype: object"
      ]
     },
     "execution_count": 6,
     "metadata": {},
     "output_type": "execute_result"
    }
   ],
   "source": [
    "# pandas datetime functionalities\n",
    "energy[\"datetime\"] = pd.to_datetime(energy[\"datetime\"], utc=True)\n",
    "energy.dtypes"
   ]
  },
  {
   "cell_type": "markdown",
   "metadata": {
    "ExecuteTime": {
     "end_time": "2020-03-06T21:06:59.967351Z",
     "start_time": "2020-03-06T21:06:59.960999Z"
    }
   },
   "source": [
    "#### Create the following columns (0.5 p)\n",
    "* year\n",
    "* month\n",
    "* day\n",
    "* hour\n",
    "* weekday"
   ]
  },
  {
   "cell_type": "code",
   "execution_count": 7,
   "metadata": {},
   "outputs": [],
   "source": [
    "# pandas datetime functionalities\n",
    "energy[\"year\"] = energy[\"datetime\"].dt.year\n",
    "energy[\"month\"] = energy[\"datetime\"].dt.month\n",
    "energy[\"day\"] = energy[\"datetime\"].dt.day\n",
    "energy[\"hour\"] = energy[\"datetime\"].dt.hour\n",
    "energy[\"weekday\"] = energy[\"datetime\"].dt.weekday"
   ]
  },
  {
   "cell_type": "markdown",
   "metadata": {},
   "source": [
    "#### Create a \"weekend\" column containing True if day is Sat/Sun or False if day is Mon/Tue/... (1 p)"
   ]
  },
  {
   "cell_type": "code",
   "execution_count": 8,
   "metadata": {
    "ExecuteTime": {
     "end_time": "2020-03-06T21:11:01.576113Z",
     "start_time": "2020-03-06T21:11:01.572485Z"
    }
   },
   "outputs": [],
   "source": [
    "# feature engineering\n",
    "# use your already beloved (map + lambda functions)\n",
    "# or list comprehensions\n",
    "energy[\"weekend\"] = energy[\"weekday\"].map(lambda x: x>4)"
   ]
  },
  {
   "cell_type": "markdown",
   "metadata": {},
   "source": [
    "#### Calculate the average values per weekday for the columns in \"features\" list (1 p)"
   ]
  },
  {
   "cell_type": "code",
   "execution_count": 9,
   "metadata": {
    "ExecuteTime": {
     "end_time": "2020-03-06T21:16:03.022096Z",
     "start_time": "2020-03-06T21:16:03.018931Z"
    }
   },
   "outputs": [
    {
     "data": {
      "text/html": [
       "<div>\n",
       "<style scoped>\n",
       "    .dataframe tbody tr th:only-of-type {\n",
       "        vertical-align: middle;\n",
       "    }\n",
       "\n",
       "    .dataframe tbody tr th {\n",
       "        vertical-align: top;\n",
       "    }\n",
       "\n",
       "    .dataframe thead th {\n",
       "        text-align: right;\n",
       "    }\n",
       "</style>\n",
       "<table border=\"1\" class=\"dataframe\">\n",
       "  <thead>\n",
       "    <tr style=\"text-align: right;\">\n",
       "      <th></th>\n",
       "      <th>power_demand</th>\n",
       "      <th>nuclear</th>\n",
       "      <th>gas</th>\n",
       "      <th>solar</th>\n",
       "      <th>hydro</th>\n",
       "      <th>coal</th>\n",
       "      <th>wind</th>\n",
       "      <th>spot_price</th>\n",
       "    </tr>\n",
       "    <tr>\n",
       "      <th>weekday</th>\n",
       "      <th></th>\n",
       "      <th></th>\n",
       "      <th></th>\n",
       "      <th></th>\n",
       "      <th></th>\n",
       "      <th></th>\n",
       "      <th></th>\n",
       "      <th></th>\n",
       "    </tr>\n",
       "  </thead>\n",
       "  <tbody>\n",
       "    <tr>\n",
       "      <td>0</td>\n",
       "      <td>29207.582306</td>\n",
       "      <td>6390.911769</td>\n",
       "      <td>6483.540032</td>\n",
       "      <td>1382.902420</td>\n",
       "      <td>2919.916173</td>\n",
       "      <td>1282.017737</td>\n",
       "      <td>5846.823379</td>\n",
       "      <td>49.239688</td>\n",
       "    </tr>\n",
       "    <tr>\n",
       "      <td>1</td>\n",
       "      <td>29760.259375</td>\n",
       "      <td>6391.128526</td>\n",
       "      <td>6716.402003</td>\n",
       "      <td>1400.603377</td>\n",
       "      <td>2870.550401</td>\n",
       "      <td>1478.384477</td>\n",
       "      <td>5795.669712</td>\n",
       "      <td>50.202580</td>\n",
       "    </tr>\n",
       "    <tr>\n",
       "      <td>2</td>\n",
       "      <td>29814.897436</td>\n",
       "      <td>6399.605689</td>\n",
       "      <td>6448.102244</td>\n",
       "      <td>1386.101098</td>\n",
       "      <td>2856.419471</td>\n",
       "      <td>1444.195997</td>\n",
       "      <td>6451.173798</td>\n",
       "      <td>48.811442</td>\n",
       "    </tr>\n",
       "    <tr>\n",
       "      <td>3</td>\n",
       "      <td>29913.133253</td>\n",
       "      <td>6408.186458</td>\n",
       "      <td>6404.798397</td>\n",
       "      <td>1396.425420</td>\n",
       "      <td>2904.324439</td>\n",
       "      <td>1364.827287</td>\n",
       "      <td>6452.391747</td>\n",
       "      <td>48.817388</td>\n",
       "    </tr>\n",
       "    <tr>\n",
       "      <td>4</td>\n",
       "      <td>29587.505689</td>\n",
       "      <td>6404.227003</td>\n",
       "      <td>6362.183894</td>\n",
       "      <td>1437.464229</td>\n",
       "      <td>3027.978526</td>\n",
       "      <td>1294.994618</td>\n",
       "      <td>6071.198638</td>\n",
       "      <td>48.785793</td>\n",
       "    </tr>\n",
       "    <tr>\n",
       "      <td>5</td>\n",
       "      <td>26545.257933</td>\n",
       "      <td>6325.359535</td>\n",
       "      <td>4965.318109</td>\n",
       "      <td>1418.782988</td>\n",
       "      <td>2604.202644</td>\n",
       "      <td>1057.801583</td>\n",
       "      <td>5826.916346</td>\n",
       "      <td>45.429864</td>\n",
       "    </tr>\n",
       "    <tr>\n",
       "      <td>6</td>\n",
       "      <td>24759.381490</td>\n",
       "      <td>6353.419231</td>\n",
       "      <td>4089.475000</td>\n",
       "      <td>1373.876790</td>\n",
       "      <td>2439.531651</td>\n",
       "      <td>912.083292</td>\n",
       "      <td>6061.215064</td>\n",
       "      <td>42.653966</td>\n",
       "    </tr>\n",
       "  </tbody>\n",
       "</table>\n",
       "</div>"
      ],
      "text/plain": [
       "         power_demand      nuclear          gas        solar        hydro  \\\n",
       "weekday                                                                     \n",
       "0        29207.582306  6390.911769  6483.540032  1382.902420  2919.916173   \n",
       "1        29760.259375  6391.128526  6716.402003  1400.603377  2870.550401   \n",
       "2        29814.897436  6399.605689  6448.102244  1386.101098  2856.419471   \n",
       "3        29913.133253  6408.186458  6404.798397  1396.425420  2904.324439   \n",
       "4        29587.505689  6404.227003  6362.183894  1437.464229  3027.978526   \n",
       "5        26545.257933  6325.359535  4965.318109  1418.782988  2604.202644   \n",
       "6        24759.381490  6353.419231  4089.475000  1373.876790  2439.531651   \n",
       "\n",
       "                coal         wind  spot_price  \n",
       "weekday                                        \n",
       "0        1282.017737  5846.823379   49.239688  \n",
       "1        1478.384477  5795.669712   50.202580  \n",
       "2        1444.195997  6451.173798   48.811442  \n",
       "3        1364.827287  6452.391747   48.817388  \n",
       "4        1294.994618  6071.198638   48.785793  \n",
       "5        1057.801583  5826.916346   45.429864  \n",
       "6         912.083292  6061.215064   42.653966  "
      ]
     },
     "execution_count": 9,
     "metadata": {},
     "output_type": "execute_result"
    }
   ],
   "source": [
    "# features is the list you created in the beginning\n",
    "energy.groupby(\"weekday\").mean()[features]"
   ]
  },
  {
   "cell_type": "markdown",
   "metadata": {},
   "source": [
    "#### Create a function that returns the season out of a datetime object (0.5 p)\n",
    "Use that function to create a \"season\" column"
   ]
  },
  {
   "cell_type": "code",
   "execution_count": 10,
   "metadata": {
    "ExecuteTime": {
     "end_time": "2020-03-06T21:20:10.045629Z",
     "start_time": "2020-03-06T21:20:10.035835Z"
    }
   },
   "outputs": [],
   "source": [
    "# function that returns the season out\n",
    "\n",
    "from datetime import date\n",
    "\n",
    "def season(date_to_convert):  # the function expects a datetime.date object as input\n",
    "    \n",
    "    dateyear = date_to_convert.year\n",
    "    \n",
    "    seasons = [\n",
    "        (\"winter\", date(dateyear, 12, 21), date(dateyear, 12, 31)),\n",
    "        (\"spring\", date(dateyear, 3, 20), date(dateyear, 6, 21)),\n",
    "        (\"summer\", date(dateyear, 6, 22), date(dateyear, 9, 21)),\n",
    "        (\"fall\", date(dateyear, 9, 22), date(dateyear, 12, 20)),\n",
    "        (\"winter\", date(dateyear, 1, 1), date(dateyear, 3, 19))\n",
    "    ]\n",
    "    for elem in seasons:\n",
    "        if date_to_convert>=elem[1] and date_to_convert<=elem[2]:  \n",
    "            return elem[0]\n",
    "        "
   ]
  },
  {
   "cell_type": "code",
   "execution_count": 11,
   "metadata": {},
   "outputs": [],
   "source": [
    "#creating season column using the above function\n",
    "energy[\"season\"] = energy[\"datetime\"].map(season)"
   ]
  },
  {
   "cell_type": "markdown",
   "metadata": {},
   "source": [
    "#### Calculate average demand and spot_price for each season (1 p)"
   ]
  },
  {
   "cell_type": "code",
   "execution_count": 12,
   "metadata": {},
   "outputs": [
    {
     "data": {
      "text/html": [
       "<div>\n",
       "<style scoped>\n",
       "    .dataframe tbody tr th:only-of-type {\n",
       "        vertical-align: middle;\n",
       "    }\n",
       "\n",
       "    .dataframe tbody tr th {\n",
       "        vertical-align: top;\n",
       "    }\n",
       "\n",
       "    .dataframe thead th {\n",
       "        text-align: right;\n",
       "    }\n",
       "</style>\n",
       "<table border=\"1\" class=\"dataframe\">\n",
       "  <thead>\n",
       "    <tr style=\"text-align: right;\">\n",
       "      <th></th>\n",
       "      <th>power_demand</th>\n",
       "      <th>spot_price</th>\n",
       "    </tr>\n",
       "    <tr>\n",
       "      <th>season</th>\n",
       "      <th></th>\n",
       "      <th></th>\n",
       "    </tr>\n",
       "  </thead>\n",
       "  <tbody>\n",
       "    <tr>\n",
       "      <td>fall</td>\n",
       "      <td>28242.443241</td>\n",
       "      <td>43.562639</td>\n",
       "    </tr>\n",
       "    <tr>\n",
       "      <td>spring</td>\n",
       "      <td>27157.150399</td>\n",
       "      <td>48.790598</td>\n",
       "    </tr>\n",
       "    <tr>\n",
       "      <td>summer</td>\n",
       "      <td>29235.177536</td>\n",
       "      <td>46.509909</td>\n",
       "    </tr>\n",
       "    <tr>\n",
       "      <td>winter</td>\n",
       "      <td>29481.103975</td>\n",
       "      <td>52.033360</td>\n",
       "    </tr>\n",
       "  </tbody>\n",
       "</table>\n",
       "</div>"
      ],
      "text/plain": [
       "        power_demand  spot_price\n",
       "season                          \n",
       "fall    28242.443241   43.562639\n",
       "spring  27157.150399   48.790598\n",
       "summer  29235.177536   46.509909\n",
       "winter  29481.103975   52.033360"
      ]
     },
     "execution_count": 12,
     "metadata": {},
     "output_type": "execute_result"
    }
   ],
   "source": [
    "energy.groupby(\"season\")[[\"power_demand\", \"spot_price\"]].mean()"
   ]
  },
  {
   "cell_type": "markdown",
   "metadata": {},
   "source": [
    "#### Why are there so many NaN values in the \"solar\" column? (0.5 p - extra)"
   ]
  },
  {
   "cell_type": "code",
   "execution_count": 13,
   "metadata": {},
   "outputs": [
    {
     "name": "stdout",
     "output_type": "stream",
     "text": [
      "2392 nulls for solar since at night there is no sun so the solar panel doesn't work.\n"
     ]
    }
   ],
   "source": [
    "null = energy[\"solar\"].isnull().sum()\n",
    "print(f\"{null} nulls for solar since at night there is no sun so the solar panel doesn't work.\")"
   ]
  },
  {
   "cell_type": "markdown",
   "metadata": {},
   "source": [
    "#### Calculate the total income for each type of power generation and total costs for consumption (4 p) \n",
    "Return a dictionary like the following one:\n",
    "\n",
    "{ \"consumption\": cost_consumption, \"wind\": income_wind, \"solar\": income_solar, \"gas\": income_gas, ...} "
   ]
  },
  {
   "cell_type": "code",
   "execution_count": 14,
   "metadata": {},
   "outputs": [
    {
     "data": {
      "text/plain": [
       "{'power_demand': 12115827296.223999,\n",
       " 'nuclear': 2674992442.1679997,\n",
       " 'gas': 2577997502.639,\n",
       " 'solar': 430157479.785,\n",
       " 'hydro': 1179143190.696,\n",
       " 'coal': 591516973.36,\n",
       " 'wind': 2412917661.565}"
      ]
     },
     "execution_count": 14,
     "metadata": {},
     "output_type": "execute_result"
    }
   ],
   "source": [
    "# Income = energy_generated * price\n",
    "# Cost = energy_bought * price\n",
    "\n",
    "\n",
    "costandincomedict = {}\n",
    "filteredwithoutprice = [feature for feature in features if feature != \"spot_price\"]\n",
    "\n",
    "for col in filteredwithoutprice:\n",
    "    costandincomedict[col] = np.sum(energy[col] * energy[\"spot_price\"])\n",
    "    \n",
    "costandincomedict\n"
   ]
  },
  {
   "cell_type": "markdown",
   "metadata": {},
   "source": [
    "#### Create two plots: (2 p)\n",
    "* Hourly average power demand\n",
    "* Hourly average spot price"
   ]
  },
  {
   "cell_type": "code",
   "execution_count": 15,
   "metadata": {},
   "outputs": [
    {
     "name": "stdout",
     "output_type": "stream",
     "text": [
      "Hourly average power demand\n"
     ]
    },
    {
     "data": {
      "image/png": "[encoded data removed]",
      "text/plain": [
       "<Figure size 432x288 with 1 Axes>"
      ]
     },
     "metadata": {
      "needs_background": "light"
     },
     "output_type": "display_data"
    },
    {
     "name": "stdout",
     "output_type": "stream",
     "text": [
      "Hourly average spot price\n"
     ]
    },
    {
     "data": {
      "image/png": "[encoded data removed]",
      "text/plain": [
       "<Figure size 432x288 with 1 Axes>"
      ]
     },
     "metadata": {
      "needs_background": "light"
     },
     "output_type": "display_data"
    }
   ],
   "source": [
    "df_avg = energy.groupby(\"hour\").mean()[[\"power_demand\", \"spot_price\"]]\n",
    "\n",
    "print(\"Hourly average power demand\")\n",
    "plt.plot(df_avg.index, df_avg[\"power_demand\"])\n",
    "plt.show()\n",
    "\n",
    "print(\"Hourly average spot price\")\n",
    "plt.plot(df_avg.index, df_avg[\"spot_price\"])\n",
    "plt.show()"
   ]
  },
  {
   "cell_type": "markdown",
   "metadata": {
    "ExecuteTime": {
     "end_time": "2020-03-06T21:37:24.835762Z",
     "start_time": "2020-03-06T21:37:24.831582Z"
    }
   },
   "source": [
    "#### Create a categorical variable called \"wind_category\" using the \"wind\" column (2 p)\n",
    "Create 3 categories: low, mid, high"
   ]
  },
  {
   "cell_type": "code",
   "execution_count": 16,
   "metadata": {},
   "outputs": [
    {
     "data": {
      "text/html": [
       "<div>\n",
       "<style scoped>\n",
       "    .dataframe tbody tr th:only-of-type {\n",
       "        vertical-align: middle;\n",
       "    }\n",
       "\n",
       "    .dataframe tbody tr th {\n",
       "        vertical-align: top;\n",
       "    }\n",
       "\n",
       "    .dataframe thead th {\n",
       "        text-align: right;\n",
       "    }\n",
       "</style>\n",
       "<table border=\"1\" class=\"dataframe\">\n",
       "  <thead>\n",
       "    <tr style=\"text-align: right;\">\n",
       "      <th></th>\n",
       "      <th>datetime</th>\n",
       "      <th>power_demand</th>\n",
       "      <th>nuclear</th>\n",
       "      <th>gas</th>\n",
       "      <th>solar</th>\n",
       "      <th>hydro</th>\n",
       "      <th>coal</th>\n",
       "      <th>wind</th>\n",
       "      <th>spot_price</th>\n",
       "      <th>year</th>\n",
       "      <th>month</th>\n",
       "      <th>day</th>\n",
       "      <th>hour</th>\n",
       "      <th>weekday</th>\n",
       "      <th>weekend</th>\n",
       "      <th>season</th>\n",
       "      <th>windcategory</th>\n",
       "    </tr>\n",
       "  </thead>\n",
       "  <tbody>\n",
       "    <tr>\n",
       "      <td>8732</td>\n",
       "      <td>2019-12-30 19:00:00+00:00</td>\n",
       "      <td>31160.6</td>\n",
       "      <td>7106.3</td>\n",
       "      <td>4400.0</td>\n",
       "      <td>0.1</td>\n",
       "      <td>7910.8</td>\n",
       "      <td>685.0</td>\n",
       "      <td>2013.5</td>\n",
       "      <td>47.50</td>\n",
       "      <td>2019</td>\n",
       "      <td>12</td>\n",
       "      <td>30</td>\n",
       "      <td>19</td>\n",
       "      <td>0</td>\n",
       "      <td>False</td>\n",
       "      <td>winter</td>\n",
       "      <td>low</td>\n",
       "    </tr>\n",
       "    <tr>\n",
       "      <td>8733</td>\n",
       "      <td>2019-12-30 20:00:00+00:00</td>\n",
       "      <td>31152.9</td>\n",
       "      <td>7106.3</td>\n",
       "      <td>4832.3</td>\n",
       "      <td>NaN</td>\n",
       "      <td>7517.6</td>\n",
       "      <td>681.0</td>\n",
       "      <td>2096.7</td>\n",
       "      <td>46.42</td>\n",
       "      <td>2019</td>\n",
       "      <td>12</td>\n",
       "      <td>30</td>\n",
       "      <td>20</td>\n",
       "      <td>0</td>\n",
       "      <td>False</td>\n",
       "      <td>winter</td>\n",
       "      <td>low</td>\n",
       "    </tr>\n",
       "    <tr>\n",
       "      <td>8734</td>\n",
       "      <td>2019-12-30 21:00:00+00:00</td>\n",
       "      <td>29151.0</td>\n",
       "      <td>7105.3</td>\n",
       "      <td>4467.0</td>\n",
       "      <td>NaN</td>\n",
       "      <td>7080.2</td>\n",
       "      <td>698.0</td>\n",
       "      <td>2028.3</td>\n",
       "      <td>42.76</td>\n",
       "      <td>2019</td>\n",
       "      <td>12</td>\n",
       "      <td>30</td>\n",
       "      <td>21</td>\n",
       "      <td>0</td>\n",
       "      <td>False</td>\n",
       "      <td>winter</td>\n",
       "      <td>low</td>\n",
       "    </tr>\n",
       "    <tr>\n",
       "      <td>8735</td>\n",
       "      <td>2019-12-30 22:00:00+00:00</td>\n",
       "      <td>26989.6</td>\n",
       "      <td>7107.2</td>\n",
       "      <td>4672.2</td>\n",
       "      <td>NaN</td>\n",
       "      <td>6716.1</td>\n",
       "      <td>626.0</td>\n",
       "      <td>2031.8</td>\n",
       "      <td>40.88</td>\n",
       "      <td>2019</td>\n",
       "      <td>12</td>\n",
       "      <td>30</td>\n",
       "      <td>22</td>\n",
       "      <td>0</td>\n",
       "      <td>False</td>\n",
       "      <td>winter</td>\n",
       "      <td>low</td>\n",
       "    </tr>\n",
       "    <tr>\n",
       "      <td>8736</td>\n",
       "      <td>2019-12-30 23:00:00+00:00</td>\n",
       "      <td>24350.5</td>\n",
       "      <td>7099.0</td>\n",
       "      <td>3765.9</td>\n",
       "      <td>NaN</td>\n",
       "      <td>6403.5</td>\n",
       "      <td>528.0</td>\n",
       "      <td>1927.2</td>\n",
       "      <td>37.55</td>\n",
       "      <td>2019</td>\n",
       "      <td>12</td>\n",
       "      <td>30</td>\n",
       "      <td>23</td>\n",
       "      <td>0</td>\n",
       "      <td>False</td>\n",
       "      <td>winter</td>\n",
       "      <td>low</td>\n",
       "    </tr>\n",
       "  </tbody>\n",
       "</table>\n",
       "</div>"
      ],
      "text/plain": [
       "                      datetime  power_demand  nuclear     gas  solar   hydro  \\\n",
       "8732 2019-12-30 19:00:00+00:00       31160.6   7106.3  4400.0    0.1  7910.8   \n",
       "8733 2019-12-30 20:00:00+00:00       31152.9   7106.3  4832.3    NaN  7517.6   \n",
       "8734 2019-12-30 21:00:00+00:00       29151.0   7105.3  4467.0    NaN  7080.2   \n",
       "8735 2019-12-30 22:00:00+00:00       26989.6   7107.2  4672.2    NaN  6716.1   \n",
       "8736 2019-12-30 23:00:00+00:00       24350.5   7099.0  3765.9    NaN  6403.5   \n",
       "\n",
       "       coal    wind  spot_price  year  month  day  hour  weekday  weekend  \\\n",
       "8732  685.0  2013.5       47.50  2019     12   30    19        0    False   \n",
       "8733  681.0  2096.7       46.42  2019     12   30    20        0    False   \n",
       "8734  698.0  2028.3       42.76  2019     12   30    21        0    False   \n",
       "8735  626.0  2031.8       40.88  2019     12   30    22        0    False   \n",
       "8736  528.0  1927.2       37.55  2019     12   30    23        0    False   \n",
       "\n",
       "      season windcategory  \n",
       "8732  winter          low  \n",
       "8733  winter          low  \n",
       "8734  winter          low  \n",
       "8735  winter          low  \n",
       "8736  winter          low  "
      ]
     },
     "execution_count": 16,
     "metadata": {},
     "output_type": "execute_result"
    }
   ],
   "source": [
    "energy[\"windcategory\"] = pd.cut(energy[\"wind\"], bins=3, labels=[\"low\", \"mid\", \"high\"])\n",
    "energy.tail()"
   ]
  },
  {
   "cell_type": "code",
   "execution_count": null,
   "metadata": {},
   "outputs": [],
   "source": []
  },
  {
   "cell_type": "markdown",
   "metadata": {},
   "source": [
    "#### Which is the power generation type that has generated the most energy? And the least? (2 p)"
   ]
  },
  {
   "cell_type": "code",
   "execution_count": 17,
   "metadata": {},
   "outputs": [
    {
     "name": "stdout",
     "output_type": "stream",
     "text": [
      "The power type that generates the most energy is nuclear with 55758092.99999979\n",
      "The power type that generates the least energy is solar with 8878077.800000014\n"
     ]
    }
   ],
   "source": [
    "energygenerators = [\"nuclear\", \"gas\", \"solar\", \"hydro\", \"coal\", \"wind\"]\n",
    "generator = energy[energygenerators].sum().sort_values(ascending=False)\n",
    "max = generator[0]\n",
    "min = generator[-1]\n",
    "print(f\"The power type that generates the most energy is nuclear with {max}\")\n",
    "print(f\"The power type that generates the least energy is solar with {min}\")"
   ]
  }
 ],
 "metadata": {
  "kernelspec": {
   "display_name": "Python 3",
   "language": "python",
   "name": "python3"
  },
  "language_info": {
   "codemirror_mode": {
    "name": "ipython",
    "version": 3
   },
   "file_extension": ".py",
   "mimetype": "text/x-python",
   "name": "python",
   "nbconvert_exporter": "python",
   "pygments_lexer": "ipython3",
   "version": "3.7.4"
  },
  "toc": {
   "base_numbering": 1,
   "nav_menu": {},
   "number_sections": true,
   "sideBar": true,
   "skip_h1_title": false,
   "title_cell": "Table of Contents",
   "title_sidebar": "Contents",
   "toc_cell": false,
   "toc_position": {},
   "toc_section_display": true,
   "toc_window_display": false
  }
 },
 "nbformat": 4,
 "nbformat_minor": 2
}
