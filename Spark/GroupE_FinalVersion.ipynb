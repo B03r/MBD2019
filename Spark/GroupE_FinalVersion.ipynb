{
 "cells": [
  {
   "cell_type": "markdown",
   "metadata": {},
   "source": [
    "# Group E"
   ]
  },
  {
   "cell_type": "markdown",
   "metadata": {},
   "source": [
    "***\n",
    "\n",
    "<div class=\"alert alert-block alert-info\">\n",
    "    \n",
    "# INTRODUCTION\n",
    "\n",
    "As the price of tickets is decreasing, people are travelling more for business and pleasure. Moreover, the supply chains are linked between countries and continents by airplanes, boats, cars etc.. So the increase in demand for mobility leads to a high dependence on transportation systems. When planes are delayed because of several different reasons, many people get late to business meetings, products don’t arrive on time and all of these lead to additional costs and sometimes loss in profit for companies.\n",
    "\n",
    "<br>\n",
    "    \n",
    "An analysis will be done on a dataset of January 2008 flights in USA by merging weather variables of each airport depending on location and day to see if weather is an important factor for when flights are delayed or not.\n",
    "    \n",
    "    Outline\n",
    "        I- Read the Data and Prepare the Dataset\n",
    "        II- Analyze the Data\n",
    "        III- Answer the Questions\n",
    "    \n",
    "</div>"
   ]
  },
  {
   "cell_type": "markdown",
   "metadata": {},
   "source": [
    "### ENVIRONMENT SETUP"
   ]
  },
  {
   "cell_type": "code",
   "execution_count": 1,
   "metadata": {
    "ExecuteTime": {
     "end_time": "2020-03-13T12:18:20.412954Z",
     "start_time": "2020-03-13T12:18:17.587795Z"
    }
   },
   "outputs": [],
   "source": [
    "import findspark\n",
    "findspark.init()\n",
    "\n",
    "from pyspark import SparkContext\n",
    "from pyspark.sql import SparkSession\n",
    "sc = SparkContext.getOrCreate()\n",
    "spark = SparkSession(sc)\n",
    "\n",
    "\n",
    "from pyspark.sql import functions as F\n",
    "from pyspark.sql import types as T\n",
    "from IPython.display import display, Markdown"
   ]
  },
  {
   "cell_type": "markdown",
   "metadata": {},
   "source": [
    "<br>\n",
    "\n",
    "### READ DATA"
   ]
  },
  {
   "cell_type": "markdown",
   "metadata": {},
   "source": [
    "**Reading flights data**"
   ]
  },
  {
   "cell_type": "code",
   "execution_count": 2,
   "metadata": {
    "ExecuteTime": {
     "end_time": "2020-03-13T12:18:24.486053Z",
     "start_time": "2020-03-13T12:18:20.417285Z"
    }
   },
   "outputs": [
    {
     "name": "stdout",
     "output_type": "stream",
     "text": [
      "root\n",
      " |-- Month: string (nullable = true)\n",
      " |-- DayofMonth: string (nullable = true)\n",
      " |-- DayOfWeek: string (nullable = true)\n",
      " |-- ArrDelay: string (nullable = true)\n",
      " |-- DepDelay: string (nullable = true)\n",
      " |-- Origin: string (nullable = true)\n",
      " |-- Dest: string (nullable = true)\n",
      " |-- Cancelled: string (nullable = true)\n",
      " |-- Diverted: string (nullable = true)\n",
      " |-- WeatherDelay: string (nullable = true)\n",
      "\n"
     ]
    },
    {
     "data": {
      "text/markdown": [
       "This DataFrame has **100000 rows**."
      ],
      "text/plain": [
       "<IPython.core.display.Markdown object>"
      ]
     },
     "metadata": {},
     "output_type": "display_data"
    }
   ],
   "source": [
    "flightsDF = spark.read\\\n",
    "                 .option(\"header\", \"true\")\\\n",
    "                 .csv(\"flights_jan08.csv\")\n",
    "\n",
    "\n",
    "# selecting only variables needed for the analysis\n",
    "flightsDF = flightsDF.select([\"Month\", \"DayofMonth\", \"DayOfWeek\", \"ArrDelay\", \"DepDelay\", \n",
    "                              \"Origin\", \"Dest\", \"Cancelled\", \"CancellationCode\", \"Diverted\", \"WeatherDelay\"])\n",
    "\n",
    "\n",
    "flightsDF.printSchema()\n",
    "display(Markdown(\"This DataFrame has **%d rows**.\" % flightsDF.count()))\n"
   ]
  },
  {
   "cell_type": "markdown",
   "metadata": {},
   "source": [
    "**Reading weather info files**"
   ]
  },
  {
   "cell_type": "markdown",
   "metadata": {
    "ExecuteTime": {
     "end_time": "2020-03-13T11:54:06.430002Z",
     "start_time": "2020-03-13T11:54:06.424794Z"
    }
   },
   "source": [
    "<div>\n",
    "\n",
    "https://www.ncdc.noaa.gov/orders/qclcd/\n",
    "                                                   \n",
    "    We downloaded this zip file: QCLCD200801.zip to have weather conditions of the airports in January 2008. From the zip file, we used the daily(weatherDF), and station (airportDF) datasets.\n",
    "\n",
    "</div>\n",
    "\n",
    "Attached with the assignment is the zip file containing two csv files in case the link did not work"
   ]
  },
  {
   "cell_type": "code",
   "execution_count": 3,
   "metadata": {
    "ExecuteTime": {
     "end_time": "2020-03-13T12:18:24.837446Z",
     "start_time": "2020-03-13T12:18:24.490136Z"
    }
   },
   "outputs": [],
   "source": [
    "# csv containing weather info and area codes\n",
    "\n",
    "weatherDF = spark.read\\\n",
    "                 .option(\"header\", \"true\")\\\n",
    "                 .csv(\"Weather per day per station.csv\")\n",
    "\n",
    "weatherDF.printSchema()\n",
    "display(Markdown(\"This DataFrame has **%d rows**.\" % weatherDF.count()))"
   ]
  },
  {
   "cell_type": "code",
   "execution_count": 4,
   "metadata": {
    "ExecuteTime": {
     "end_time": "2020-03-13T12:18:25.123838Z",
     "start_time": "2020-03-13T12:18:24.839527Z"
    }
   },
   "outputs": [
    {
     "name": "stdout",
     "output_type": "stream",
     "text": [
      "root\n",
      " |-- WBAN: string (nullable = true)\n",
      " |-- WMO: string (nullable = true)\n",
      " |-- CallSign: string (nullable = true)\n",
      " |-- ClimateDivisionCode: string (nullable = true)\n",
      " |-- ClimateDivisionStateCode: string (nullable = true)\n",
      " |-- ClimateDivisionStationCode: string (nullable = true)\n",
      " |-- Name: string (nullable = true)\n",
      " |-- State: string (nullable = true)\n",
      " |-- Location: string (nullable = true)\n",
      " |-- Latitude: string (nullable = true)\n",
      " |-- Longitude: string (nullable = true)\n",
      " |-- GroundHeight: string (nullable = true)\n",
      " |-- StationHeight: string (nullable = true)\n",
      " |-- Barometer: string (nullable = true)\n",
      " |-- TimeZone: string (nullable = true)\n",
      "\n"
     ]
    },
    {
     "data": {
      "text/markdown": [
       "This DataFrame has **2279 rows**."
      ],
      "text/plain": [
       "<IPython.core.display.Markdown object>"
      ]
     },
     "metadata": {},
     "output_type": "display_data"
    }
   ],
   "source": [
    "# csv containing a mapping of area code to airport name\n",
    "\n",
    "airportDF = spark.read\\\n",
    "                 .option(\"header\", \"true\")\\\n",
    "                 .csv(\"Airport Code.csv\")\n",
    "\n",
    "airportDF.printSchema()\n",
    "display(Markdown(\"This DataFrame has **%d rows**.\" % airportDF.count()))"
   ]
  },
  {
   "cell_type": "code",
   "execution_count": 5,
   "metadata": {
    "ExecuteTime": {
     "end_time": "2020-03-13T12:18:25.383271Z",
     "start_time": "2020-03-13T12:18:25.125545Z"
    }
   },
   "outputs": [
    {
     "data": {
      "text/plain": [
       "DataFrame[WBAN: string, YearMonthDay: string, Tmax: string, TmaxFlag: string, Tmin: string, TminFlag: string, Tavg: string, TavgFlag: string, Depart: string, DepartFlag: string, DewPoint: string, DewPointFlag: string, WetBulb: string, WetBulbFlag: string, Heat: string, HeatFlag: string, Cool: string, CoolFlag: string, Sunrise: string, SunriseFlag: string, Sunset: string, SunsetFlag: string, CodeSum: string, CodeSumFlag: string, Depth: string, DepthFlag: string, Water1: string, Water1Flag: string, SnowFall: string, SnowFallFlag: string, PrecipTotal: string, PrecipTotalFlag: string, StnPressure: string, StnPressureFlag: string, SeaLevel: string, SeaLevelFlag: string, ResultSpeed: string, ResultSpeedFlag: string, ResultDir: string, ResultDirFlag: string, AvgSpeed: string, AvgSpeedFlag: string, Max5Speed: string, Max5SpeedFlag: string, Max5Dir: string, Max5DirFlag: string, Max2Speed: string, Max2SpeedFlag: string, Max2Dir: string, Max2DirFlag: string, AirportCode: string]"
      ]
     },
     "execution_count": 5,
     "metadata": {},
     "output_type": "execute_result"
    }
   ],
   "source": [
    "# joining both files to finally have a common variable with main dataset January2008\n",
    "\n",
    "joinedDF = weatherDF.join(airportDF, on = \"WBAN\")\\\n",
    "                    .select(weatherDF[\"*\"],\n",
    "                            airportDF[\"CallSign\"].alias(\"AirportCode\"))\n",
    "\n",
    "joinedDF.cache()"
   ]
  },
  {
   "cell_type": "markdown",
   "metadata": {},
   "source": [
    "**Joining all files**"
   ]
  },
  {
   "cell_type": "code",
   "execution_count": 6,
   "metadata": {
    "ExecuteTime": {
     "end_time": "2020-03-13T12:18:25.499307Z",
     "start_time": "2020-03-13T12:18:25.385810Z"
    }
   },
   "outputs": [
    {
     "data": {
      "text/plain": [
       "DataFrame[AirportCode: string, Day: string, AvgTemp: string, AvgWindSpeed: string, WeatherCode: string]"
      ]
     },
     "execution_count": 6,
     "metadata": {},
     "output_type": "execute_result"
    }
   ],
   "source": [
    "# selecting features needed to merge with flightsDF\n",
    "\n",
    "filteredDF = joinedDF.select(\"AirportCode\",\n",
    "                             F.substring(F.col(\"YearMonthDay\"), 7, 2).alias(\"Day\"),\n",
    "                             F.col(\"Tavg\").alias(\"AvgTemp\"),\n",
    "                             F.col(\"AvgSpeed\").alias(\"AvgWindSpeed\"),\n",
    "                             F.col(\"codeSum\").alias(\"WeatherCode\"))\n",
    "\n",
    "filteredDF.cache()"
   ]
  },
  {
   "cell_type": "code",
   "execution_count": 7,
   "metadata": {
    "ExecuteTime": {
     "end_time": "2020-03-13T12:18:25.558036Z",
     "start_time": "2020-03-13T12:18:25.502161Z"
    }
   },
   "outputs": [],
   "source": [
    "# merging with flightsDF on \"Origin\"\n",
    "\n",
    "joinedDF = flightsDF.join(filteredDF,\n",
    "                          on = ((flightsDF[\"Origin\"] == filteredDF[\"AirportCode\"]) &\n",
    "                                (flightsDF[\"DayofMonth\"] == filteredDF[\"Day\"])),\n",
    "                          how = 'left')\n",
    "\n",
    "joinedDF = joinedDF.drop(\"Day\").drop(\"AirportCode\")\n",
    "\n",
    "\n",
    "joinedDF = joinedDF.withColumnRenamed(\"AvgTemp\", \"AvgTempOrigin\")\\\n",
    "                   .withColumnRenamed(\"WeatherCode\", \"WeatherCodeOrigin\")\\\n",
    "                   .withColumnRenamed(\"AvgWindSpeed\", \"AvgWindSpeedOrigin\")\n"
   ]
  },
  {
   "cell_type": "code",
   "execution_count": 8,
   "metadata": {
    "ExecuteTime": {
     "end_time": "2020-03-13T12:18:25.615931Z",
     "start_time": "2020-03-13T12:18:25.562660Z"
    }
   },
   "outputs": [],
   "source": [
    "# merging with flightsDF on \"Dest\"\n",
    "\n",
    "joinedDF = joinedDF.join(filteredDF,\n",
    "                         on = ((joinedDF[\"Dest\"] == filteredDF[\"AirportCode\"]) & \n",
    "                               (joinedDF[\"DayofMonth\"] == filteredDF[\"Day\"])),\n",
    "                         how = 'left')\n",
    "\n",
    "\n",
    "joinedDF = joinedDF.drop(\"Day\").drop(\"AirportCode\")\n",
    "\n",
    "\n",
    "joinedDF = joinedDF.withColumnRenamed(\"AvgTemp\", \"AvgTempDest\")\\\n",
    "                   .withColumnRenamed(\"WeatherCode\", \"WeatherCodeDest\")\\\n",
    "                   .withColumnRenamed(\"AvgWindSpeed\", \"AvgWindSpeedDest\")\n"
   ]
  },
  {
   "cell_type": "markdown",
   "metadata": {},
   "source": [
    "<br>\n",
    "\n",
    "\n",
    "Checking for missing variables keeping in mind that the Nulls will be kept to keep the data that is significant\n",
    "\n"
   ]
  },
  {
   "cell_type": "code",
   "execution_count": 9,
   "metadata": {
    "ExecuteTime": {
     "end_time": "2020-03-13T12:19:03.778190Z",
     "start_time": "2020-03-13T12:18:25.619364Z"
    },
    "scrolled": true
   },
   "outputs": [
    {
     "name": "stdout",
     "output_type": "stream",
     "text": [
      "COL:\t Month\n",
      "NA:\t 0\n",
      "NULL:\t 0\n",
      "M:\t 0\n",
      "T:\t 0\n",
      "' ':\t 0\n",
      "\n",
      "COL:\t DayofMonth\n",
      "NA:\t 0\n",
      "NULL:\t 0\n",
      "M:\t 0\n",
      "T:\t 0\n",
      "' ':\t 0\n",
      "\n",
      "COL:\t DayOfWeek\n",
      "NA:\t 0\n",
      "NULL:\t 0\n",
      "M:\t 0\n",
      "T:\t 0\n",
      "' ':\t 0\n",
      "\n",
      "COL:\t ArrDelay\n",
      "NA:\t 1302\n",
      "NULL:\t 0\n",
      "M:\t 0\n",
      "T:\t 0\n",
      "' ':\t 0\n",
      "\n",
      "COL:\t DepDelay\n",
      "NA:\t 1142\n",
      "NULL:\t 0\n",
      "M:\t 0\n",
      "T:\t 0\n",
      "' ':\t 0\n",
      "\n",
      "COL:\t Origin\n",
      "NA:\t 0\n",
      "NULL:\t 0\n",
      "M:\t 0\n",
      "T:\t 0\n",
      "' ':\t 0\n",
      "\n",
      "COL:\t Dest\n",
      "NA:\t 0\n",
      "NULL:\t 0\n",
      "M:\t 0\n",
      "T:\t 0\n",
      "' ':\t 0\n",
      "\n",
      "COL:\t Cancelled\n",
      "NA:\t 0\n",
      "NULL:\t 0\n",
      "M:\t 0\n",
      "T:\t 0\n",
      "' ':\t 0\n",
      "\n",
      "COL:\t Diverted\n",
      "NA:\t 0\n",
      "NULL:\t 0\n",
      "M:\t 0\n",
      "T:\t 0\n",
      "' ':\t 0\n",
      "\n",
      "COL:\t WeatherDelay\n",
      "NA:\t 80371\n",
      "NULL:\t 0\n",
      "M:\t 0\n",
      "T:\t 0\n",
      "' ':\t 0\n",
      "\n",
      "COL:\t AvgTempOrigin\n",
      "NA:\t 0\n",
      "NULL:\t 23851\n",
      "M:\t 1202\n",
      "T:\t 0\n",
      "' ':\t 0\n",
      "\n",
      "COL:\t AvgWindSpeedOrigin\n",
      "NA:\t 0\n",
      "NULL:\t 23851\n",
      "M:\t 468\n",
      "T:\t 0\n",
      "' ':\t 0\n",
      "\n",
      "COL:\t WeatherCodeOrigin\n",
      "NA:\t 0\n",
      "NULL:\t 23851\n",
      "M:\t 0\n",
      "T:\t 0\n",
      "' ':\t 35243\n",
      "\n",
      "COL:\t AvgTempDest\n",
      "NA:\t 0\n",
      "NULL:\t 23851\n",
      "M:\t 1201\n",
      "T:\t 0\n",
      "' ':\t 0\n",
      "\n",
      "COL:\t AvgWindSpeedDest\n",
      "NA:\t 0\n",
      "NULL:\t 23851\n",
      "M:\t 464\n",
      "T:\t 0\n",
      "' ':\t 0\n",
      "\n",
      "COL:\t WeatherCodeDest\n",
      "NA:\t 0\n",
      "NULL:\t 23851\n",
      "M:\t 0\n",
      "T:\t 0\n",
      "' ':\t 35253\n",
      "\n"
     ]
    },
    {
     "data": {
      "text/markdown": [
       "This DataFrame has **100000 rows**."
      ],
      "text/plain": [
       "<IPython.core.display.Markdown object>"
      ]
     },
     "metadata": {},
     "output_type": "display_data"
    }
   ],
   "source": [
    "for column in joinedDF.columns:\n",
    "    print(f\"COL:\\t {column}\",\n",
    "          f\"NA:\\t {joinedDF.where(F.col(column) == 'NA').count()}\",\n",
    "          f\"NULL:\\t {joinedDF.where(F.col(column).isNull()).count()}\",\n",
    "          f\"M:\\t {joinedDF.where(F.col(column) == 'M').count()}\",\n",
    "          f\"T:\\t {joinedDF.where(F.col(column) == '  T').count()}\",\n",
    "          f\"' ':\\t {joinedDF.where(F.col(column) == ' ').count()}\",\n",
    "          \"\",\n",
    "          sep=\"\\n\"\n",
    "         )\n",
    "display(Markdown(\"This DataFrame has **%d rows**.\" % joinedDF.count()))\n"
   ]
  },
  {
   "cell_type": "code",
   "execution_count": 10,
   "metadata": {
    "ExecuteTime": {
     "end_time": "2020-03-13T12:19:03.795125Z",
     "start_time": "2020-03-13T12:19:03.791201Z"
    }
   },
   "outputs": [
    {
     "data": {
      "text/markdown": [
       "This DataFrame has **74651 rows**."
      ],
      "text/plain": [
       "<IPython.core.display.Markdown object>"
      ]
     },
     "metadata": {},
     "output_type": "display_data"
    }
   ],
   "source": [
    "joinedDF = joinedDF.filter((F.col(\"AvgTempOrigin\") != \"M\") & (F.col(\"AvgWindSpeedOrigin\") != \"M\"))\n",
    "display(Markdown(\"This DataFrame has **%d rows**.\" % joinedDF.count()))"
   ]
  },
  {
   "cell_type": "markdown",
   "metadata": {},
   "source": [
    "<br>\n",
    "\n",
    "### ANALYZE DATA"
   ]
  },
  {
   "cell_type": "code",
   "execution_count": 11,
   "metadata": {
    "ExecuteTime": {
     "end_time": "2020-03-13T12:19:03.807989Z",
     "start_time": "2020-03-13T12:19:03.799442Z"
    },
    "scrolled": true
   },
   "outputs": [
    {
     "name": "stdout",
     "output_type": "stream",
     "text": [
      "root\n",
      " |-- Month: string (nullable = true)\n",
      " |-- DayofMonth: string (nullable = true)\n",
      " |-- DayOfWeek: string (nullable = true)\n",
      " |-- ArrDelay: string (nullable = true)\n",
      " |-- DepDelay: string (nullable = true)\n",
      " |-- Origin: string (nullable = true)\n",
      " |-- Dest: string (nullable = true)\n",
      " |-- Cancelled: string (nullable = true)\n",
      " |-- Diverted: string (nullable = true)\n",
      " |-- WeatherDelay: string (nullable = true)\n",
      " |-- AvgTempOrigin: string (nullable = true)\n",
      " |-- AvgWindSpeedOrigin: string (nullable = true)\n",
      " |-- WeatherCodeOrigin: string (nullable = true)\n",
      " |-- AvgTempDest: string (nullable = true)\n",
      " |-- AvgWindSpeedDest: string (nullable = true)\n",
      " |-- WeatherCodeDest: string (nullable = true)\n",
      "\n"
     ]
    }
   ],
   "source": [
    "joinedDF.printSchema()"
   ]
  },
  {
   "cell_type": "code",
   "execution_count": 56,
   "metadata": {
    "ExecuteTime": {
     "end_time": "2020-03-13T12:19:10.436160Z",
     "start_time": "2020-03-13T12:19:03.810536Z"
    },
    "scrolled": false
   },
   "outputs": [
    {
     "name": "stdout",
     "output_type": "stream",
     "text": [
      "\n",
      "Summary of columns:\n",
      "\n",
      "+-----------------+-----+\n",
      "|WeatherCodeOrigin|count|\n",
      "+-----------------+-----+\n",
      "|                 |34786|\n",
      "|            RA BR| 7995|\n",
      "|               RA| 6044|\n",
      "|               BR| 2723|\n",
      "|            SN BR| 2689|\n",
      "|               SN| 2445|\n",
      "|            BR HZ| 1902|\n",
      "|         RA DZ BR| 1415|\n",
      "|         RA SN BR| 1212|\n",
      "|         SN BR HZ|  788|\n",
      "|         RA BR HZ|  786|\n",
      "|               HZ|  778|\n",
      "|        FG+ FG BR|  520|\n",
      "|       SN FZFG BR|  498|\n",
      "|           VCBLDU|  475|\n",
      "|  RA DZ FG+ FG BR|  373|\n",
      "|           FG+ BR|  367|\n",
      "|            DZ BR|  319|\n",
      "|       BCFG BR HZ|  302|\n",
      "|      RA SN BR HZ|  301|\n",
      "+-----------------+-----+\n",
      "only showing top 20 rows\n",
      "\n",
      "+---------+-----+\n",
      "|Cancelled|count|\n",
      "+---------+-----+\n",
      "|        0|73911|\n",
      "|        1|  740|\n",
      "+---------+-----+\n",
      "\n",
      "+--------+-----+\n",
      "|Diverted|count|\n",
      "+--------+-----+\n",
      "|       0|74542|\n",
      "|       1|  109|\n",
      "+--------+-----+\n",
      "\n"
     ]
    },
    {
     "data": {
      "text/html": [
       "<div>\n",
       "<style scoped>\n",
       "    .dataframe tbody tr th:only-of-type {\n",
       "        vertical-align: middle;\n",
       "    }\n",
       "\n",
       "    .dataframe tbody tr th {\n",
       "        vertical-align: top;\n",
       "    }\n",
       "\n",
       "    .dataframe thead th {\n",
       "        text-align: right;\n",
       "    }\n",
       "</style>\n",
       "<table border=\"1\" class=\"dataframe\">\n",
       "  <thead>\n",
       "    <tr style=\"text-align: right;\">\n",
       "      <th></th>\n",
       "      <th>summary</th>\n",
       "      <th>ArrDelay</th>\n",
       "      <th>DepDelay</th>\n",
       "      <th>WeatherDelay</th>\n",
       "      <th>AvgTempOrigin</th>\n",
       "      <th>AvgWindSpeedOrigin</th>\n",
       "    </tr>\n",
       "  </thead>\n",
       "  <tbody>\n",
       "    <tr>\n",
       "      <th>0</th>\n",
       "      <td>count</td>\n",
       "      <td>74651</td>\n",
       "      <td>74651</td>\n",
       "      <td>74651</td>\n",
       "      <td>74651</td>\n",
       "      <td>74651</td>\n",
       "    </tr>\n",
       "    <tr>\n",
       "      <th>1</th>\n",
       "      <td>mean</td>\n",
       "      <td>4.553494485244302</td>\n",
       "      <td>9.192082369336093</td>\n",
       "      <td>2.372763117986048</td>\n",
       "      <td>42.590105959732625</td>\n",
       "      <td>7.833446303464566</td>\n",
       "    </tr>\n",
       "    <tr>\n",
       "      <th>2</th>\n",
       "      <td>stddev</td>\n",
       "      <td>30.680121216484558</td>\n",
       "      <td>27.8865164571767</td>\n",
       "      <td>15.036412154883976</td>\n",
       "      <td>14.134081241524779</td>\n",
       "      <td>4.251099808477925</td>\n",
       "    </tr>\n",
       "    <tr>\n",
       "      <th>3</th>\n",
       "      <td>min</td>\n",
       "      <td>-1</td>\n",
       "      <td>-1</td>\n",
       "      <td>0</td>\n",
       "      <td>0</td>\n",
       "      <td>0.6</td>\n",
       "    </tr>\n",
       "    <tr>\n",
       "      <th>4</th>\n",
       "      <td>25%</td>\n",
       "      <td>-10.0</td>\n",
       "      <td>-2.0</td>\n",
       "      <td>0.0</td>\n",
       "      <td>33.0</td>\n",
       "      <td>4.5</td>\n",
       "    </tr>\n",
       "    <tr>\n",
       "      <th>5</th>\n",
       "      <td>50%</td>\n",
       "      <td>-3.0</td>\n",
       "      <td>0.0</td>\n",
       "      <td>0.0</td>\n",
       "      <td>45.0</td>\n",
       "      <td>7.2</td>\n",
       "    </tr>\n",
       "    <tr>\n",
       "      <th>6</th>\n",
       "      <td>75%</td>\n",
       "      <td>8.0</td>\n",
       "      <td>8.0</td>\n",
       "      <td>0.0</td>\n",
       "      <td>53.0</td>\n",
       "      <td>10.5</td>\n",
       "    </tr>\n",
       "    <tr>\n",
       "      <th>7</th>\n",
       "      <td>max</td>\n",
       "      <td>NA</td>\n",
       "      <td>NA</td>\n",
       "      <td>NA</td>\n",
       "      <td>9</td>\n",
       "      <td>9.9</td>\n",
       "    </tr>\n",
       "  </tbody>\n",
       "</table>\n",
       "</div>"
      ],
      "text/plain": [
       "  summary            ArrDelay           DepDelay        WeatherDelay  \\\n",
       "0   count               74651              74651               74651   \n",
       "1    mean   4.553494485244302  9.192082369336093   2.372763117986048   \n",
       "2  stddev  30.680121216484558   27.8865164571767  15.036412154883976   \n",
       "3     min                  -1                 -1                   0   \n",
       "4     25%               -10.0               -2.0                 0.0   \n",
       "5     50%                -3.0                0.0                 0.0   \n",
       "6     75%                 8.0                8.0                 0.0   \n",
       "7     max                  NA                 NA                  NA   \n",
       "\n",
       "        AvgTempOrigin AvgWindSpeedOrigin  \n",
       "0               74651              74651  \n",
       "1  42.590105959732625  7.833446303464566  \n",
       "2  14.134081241524779  4.251099808477925  \n",
       "3                   0                0.6  \n",
       "4                33.0                4.5  \n",
       "5                45.0                7.2  \n",
       "6                53.0               10.5  \n",
       "7                   9                9.9  "
      ]
     },
     "execution_count": 56,
     "metadata": {},
     "output_type": "execute_result"
    }
   ],
   "source": [
    "print(\"\\nSummary of columns:\\n\")\n",
    "\n",
    "joinedDF.groupby(\"WeatherCodeOrigin\").count().sort(\"count\", ascending=False).show()\n",
    "joinedDF.groupby(\"Cancelled\").count().show()\n",
    "joinedDF.groupby(\"Diverted\").count().show()\n",
    "\n",
    "joinedDF.select([\"ArrDelay\", \"DepDelay\", \"WeatherDelay\",\n",
    "                 \"AvgTempOrigin\", \"AvgWindSpeedOrigin\"]\n",
    "               ).summary().toPandas()"
   ]
  },
  {
   "cell_type": "markdown",
   "metadata": {},
   "source": [
    "***\n",
    "\n",
    "<div class=\"alert alert-block alert-info\">\n",
    "\n",
    "# Question 1:\n",
    "\n",
    "**Is there a relation between extreme conditions and the arrival delay?**\n",
    "    \n",
    "</div>"
   ]
  },
  {
   "cell_type": "markdown",
   "metadata": {},
   "source": [
    "We will be using the below four dataset for our analysis:\n",
    "\n",
    "<ul>\n",
    "<li>extremeConditionsOrigin</li>\n",
    "<li>extremeConditionsDest</li>\n",
    "<li>notextremeConditionsOrigin</li>\n",
    "<li>notextremeConditionsDest</li>\n",
    "</ul>\n",
    "\n",
    "<br>\n",
    "They were filtered from the main joinedDF by taking into consideration that a Temperature lower than 32 Fahrenheit means 0 Degrees Celsius which is Freezing point. Moreover, most planes are delayed when there is strong wind which is above 30 miles/hr. The last variable which is WeatherCode, has extreme weather conditions in it like: Rain, Fog, Snow, Thunderstorm, ICe, Hail and many more. So when this variable is not empty means that there is no extreme weather conditions and vice versa."
   ]
  },
  {
   "cell_type": "code",
   "execution_count": 13,
   "metadata": {
    "ExecuteTime": {
     "end_time": "2020-03-13T12:19:11.051972Z",
     "start_time": "2020-03-13T12:19:10.437989Z"
    }
   },
   "outputs": [
    {
     "data": {
      "text/plain": [
       "DataFrame[Month: string, DayofMonth: string, DayOfWeek: string, ArrDelay: string, DepDelay: string, Origin: string, Dest: string, Cancelled: string, Diverted: string, WeatherDelay: string, AvgTempOrigin: string, AvgWindSpeedOrigin: string, WeatherCodeOrigin: string, AvgTempDest: string, AvgWindSpeedDest: string, WeatherCodeDest: string]"
      ]
     },
     "execution_count": 13,
     "metadata": {},
     "output_type": "execute_result"
    }
   ],
   "source": [
    "exteremeConditionsOrigin = joinedDF.where( \"AvgTempOrigin < 32 \\\n",
    "                                            or AvgWindSpeedOrigin > 30\\\n",
    "                                            or WeatherCodeOrigin not like ' '\\\n",
    "                                            \")\n",
    "\n",
    "\n",
    "notexteremeConditionsOrigin = joinedDF.filter(F.col(\"WeatherCodeOrigin\") == \" \")\\\n",
    "                                      .where(\" AvgTempOrigin > 32 or AvgWindSpeedOrigin < 30 \")\n",
    "\n",
    "\n",
    "\n",
    "exteremeConditionsDest = joinedDF.where(\"AvgTempDest < 32\\\n",
    "                                        or AvgWindSpeedDest > 30\\\n",
    "                                        or WeatherCodeDest not like ' '\\\n",
    "                                        \")\n",
    "\n",
    "\n",
    "notexteremeConditionsDest = joinedDF.filter(F.col(\"WeatherCodeDest\") == \" \")\\\n",
    "                                    .where(\" AvgTempDest > 32 or AvgWindSpeedDest < 30 \")\n",
    "\n",
    "\n",
    "exteremeConditionsOrigin.cache()\n",
    "notexteremeConditionsOrigin.cache()\n",
    "exteremeConditionsDest.cache()\n",
    "notexteremeConditionsDest.cache()"
   ]
  },
  {
   "cell_type": "markdown",
   "metadata": {},
   "source": [
    "<br>\n",
    "\n",
    "Let's look at the summaries:"
   ]
  },
  {
   "cell_type": "code",
   "execution_count": 14,
   "metadata": {
    "ExecuteTime": {
     "end_time": "2020-03-13T12:19:13.053226Z",
     "start_time": "2020-03-13T12:19:11.054304Z"
    }
   },
   "outputs": [
    {
     "name": "stdout",
     "output_type": "stream",
     "text": [
      "\n",
      "Summary of ArrDelay for extreme conditions:\n",
      "+-------+-----------------+\n",
      "|summary|         ArrDelay|\n",
      "+-------+-----------------+\n",
      "|  count|            47264|\n",
      "|   mean| 6.84933739331818|\n",
      "| stddev|32.99055041671269|\n",
      "|    min|               -1|\n",
      "|    25%|             -9.0|\n",
      "|    50%|             -2.0|\n",
      "|    75%|             10.0|\n",
      "|    max|               NA|\n",
      "+-------+-----------------+\n",
      "\n",
      "\n",
      "Summary of ArrDelay for not extreme conditions:\n",
      "+-------+------------------+\n",
      "|summary|          ArrDelay|\n",
      "+-------+------------------+\n",
      "|  count|             34505|\n",
      "|   mean|0.6708705552636188|\n",
      "| stddev| 26.17222043149078|\n",
      "|    min|                -1|\n",
      "|    25%|             -11.0|\n",
      "|    50%|              -5.0|\n",
      "|    75%|               4.0|\n",
      "|    max|                NA|\n",
      "+-------+------------------+\n",
      "\n"
     ]
    }
   ],
   "source": [
    "print (\"\\nSummary of ArrDelay for extreme conditions:\")\n",
    "exteremeConditionsDest.select(\"ArrDelay\").summary().show()\n",
    "\n",
    "\n",
    "print (\"\\nSummary of ArrDelay for not extreme conditions:\")\n",
    "notexteremeConditionsDest.select(\"ArrDelay\").summary().show()"
   ]
  },
  {
   "cell_type": "markdown",
   "metadata": {},
   "source": [
    "<br>\n",
    "\n",
    "Comparing the Average Arrival Delay in extreme vs not extreme conditions in the `Origin` Airport:\n",
    "\n"
   ]
  },
  {
   "cell_type": "code",
   "execution_count": 15,
   "metadata": {
    "ExecuteTime": {
     "end_time": "2020-03-13T12:19:14.696304Z",
     "start_time": "2020-03-13T12:19:13.056228Z"
    }
   },
   "outputs": [
    {
     "name": "stdout",
     "output_type": "stream",
     "text": [
      "\n"
     ]
    },
    {
     "data": {
      "text/markdown": [
       "\n",
       "| Average Arrival Delay with Extreme Conditions | Average Arrival Delay with No Extreme Conditions |\n",
       "|----|----|\n",
       "| 6.6136690493056  | 0.5496871016340248  |\n"
      ],
      "text/plain": [
       "<IPython.core.display.Markdown object>"
      ]
     },
     "metadata": {},
     "output_type": "display_data"
    }
   ],
   "source": [
    "AverageofArrDelayExtreme = exteremeConditionsOrigin.agg(F.avg(\"ArrDelay\")).first()\n",
    "AverageofArrDelayNotExtreme = notexteremeConditionsOrigin.agg(F.avg(\"ArrDelay\")).first()\n",
    "\n",
    "print(\"\")\n",
    "display(Markdown(\"\"\"\n",
    "| %s | %s |\n",
    "|----|----|\n",
    "| %s | %s |\n",
    "\"\"\" % (\"Average Arrival Delay with Extreme Conditions\",\n",
    "       \"Average Arrival Delay with No Extreme Conditions\",\n",
    "       \"%s \" % (AverageofArrDelayExtreme),\n",
    "       \"%s \" % (AverageofArrDelayNotExtreme))))"
   ]
  },
  {
   "cell_type": "markdown",
   "metadata": {},
   "source": [
    "<br>\n",
    "\n",
    "Comparing the Average Arrival Delay in extreme vs not extreme conditions in the `Destination` Airport:\n",
    "\n"
   ]
  },
  {
   "cell_type": "code",
   "execution_count": 16,
   "metadata": {
    "ExecuteTime": {
     "end_time": "2020-03-13T12:19:14.928317Z",
     "start_time": "2020-03-13T12:19:14.698707Z"
    }
   },
   "outputs": [
    {
     "data": {
      "text/markdown": [
       "\n",
       "| Average Arrival Delay with Extreme Conditions | Average Arrival Delay with No Extreme Conditions |\n",
       "|----|----|\n",
       "| 6.84933739331818  | 0.6708705552636188  |\n"
      ],
      "text/plain": [
       "<IPython.core.display.Markdown object>"
      ]
     },
     "metadata": {},
     "output_type": "display_data"
    }
   ],
   "source": [
    "AverageofArrDelayExtreme1 = exteremeConditionsDest.agg(F.avg(\"ArrDelay\")).first()\n",
    "AverageofArrDelayNotExtreme1 = notexteremeConditionsDest.agg(F.avg(\"ArrDelay\")).first()\n",
    "\n",
    "display(Markdown(\"\"\"\n",
    "| %s | %s |\n",
    "|----|----|\n",
    "| %s | %s |\n",
    "\"\"\" % (\"Average Arrival Delay with Extreme Conditions\",\n",
    "       \"Average Arrival Delay with No Extreme Conditions\",\n",
    "       \"%s \" % (AverageofArrDelayExtreme1),\n",
    "       \"%s \" % (AverageofArrDelayNotExtreme1))))"
   ]
  },
  {
   "cell_type": "markdown",
   "metadata": {},
   "source": [
    "<br>\n",
    "\n",
    "Looking at the two tables above, we notice that the arrival delay time is much more higher when we have extreme weather conditions. The difference from both Origin and Destination airport with  and without extreme conditions is around 6 minutes which means that weather is a really important variable that affects the arrival time of airplanes. \n",
    "Moreover, we can notice that the average delay in destination is 0.20 minutes more than arrival delay which is not that different. So, both weathers in Destination and Origin have a similar time influence on Arrival delay. "
   ]
  },
  {
   "cell_type": "markdown",
   "metadata": {},
   "source": [
    "***\n",
    "\n",
    "<div class=\"alert alert-block alert-info\">\n",
    "\n",
    "# Question 2:\n",
    "**Answer again the same question but focusing on the `WeatherDelay`.**\n",
    "    \n",
    "</div>"
   ]
  },
  {
   "cell_type": "markdown",
   "metadata": {},
   "source": [
    "First, let's remove NAs in WeatherDelay"
   ]
  },
  {
   "cell_type": "code",
   "execution_count": 17,
   "metadata": {
    "ExecuteTime": {
     "end_time": "2020-03-13T12:19:15.013001Z",
     "start_time": "2020-03-13T12:19:14.932451Z"
    }
   },
   "outputs": [],
   "source": [
    "# filtering NAs in WeatherDelay\n",
    "\n",
    "exteremeConditionsOrigin1 = exteremeConditionsOrigin.where(F.col(\"WeatherDelay\")!=\"NA\")\n",
    "notexteremeConditionsOrigin1 = notexteremeConditionsOrigin.where(F.col(\"WeatherDelay\")!=\"NA\")\n",
    "\n",
    "exteremeConditionsDest1 = exteremeConditionsDest.where(F.col(\"WeatherDelay\")!=\"NA\")\n",
    "notexteremeConditionsDest1 = notexteremeConditionsDest.where(F.col(\"WeatherDelay\")!=\"NA\")\n"
   ]
  },
  {
   "cell_type": "markdown",
   "metadata": {},
   "source": [
    "<br>\n",
    "\n",
    "Comparing the Average Weather Delay in extreme vs not extreme conditions in the `Origin` Airport:\n",
    "\n"
   ]
  },
  {
   "cell_type": "code",
   "execution_count": 53,
   "metadata": {
    "ExecuteTime": {
     "end_time": "2020-03-13T12:19:15.236439Z",
     "start_time": "2020-03-13T12:19:15.015798Z"
    }
   },
   "outputs": [
    {
     "data": {
      "text/markdown": [
       "\n",
       "| Average Weather Delay with Extreme Conditions | Average Weather Delay with No Extreme Conditions |\n",
       "|----|----|\n",
       "| 2.7464744264365395  | 1.5773743635156077  |\n"
      ],
      "text/plain": [
       "<IPython.core.display.Markdown object>"
      ]
     },
     "metadata": {},
     "output_type": "display_data"
    }
   ],
   "source": [
    "AverageofWeatherDelayExtreme = exteremeConditionsOrigin1.agg(F.avg(\"WeatherDelay\")).first()\n",
    "AverageofWeatherDelayNotExtreme = notexteremeConditionsOrigin1.agg(F.avg(\"WeatherDelay\")).first()\n",
    "\n",
    "\n",
    "display(Markdown(\"\"\"\n",
    "| %s | %s |\n",
    "|----|----|\n",
    "| %s | %s |\n",
    "\"\"\" % (\"Average Weather Delay with Extreme Conditions\",\n",
    "       \"Average Weather Delay with No Extreme Conditions\",\n",
    "       \"%s \" % (AverageofWeatherDelayExtreme),\n",
    "       \"%s \" % (AverageofWeatherDelayNotExtreme))))"
   ]
  },
  {
   "cell_type": "markdown",
   "metadata": {},
   "source": [
    "\n",
    "Comparing the Average Weather Delay in extreme vs not extreme conditions in the `Destination` Airport:\n",
    "\n"
   ]
  },
  {
   "cell_type": "code",
   "execution_count": 54,
   "metadata": {
    "ExecuteTime": {
     "end_time": "2020-03-13T12:19:15.463759Z",
     "start_time": "2020-03-13T12:19:15.239616Z"
    }
   },
   "outputs": [
    {
     "data": {
      "text/markdown": [
       "\n",
       "| Average Weather Delay with Extreme Conditions | Average Weather Delay with No Extreme Conditions |\n",
       "|----|----|\n",
       "| 2.9031987414787626  | 1.0075839653304441  |\n"
      ],
      "text/plain": [
       "<IPython.core.display.Markdown object>"
      ]
     },
     "metadata": {},
     "output_type": "display_data"
    }
   ],
   "source": [
    "AverageofWeatherDelayExtreme1 = exteremeConditionsDest1.agg(F.avg(\"WeatherDelay\")).first()\n",
    "AverageofWeatherDelayNotExtreme1 = notexteremeConditionsDest1.agg(F.avg(\"WeatherDelay\")).first()\n",
    "\n",
    "\n",
    "display(Markdown(\"\"\"\n",
    "| %s | %s |\n",
    "|----|----|\n",
    "| %s | %s |\n",
    "\"\"\" % (\"Average Weather Delay with Extreme Conditions\",\n",
    "       \"Average Weather Delay with No Extreme Conditions\",\n",
    "       \"%s \" % (AverageofWeatherDelayExtreme1),\n",
    "       \"%s \" % (AverageofWeatherDelayNotExtreme1))))"
   ]
  },
  {
   "cell_type": "markdown",
   "metadata": {},
   "source": [
    "<br>\n",
    "\n",
    "As we notice from both tables, the average weather delay with no extreme conditions is 1.58 and 1 minutes respectively which is a bit high. After doing some research we found that most airlines sometimes say that they are delayed because of the weather which is not always true since they would have other problems of delay because of the variables that were filtered out at the beginning of our analysis like: Carrier, NAS, Security or Late Aircraft delay. \n",
    "\n",
    "We found that there is a relation between extreme conditions and weather delay since we noticed an increase of 1.2 and 1.9 minutes respectively. The weather at the destination has a bit of a more effect on the weather delay.\n",
    "\n",
    "As we can see from the previous summary of variables, we can see that the Weather Delay has a mean of 2.37 minutes which means that in both cases the delay is affected by the extreme conditions.\n"
   ]
  },
  {
   "cell_type": "markdown",
   "metadata": {},
   "source": [
    "***\n",
    "<div class=\"alert alert-block alert-info\">\n",
    "    \n",
    "# Question 3:\n",
    "**Is this relation constant across airports, or are there airports better prepared for extreme weather than others? Do you think there is a relation with the economic development of the city, or even with the location of the city?**\n",
    "\n",
    "</div>"
   ]
  },
  {
   "cell_type": "markdown",
   "metadata": {},
   "source": [
    "Preparing Data"
   ]
  },
  {
   "cell_type": "code",
   "execution_count": 20,
   "metadata": {
    "ExecuteTime": {
     "end_time": "2020-03-13T12:19:15.799020Z",
     "start_time": "2020-03-13T12:19:15.465544Z"
    }
   },
   "outputs": [
    {
     "data": {
      "text/plain": [
       "DataFrame[Origin: string, AverageArrivalDelay: double, TtlFltsInExtConds: bigint, TtlCntOfExtWeatConds: bigint, TotalNumberOfFlights: bigint]"
      ]
     },
     "execution_count": 20,
     "metadata": {},
     "output_type": "execute_result"
    }
   ],
   "source": [
    "cnt_cond = lambda cond: F.sum(F.when(cond, 1).otherwise(0))\n",
    "\n",
    "AirportOrigin = exteremeConditionsOrigin.groupBy(\"Origin\")\\\n",
    "                                        .agg(F.avg(\"ArrDelay\").alias(\"AverageArrivalDelay\"),\n",
    "                                             cnt_cond(F.col(\"AvgTempOrigin\") < 32).alias(\"Count of Temperature\"),\n",
    "                                             cnt_cond(F.col(\"AvgWindSpeedOrigin\") > 30).alias(\"Count of High Wind Speed\"),\n",
    "                                             cnt_cond(F.col(\"WeatherCodeOrigin\") != \" \").alias(\"Count of Extreme Weather\"),\n",
    "                                             F.count(\"Origin\").alias(\"TtlFltsInExtConds\"))\n",
    "\n",
    "\n",
    "AirportOrigin = AirportOrigin.withColumn(\"TtlCntOfExtWeatConds\",\n",
    "                                         (F.col(\"Count of Temperature\") +\n",
    "                                          F.col(\"Count of High Wind Speed\") +\n",
    "                                          F.col(\"Count of Extreme Weather\"))\\\n",
    "                                         .alias(\"TtlCntOfExtWeatConds\"))\n",
    "\n",
    "\n",
    "TotalFlightsperAirportsOrigin = joinedDF.groupBy(\"Origin\").count()\\\n",
    "                                        .withColumnRenamed(\"count\", \"TotalNumberOfFlights\")\n",
    "\n",
    "\n",
    "JoinedAirportDF = AirportOrigin.join(TotalFlightsperAirportsOrigin, on = \"Origin\")\\\n",
    "                                .drop(\"Count of Temperature\")\\\n",
    "                                .drop(\"Count of High Wind Speed\")\\\n",
    "                                .drop(\"Count of Extreme Weather\")    \n",
    "\n",
    "JoinedAirportDF.cache()"
   ]
  },
  {
   "cell_type": "markdown",
   "metadata": {},
   "source": [
    "<br>\n",
    "\n",
    "Top 20 origin airports with the `most` average delay:"
   ]
  },
  {
   "cell_type": "code",
   "execution_count": 21,
   "metadata": {
    "ExecuteTime": {
     "end_time": "2020-03-13T12:19:18.354328Z",
     "start_time": "2020-03-13T12:19:15.801423Z"
    }
   },
   "outputs": [
    {
     "name": "stdout",
     "output_type": "stream",
     "text": [
      "+------+-----------+--------------------+-----------------+--------------------+\n",
      "|Origin|AvgArrDelay|TtlCntOfExtWeatConds|TtlFltsInExtConds|TotalNumberOfFlights|\n",
      "+------+-----------+--------------------+-----------------+--------------------+\n",
      "|   LCH|       60.0|                   1|                1|                   1|\n",
      "|   TUS|      47.14|                  28|               28|                 663|\n",
      "|   SFO|      30.53|                 385|              385|                 515|\n",
      "|   LAS|      26.25|                1386|             1386|                5162|\n",
      "|   PHX|      16.81|                 585|              585|                4211|\n",
      "|   DAY|       14.0|                   1|                1|                   1|\n",
      "|   LAX|      13.88|                1508|             1508|                2430|\n",
      "|   BUR|      13.09|                 641|              641|                1263|\n",
      "|   DAL|      12.64|                1277|             1277|                2760|\n",
      "|   SLC|      11.41|                1620|              968|                1059|\n",
      "|   HRL|      10.63|                 164|              164|                 227|\n",
      "|   RNO|       9.61|                 941|              716|                 912|\n",
      "|   SAN|       9.54|                1236|             1236|                2384|\n",
      "|   HOU|       9.51|                2200|             2200|                2994|\n",
      "|   MAF|       9.12|                  86|               86|                 248|\n",
      "|   IAH|       8.67|                   6|                6|                   7|\n",
      "|   MDW|       8.66|                7280|             4621|                4800|\n",
      "|   ONT|       8.49|                 773|              773|                1684|\n",
      "|   BOI|       7.73|                 643|              455|                 478|\n",
      "|   SNA|       7.33|                 471|              471|                 803|\n",
      "+------+-----------+--------------------+-----------------+--------------------+\n",
      "only showing top 20 rows\n",
      "\n"
     ]
    }
   ],
   "source": [
    "JoinedAirportDF.orderBy(F.desc(\"AverageArrivalDelay\"))\\\n",
    "               .select(\"Origin\",\n",
    "                       F.round(\"AverageArrivalDelay\", 2).alias(\"AvgArrDelay\"),\n",
    "                       \"TtlCntOfExtWeatConds\",\n",
    "                       \"TtlFltsInExtConds\",\n",
    "                       \"TotalNumberOfFlights\").show()"
   ]
  },
  {
   "cell_type": "markdown",
   "metadata": {},
   "source": [
    "<br>\n",
    "\n",
    "Top 20 origin airports with the `least` average delay:"
   ]
  },
  {
   "cell_type": "code",
   "execution_count": 22,
   "metadata": {
    "ExecuteTime": {
     "end_time": "2020-03-13T12:19:19.126526Z",
     "start_time": "2020-03-13T12:19:18.360532Z"
    }
   },
   "outputs": [
    {
     "name": "stdout",
     "output_type": "stream",
     "text": [
      "+------+-----------+--------------------+-----------------+--------------------+\n",
      "|Origin|AvgArrDelay|TtlCntOfExtWeatConds|TtlFltsInExtConds|TotalNumberOfFlights|\n",
      "+------+-----------+--------------------+-----------------+--------------------+\n",
      "|   LFT|       -7.0|                   1|                1|                   1|\n",
      "|   BTR|       -4.0|                   1|                1|                   1|\n",
      "|   ISP|      -3.44|                 608|              497|                 606|\n",
      "|   BDL|      -3.09|                 452|              363|                 382|\n",
      "|   AMA|      -2.95|                 140|              116|                 225|\n",
      "|   ALB|      -1.26|                 421|              273|                 299|\n",
      "|   MCO|       0.26|                1233|             1233|                2393|\n",
      "|   RSW|       0.69|                 121|              121|                 242|\n",
      "|   ORF|       0.87|                 189|              164|                 275|\n",
      "|   RDU|       0.91|                 537|              502|                 840|\n",
      "|   DEN|       1.03|                1152|              930|                1198|\n",
      "|   BWI|       1.26|                2829|             2657|                3588|\n",
      "|   SEA|       1.32|                 525|              525|                 990|\n",
      "|   IND|       1.45|                 583|              364|                 364|\n",
      "|   MHT|       1.62|                 745|              593|                 651|\n",
      "|   PBI|       1.69|                 120|              120|                 271|\n",
      "|   FAT|       2.02|                  92|               92|                 107|\n",
      "|   BNA|       2.03|                1225|             1225|                1785|\n",
      "|   PVD|       2.21|                 692|              530|                 719|\n",
      "|   PDX|       2.49|                 686|              686|                 904|\n",
      "+------+-----------+--------------------+-----------------+--------------------+\n",
      "only showing top 20 rows\n",
      "\n"
     ]
    }
   ],
   "source": [
    "JoinedAirportDF.orderBy(F.asc(\"AverageArrivalDelay\"))\\\n",
    "               .select(\"Origin\",\n",
    "                       F.round(\"AverageArrivalDelay\", 2).alias(\"AvgArrDelay\"),\n",
    "                       \"TtlCntOfExtWeatConds\",\n",
    "                       \"TtlFltsInExtConds\",\n",
    "                       \"TotalNumberOfFlights\").show()"
   ]
  },
  {
   "cell_type": "markdown",
   "metadata": {},
   "source": [
    "<br>\n",
    "\n",
    "Ratios of Flights with most average delay:"
   ]
  },
  {
   "cell_type": "code",
   "execution_count": 23,
   "metadata": {
    "ExecuteTime": {
     "end_time": "2020-03-13T12:19:19.848460Z",
     "start_time": "2020-03-13T12:19:19.129775Z"
    }
   },
   "outputs": [
    {
     "name": "stdout",
     "output_type": "stream",
     "text": [
      "+------+-----------+------------------------------+------------------------------+\n",
      "|Origin|AvgArrDelay|RatioOfExtremeWeatherPerFlight|RatioOfExtremeOverTotalFlights|\n",
      "+------+-----------+------------------------------+------------------------------+\n",
      "|   LCH|       60.0|                           1.0|                           1.0|\n",
      "|   TUS|      47.14|                           1.0|                          0.04|\n",
      "|   SFO|      30.53|                           1.0|                          0.75|\n",
      "|   LAS|      26.25|                           1.0|                          0.27|\n",
      "|   PHX|      16.81|                           1.0|                          0.14|\n",
      "|   DAY|       14.0|                           1.0|                           1.0|\n",
      "|   LAX|      13.88|                           1.0|                          0.62|\n",
      "|   BUR|      13.09|                           1.0|                          0.51|\n",
      "|   DAL|      12.64|                           1.0|                          0.46|\n",
      "|   SLC|      11.41|                          1.67|                          0.91|\n",
      "|   HRL|      10.63|                           1.0|                          0.72|\n",
      "|   RNO|       9.61|                          1.31|                          0.79|\n",
      "|   SAN|       9.54|                           1.0|                          0.52|\n",
      "|   HOU|       9.51|                           1.0|                          0.73|\n",
      "|   MAF|       9.12|                           1.0|                          0.35|\n",
      "|   IAH|       8.67|                           1.0|                          0.86|\n",
      "|   MDW|       8.66|                          1.58|                          0.96|\n",
      "|   ONT|       8.49|                           1.0|                          0.46|\n",
      "|   BOI|       7.73|                          1.41|                          0.95|\n",
      "|   SNA|       7.33|                           1.0|                          0.59|\n",
      "+------+-----------+------------------------------+------------------------------+\n",
      "only showing top 20 rows\n",
      "\n"
     ]
    }
   ],
   "source": [
    "\n",
    "JoinedAirportDF.withColumn(\"RatioOfExtremeOverTotalFlights\",\n",
    "                           F.col(\"TtlFltsInExtConds\") / F.col(\"TotalNumberOfFlights\"))\\\n",
    "               .withColumn(\"RatioOfExtremeWeatherPerFlight\",\\\n",
    "                           F.col(\"TtlCntOfExtWeatConds\") / F.col(\"TtlFltsInExtConds\"))\\\n",
    "               .select(\"Origin\",\n",
    "                       F.round(\"AverageArrivalDelay\", 2).alias(\"AvgArrDelay\"),\n",
    "                       F.round(\"RatioOfExtremeWeatherPerFlight\", 2).alias(\"RatioOfExtremeWeatherPerFlight\"),\n",
    "                       F.round(\"RatioOfExtremeOverTotalFlights\", 2).alias(\"RatioOfExtremeOverTotalFlights\"))\\\n",
    "               .orderBy(F.desc(\"AverageArrivalDelay\"))\\\n",
    "               .show()"
   ]
  },
  {
   "cell_type": "markdown",
   "metadata": {},
   "source": [
    "<br>\n",
    "\n",
    "Ratios of Flights with least average delay:"
   ]
  },
  {
   "cell_type": "code",
   "execution_count": 24,
   "metadata": {
    "ExecuteTime": {
     "end_time": "2020-03-13T12:19:20.634579Z",
     "start_time": "2020-03-13T12:19:19.851552Z"
    },
    "scrolled": false
   },
   "outputs": [
    {
     "name": "stdout",
     "output_type": "stream",
     "text": [
      "+------+-----------+------------------------------+------------------------------+\n",
      "|Origin|AvgArrDelay|RatioOfExtremeWeatherPerFlight|RatioOfExtremeOverTotalFlights|\n",
      "+------+-----------+------------------------------+------------------------------+\n",
      "|   LFT|       -7.0|                           1.0|                           1.0|\n",
      "|   BTR|       -4.0|                           1.0|                           1.0|\n",
      "|   ISP|      -3.44|                          1.22|                          0.82|\n",
      "|   BDL|      -3.09|                          1.25|                          0.95|\n",
      "|   AMA|      -2.95|                          1.21|                          0.52|\n",
      "|   ALB|      -1.26|                          1.54|                          0.91|\n",
      "|   MCO|       0.26|                           1.0|                          0.52|\n",
      "|   RSW|       0.69|                           1.0|                           0.5|\n",
      "|   ORF|       0.87|                          1.15|                           0.6|\n",
      "|   RDU|       0.91|                          1.07|                           0.6|\n",
      "|   DEN|       1.03|                          1.24|                          0.78|\n",
      "|   BWI|       1.26|                          1.06|                          0.74|\n",
      "|   SEA|       1.32|                           1.0|                          0.53|\n",
      "|   IND|       1.45|                           1.6|                           1.0|\n",
      "|   MHT|       1.62|                          1.26|                          0.91|\n",
      "|   PBI|       1.69|                           1.0|                          0.44|\n",
      "|   FAT|       2.02|                           1.0|                          0.86|\n",
      "|   BNA|       2.03|                           1.0|                          0.69|\n",
      "|   PVD|       2.21|                          1.31|                          0.74|\n",
      "|   PDX|       2.49|                           1.0|                          0.76|\n",
      "+------+-----------+------------------------------+------------------------------+\n",
      "only showing top 20 rows\n",
      "\n"
     ]
    }
   ],
   "source": [
    "JoinedAirportDF.withColumn(\"RatioOfExtremeOverTotalFlights\",\n",
    "                           F.col(\"TtlFltsInExtConds\") / F.col(\"TotalNumberOfFlights\"))\\\n",
    "               .withColumn(\"RatioOfExtremeWeatherPerFlight\",\n",
    "                               F.col(\"TtlCntOfExtWeatConds\") / F.col(\"TtlFltsInExtConds\"))\\\n",
    "               .select(\"Origin\",\n",
    "                       F.round(\"AverageArrivalDelay\",2).alias(\"AvgArrDelay\"),\n",
    "                       F.round(\"RatioOfExtremeWeatherPerFlight\",2).alias(\"RatioOfExtremeWeatherPerFlight\"),\n",
    "                       F.round(\"RatioOfExtremeOverTotalFlights\",2).alias(\"RatioOfExtremeOverTotalFlights\"))\\\n",
    "               .orderBy(F.asc(\"AverageArrivalDelay\"))\\\n",
    "               .show()"
   ]
  },
  {
   "cell_type": "markdown",
   "metadata": {},
   "source": [
    "<br>\n",
    "\n",
    "As we can notice from the first table with the most average delays, when extreme weather conditions happen in TUS (Tucson Internation airport), the average delay is around 47 minutes which is alot since this shows that they are not fully prepared for bad weather conditions since only 28 out of 663  flights got delayed due to this condition.\n",
    "\n",
    "We can also see SFO (San Francisco Internation Airport) which is known for its weather delays, has lots of airplanes that fly under bad weather conditions 385/515 flights with an average delay of 30 minutes.\n",
    "\n",
    "On the other hand, we can notice from the second table that ISP (Long Island MacArthur Airport) which is located in New York is fully equipped for bad weather conditions since it has 497/606 planes fly under extreme weather conditions but with a negative Average Delay. \n",
    "\n",
    "The same goes for BDL (Bradley International Airport) 363/382 flights with a negative average delay. Moreover, both airports face extreme weather conditions like low Temperature, high wind or even the WeatherCode variable (which is snow, fog, dust etc...) more than one time per flight.\n",
    "Both airports are known for there professional services and up-to-date maintenance.\n",
    "\n",
    "Finally, looking at the ratios we can notice that it does not matter how many extreme weather conditions or how many flights we have, but it matters on the airport if they are equipped or not for these conditions"
   ]
  },
  {
   "cell_type": "markdown",
   "metadata": {},
   "source": [
    "***\n",
    "\n",
    "<div class=\"alert alert-block alert-info\">\n",
    "    \n",
    "# Question 4:\n",
    "**Does `WeatherDelay` always entail a very bad arrival delay?**\n",
    "    \n",
    "</div>"
   ]
  },
  {
   "cell_type": "code",
   "execution_count": 25,
   "metadata": {
    "ExecuteTime": {
     "end_time": "2020-03-13T12:19:23.522960Z",
     "start_time": "2020-03-13T12:19:20.637594Z"
    },
    "scrolled": false
   },
   "outputs": [
    {
     "name": "stdout",
     "output_type": "stream",
     "text": [
      "\n",
      "Summary of ArrDelay for WeatherDelay > 0:\n",
      "+-------+-----------------+\n",
      "|summary|         ArrDelay|\n",
      "+-------+-----------------+\n",
      "|  count|              729|\n",
      "|   mean|92.73388203017832|\n",
      "| stddev| 72.8001589962664|\n",
      "|    min|              100|\n",
      "|    25%|             37.0|\n",
      "|    50%|             71.0|\n",
      "|    75%|            128.0|\n",
      "|    max|               99|\n",
      "+-------+-----------------+\n",
      "\n",
      "\n",
      "Summary of ArrDelay for WeatherDelay = 0:\n",
      "+-------+------------------+\n",
      "|summary|          ArrDelay|\n",
      "+-------+------------------+\n",
      "|  count|             12459|\n",
      "|   mean| 47.79645236375311|\n",
      "| stddev|44.943854490299614|\n",
      "|    min|               100|\n",
      "|    25%|              21.0|\n",
      "|    50%|              31.0|\n",
      "|    75%|              55.0|\n",
      "|    max|                99|\n",
      "+-------+------------------+\n",
      "\n"
     ]
    },
    {
     "data": {
      "text/markdown": [
       "\n",
       "| WeatherArrDelayAverage | weatherArrDelay75% | NoWeatherArrDelayAverage | NoWeatherArrDelay75% |\n",
       "|----|----|----|----|\n",
       "| 92.73388203017832  | 128.0  | 47.79645236375311  | 55.0  |\n"
      ],
      "text/plain": [
       "<IPython.core.display.Markdown object>"
      ]
     },
     "metadata": {},
     "output_type": "display_data"
    }
   ],
   "source": [
    "print(\"\\nSummary of ArrDelay for WeatherDelay > 0:\")\n",
    "weatherDelay = joinedDF.where(\"WeatherDelay > 0\")\n",
    "weatherDelay.select(\"ArrDelay\").summary().show()\n",
    "\n",
    "\n",
    "print(\"\\nSummary of ArrDelay for WeatherDelay = 0:\")\n",
    "noWeatherDelay = joinedDF.where(\"WeatherDelay == 0\")\n",
    "noWeatherDelay.select(\"ArrDelay\").summary().show()\n",
    "\n",
    "\n",
    "weatherArrDelay75 = weatherDelay.agg(F.expr(\"percentile_approx(ArrDelay, 0.75)\")).first()\n",
    "weatherArrDelayaverage = weatherDelay.agg(F.avg(\"ArrDelay\")).first()\n",
    "\n",
    "noweatherArrDelay75 = noWeatherDelay.agg(F.expr(\"percentile_approx(ArrDelay, 0.75)\")).first()\n",
    "noweatherArrDelayaverage = noWeatherDelay.agg(F.avg(\"ArrDelay\")).first()\n",
    "\n",
    "display(Markdown(\"\"\"\n",
    "| %s | %s | %s | %s |\n",
    "|----|----|----|----|\n",
    "| %s | %s | %s | %s |\n",
    "\"\"\" % (\"WeatherArrDelayAverage\",\n",
    "       \"weatherArrDelay75%\",\n",
    "       \"NoWeatherArrDelayAverage\",\n",
    "       \"NoWeatherArrDelay75%\",\n",
    "       \"%s \" % (weatherArrDelayaverage),\n",
    "       \"%s \" % (weatherArrDelay75),\n",
    "       \"%s \" % (noweatherArrDelayaverage),\n",
    "       \"%s \" % (noweatherArrDelay75))))\n"
   ]
  },
  {
   "cell_type": "markdown",
   "metadata": {
    "ExecuteTime": {
     "end_time": "2020-03-13T11:16:51.834532Z",
     "start_time": "2020-03-13T11:16:51.829633Z"
    }
   },
   "source": [
    "<br>\n",
    "\n",
    "We can see a difference of 45 minutes between the average arrival delay with and without having weather delays. Keep in mind that the 47 minutes (noweatherdelay) is the average of arrival delay with all variables included which means that we can have delays because of Carrier, NAS, Security or Late Aircraft delay.\n",
    "\n",
    "Moreover, looking at the 75% percentile we notice a very huge difference of 73 minutes which confirms that the weather delay has a high impact on the Arrival Delay and entails always a bad delay.\n"
   ]
  },
  {
   "cell_type": "markdown",
   "metadata": {},
   "source": [
    "***\n",
    "<div class=\"alert alert-block alert-info\">\n",
    "\n",
    "# Question 5:\n",
    "**What's the ratio of cancelled flights for each of the weather conditions at each origin airport?**\n",
    "    \n",
    "</div>"
   ]
  },
  {
   "cell_type": "markdown",
   "metadata": {},
   "source": [
    "<br>\n",
    "\n",
    "### I - Freezing"
   ]
  },
  {
   "cell_type": "markdown",
   "metadata": {},
   "source": [
    "Prepare DF"
   ]
  },
  {
   "cell_type": "code",
   "execution_count": 26,
   "metadata": {
    "ExecuteTime": {
     "end_time": "2020-03-13T12:19:23.646487Z",
     "start_time": "2020-03-13T12:19:23.525770Z"
    }
   },
   "outputs": [],
   "source": [
    "freezingDF = joinedDF.where(F.col(\"AvgTempOrigin\") <32)\\\n",
    "                     .groupBy(\"Origin\").count()\\\n",
    "                     .withColumnRenamed(\"count\", \"CountTotal\")\n",
    "\n",
    "cancelledFreezingDF = joinedDF.where((F.col(\"Cancelled\") == 1))\\\n",
    "                               .groupBy(\"Origin\").count()\\\n",
    "                               .withColumnRenamed(\"count\", \"CountCancelled\")\n",
    "\n",
    "joinFreezingDF = freezingDF.join(cancelledFreezingDF, on=\"Origin\")"
   ]
  },
  {
   "cell_type": "markdown",
   "metadata": {},
   "source": [
    "<br>\n",
    "\n",
    "Airports with the `lowest ratio` of flights cancelled in freezing conditions:"
   ]
  },
  {
   "cell_type": "code",
   "execution_count": 27,
   "metadata": {
    "ExecuteTime": {
     "end_time": "2020-03-13T12:19:25.494334Z",
     "start_time": "2020-03-13T12:19:23.652331Z"
    }
   },
   "outputs": [
    {
     "name": "stdout",
     "output_type": "stream",
     "text": [
      "+------+----------+--------------+------------+\n",
      "|Origin|CountTotal|CountCancelled|RoundedRatio|\n",
      "+------+----------+--------------+------------+\n",
      "|   DTW|       297|             1|     0.00337|\n",
      "|   DEN|       818|             3|     0.00367|\n",
      "|   IND|       267|             1|     0.00375|\n",
      "|   ALB|       218|             1|     0.00459|\n",
      "|   SDF|       199|             1|     0.00503|\n",
      "|   CMH|       386|             2|     0.00518|\n",
      "|   OKC|       172|             1|     0.00581|\n",
      "|   CLE|       261|             2|     0.00766|\n",
      "|   SLC|       856|             7|     0.00818|\n",
      "|   BDL|       235|             2|     0.00851|\n",
      "|   MCI|      1139|            12|     0.01054|\n",
      "|   COS|        94|             1|     0.01064|\n",
      "|   STL|       927|            11|     0.01187|\n",
      "|   BNA|       474|             6|     0.01266|\n",
      "|   ABQ|       640|            10|     0.01563|\n",
      "|   BWI|       961|            16|     0.01665|\n",
      "|   MHT|       475|             8|     0.01684|\n",
      "|   PIT|       218|             4|     0.01835|\n",
      "|   BOI|       326|             6|      0.0184|\n",
      "|   LIT|        50|             1|        0.02|\n",
      "+------+----------+--------------+------------+\n",
      "only showing top 20 rows\n",
      "\n"
     ]
    }
   ],
   "source": [
    "joinFreezingDF.withColumn(\"Ratio\", F.col(\"CountCancelled\") / F.col(\"CountTotal\"))\\\n",
    "              .select(\"Origin\",\n",
    "                      \"CountTotal\",\n",
    "                      \"CountCancelled\",\n",
    "                      F.round(\"Ratio\",5).alias(\"RoundedRatio\"))\\\n",
    "              .orderBy(F.col(\"RoundedRatio\").asc())\\\n",
    "              .show()"
   ]
  },
  {
   "cell_type": "markdown",
   "metadata": {},
   "source": [
    "Airports with the `highest ratio` of flights cancelled in freezing conditions:"
   ]
  },
  {
   "cell_type": "code",
   "execution_count": 28,
   "metadata": {
    "ExecuteTime": {
     "end_time": "2020-03-13T12:19:27.004112Z",
     "start_time": "2020-03-13T12:19:25.496434Z"
    }
   },
   "outputs": [
    {
     "name": "stdout",
     "output_type": "stream",
     "text": [
      "+------+----------+--------------+------------+\n",
      "|Origin|CountTotal|CountCancelled|RoundedRatio|\n",
      "+------+----------+--------------+------------+\n",
      "|   MAF|        19|             1|     0.05263|\n",
      "|   BUF|       232|            12|     0.05172|\n",
      "|   ISP|       220|             9|     0.04091|\n",
      "|   PHL|       345|            13|     0.03768|\n",
      "|   GEG|       391|            14|     0.03581|\n",
      "|   RNO|       450|            12|     0.02667|\n",
      "|   ORF|        38|             1|     0.02632|\n",
      "|   RDU|       115|             3|     0.02609|\n",
      "|   AMA|        80|             2|       0.025|\n",
      "|   PVD|       326|             7|     0.02147|\n",
      "|   IAD|        96|             2|     0.02083|\n",
      "|   MDW|      3729|            77|     0.02065|\n",
      "|   LIT|        50|             1|        0.02|\n",
      "|   BOI|       326|             6|      0.0184|\n",
      "|   PIT|       218|             4|     0.01835|\n",
      "|   MHT|       475|             8|     0.01684|\n",
      "|   BWI|       961|            16|     0.01665|\n",
      "|   ABQ|       640|            10|     0.01563|\n",
      "|   BNA|       474|             6|     0.01266|\n",
      "|   STL|       927|            11|     0.01187|\n",
      "+------+----------+--------------+------------+\n",
      "only showing top 20 rows\n",
      "\n"
     ]
    }
   ],
   "source": [
    "joinFreezingDF.withColumn(\"Ratio\", F.col(\"CountCancelled\") / F.col(\"CountTotal\"))\\\n",
    "              .select(\"Origin\",\n",
    "                      \"CountTotal\",\n",
    "                      \"CountCancelled\",\n",
    "                      F.round(\"Ratio\",5).alias(\"RoundedRatio\"))\\\n",
    "              .orderBy(F.col(\"RoundedRatio\").desc())\\\n",
    "              .show()"
   ]
  },
  {
   "cell_type": "markdown",
   "metadata": {},
   "source": [
    "\n",
    "### II - Windy"
   ]
  },
  {
   "cell_type": "code",
   "execution_count": 29,
   "metadata": {
    "ExecuteTime": {
     "end_time": "2020-03-13T12:19:27.139887Z",
     "start_time": "2020-03-13T12:19:27.007664Z"
    }
   },
   "outputs": [],
   "source": [
    "windspeedDF = joinedDF.where(F.col(\"AvgWindSpeedOrigin\") >30)\\\n",
    "                      .groupBy(\"Origin\").count()\\\n",
    "                      .withColumnRenamed(\"count\", \"CountTotal\")\n",
    "\n",
    "cancelledwindspeedDF = joinedDF.where((F.col(\"Cancelled\") == 1))\\\n",
    "                                .groupBy(\"Origin\").count()\\\n",
    "                                .withColumnRenamed(\"count\", \"CountCancelled\")\n",
    "\n",
    "joinWindspeedDF = windspeedDF.join(cancelledwindspeedDF, on=\"Origin\")"
   ]
  },
  {
   "cell_type": "markdown",
   "metadata": {},
   "source": [
    "<br>\n",
    "\n",
    "Origin airports with the `highest ratio` of flights cancelled in conditions of extreme windspeed:\n",
    "\n"
   ]
  },
  {
   "cell_type": "code",
   "execution_count": 30,
   "metadata": {
    "ExecuteTime": {
     "end_time": "2020-03-13T12:19:28.423197Z",
     "start_time": "2020-03-13T12:19:27.141781Z"
    }
   },
   "outputs": [
    {
     "name": "stdout",
     "output_type": "stream",
     "text": [
      "+------+----------+--------------+------------+\n",
      "|Origin|CountTotal|CountCancelled|RoundedRatio|\n",
      "+------+----------+--------------+------------+\n",
      "|   BUF|        17|            12|     0.70588|\n",
      "+------+----------+--------------+------------+\n",
      "\n"
     ]
    }
   ],
   "source": [
    "joinWindspeedDF.withColumn(\"Ratio\", F.col(\"CountCancelled\")/F.col(\"CountTotal\"))\\\n",
    "               .select(\"Origin\",\n",
    "                       \"CountTotal\",\n",
    "                       \"CountCancelled\",\n",
    "                       F.round(\"Ratio\",5).alias(\"RoundedRatio\"))\\\n",
    "               .orderBy(F.col(\"RoundedRatio\").desc())\\\n",
    "               .show()"
   ]
  },
  {
   "cell_type": "markdown",
   "metadata": {},
   "source": [
    "\n",
    "### III - Other Extreme Conditions"
   ]
  },
  {
   "cell_type": "markdown",
   "metadata": {},
   "source": [
    "Prepare DF"
   ]
  },
  {
   "cell_type": "code",
   "execution_count": 31,
   "metadata": {
    "ExecuteTime": {
     "end_time": "2020-03-13T12:19:28.677984Z",
     "start_time": "2020-03-13T12:19:28.426089Z"
    }
   },
   "outputs": [
    {
     "data": {
      "text/plain": [
       "DataFrame[Origin: string, CountTotal: bigint, CountCancelled: bigint]"
      ]
     },
     "execution_count": 31,
     "metadata": {},
     "output_type": "execute_result"
    }
   ],
   "source": [
    "WeatherCodeDF = joinedDF.where(F.col(\"WeatherCodeOrigin\") != \" \")\\\n",
    "                        .groupBy(\"Origin\").count()\\\n",
    "                        .withColumnRenamed(\"count\", \"CountTotal\")\n",
    "\n",
    "\n",
    "cancelledWeatherCodeDF = joinedDF.where((F.col(\"Cancelled\") == 1))\\\n",
    "                                  .groupBy(\"Origin\").count()\\\n",
    "                                  .withColumnRenamed(\"count\", \"CountCancelled\")\n",
    "\n",
    "\n",
    "joinWeatherCodeDF = WeatherCodeDF.join(cancelledWeatherCodeDF, on=\"Origin\")\n",
    "\n",
    "joinWeatherCodeDF.cache()"
   ]
  },
  {
   "cell_type": "markdown",
   "metadata": {
    "ExecuteTime": {
     "end_time": "2020-03-13T11:28:49.663498Z",
     "start_time": "2020-03-13T11:28:48.105516Z"
    }
   },
   "source": [
    "<br>\n",
    "\n",
    "Origin airports with the `lowest ratio` of flights cancelled in summarized extreme weather conditions:"
   ]
  },
  {
   "cell_type": "code",
   "execution_count": 32,
   "metadata": {
    "ExecuteTime": {
     "end_time": "2020-03-13T12:19:30.092426Z",
     "start_time": "2020-03-13T12:19:28.680808Z"
    }
   },
   "outputs": [
    {
     "name": "stdout",
     "output_type": "stream",
     "text": [
      "+------+----------+--------------+------------+\n",
      "|Origin|CountTotal|CountCancelled|RoundedRatio|\n",
      "+------+----------+--------------+------------+\n",
      "|   MSY|       606|             1|     0.00165|\n",
      "|   DTW|       373|             1|     0.00268|\n",
      "|   SDF|       317|             1|     0.00315|\n",
      "|   IND|       316|             1|     0.00316|\n",
      "|   LIT|       213|             1|     0.00469|\n",
      "|   AUS|       626|             3|     0.00479|\n",
      "|   CMH|       416|             2|     0.00481|\n",
      "|   ALB|       203|             1|     0.00493|\n",
      "|   OKC|       203|             1|     0.00493|\n",
      "|   SEA|       525|             3|     0.00571|\n",
      "|   SNA|       471|             3|     0.00637|\n",
      "|   ORF|       151|             1|     0.00662|\n",
      "|   RDU|       422|             3|     0.00711|\n",
      "|   CLE|       260|             2|     0.00769|\n",
      "|   BNA|       751|             6|     0.00799|\n",
      "|   PBI|       120|             1|     0.00833|\n",
      "|   JAN|       119|             1|      0.0084|\n",
      "|   BWI|      1868|            16|     0.00857|\n",
      "|   SAT|       568|             5|      0.0088|\n",
      "|   DEN|       334|             3|     0.00898|\n",
      "+------+----------+--------------+------------+\n",
      "only showing top 20 rows\n",
      "\n"
     ]
    }
   ],
   "source": [
    "joinWeatherCodeDF.withColumn(\"Ratio\", F.col(\"CountCancelled\") / F.col(\"CountTotal\"))\\\n",
    "                 .select(\"Origin\",\n",
    "                         \"CountTotal\",\n",
    "                         \"CountCancelled\",\n",
    "                         F.round(\"Ratio\",5).alias(\"RoundedRatio\"))\\\n",
    "                 .orderBy(F.col(\"RoundedRatio\").asc())\\\n",
    "                 .show()"
   ]
  },
  {
   "cell_type": "markdown",
   "metadata": {
    "ExecuteTime": {
     "end_time": "2020-03-13T11:28:49.663498Z",
     "start_time": "2020-03-13T11:28:48.105516Z"
    }
   },
   "source": [
    "Origin airports with the `highest ratio` of flights cancelled in summarized extreme weather conditions:"
   ]
  },
  {
   "cell_type": "code",
   "execution_count": 33,
   "metadata": {
    "ExecuteTime": {
     "end_time": "2020-03-13T12:19:30.591215Z",
     "start_time": "2020-03-13T12:19:30.094777Z"
    }
   },
   "outputs": [
    {
     "name": "stdout",
     "output_type": "stream",
     "text": [
      "+------+----------+--------------+------------+\n",
      "|Origin|CountTotal|CountCancelled|RoundedRatio|\n",
      "+------+----------+--------------+------------+\n",
      "|   PHX|       585|            46|     0.07863|\n",
      "|   SFO|       385|            24|     0.06234|\n",
      "|   HRL|       164|             8|     0.04878|\n",
      "|   GEG|       295|            14|     0.04746|\n",
      "|   LAS|      1386|            62|     0.04473|\n",
      "|   SAN|      1236|            53|     0.04288|\n",
      "|   LAX|      1508|            63|     0.04178|\n",
      "|   BUF|       315|            12|      0.0381|\n",
      "|   TUS|        28|             1|     0.03571|\n",
      "|   AMA|        60|             2|     0.03333|\n",
      "|   BFL|        33|             1|      0.0303|\n",
      "|   MHT|       270|             8|     0.02963|\n",
      "|   OAK|      2200|            61|     0.02773|\n",
      "|   RNO|       491|            12|     0.02444|\n",
      "|   BUR|       641|            15|      0.0234|\n",
      "|   ISP|       388|             9|      0.0232|\n",
      "|   ABQ|       437|            10|     0.02288|\n",
      "|   FAT|        92|             2|     0.02174|\n",
      "|   MDW|      3551|            77|     0.02168|\n",
      "|   PHL|       619|            13|       0.021|\n",
      "+------+----------+--------------+------------+\n",
      "only showing top 20 rows\n",
      "\n"
     ]
    }
   ],
   "source": [
    "joinWeatherCodeDF.withColumn(\"Ratio\", F.col(\"CountCancelled\") / F.col(\"CountTotal\"))\\\n",
    "                 .select(\"Origin\",\n",
    "                         \"CountTotal\",\n",
    "                         \"CountCancelled\",\n",
    "                         F.round(\"Ratio\",5).alias(\"RoundedRatio\"))\\\n",
    "                 .orderBy(F.col(\"RoundedRatio\").desc())\\\n",
    "                 .show()"
   ]
  },
  {
   "cell_type": "markdown",
   "metadata": {},
   "source": [
    "After filtering on the different weather conditions: \n",
    "    I: temperatures below 0\n",
    "    II: extreme wind\n",
    "    III: other extreme weather conditions,\n",
    "we composed for each of the conditions a new dataframe consisting the origin airport, the total flights under the specific weather circumstances per origin airport, the cancelled flights under the specific weather circumstances per origin airport and the ratio of the latter two columns.\n",
    "\n",
    "I.\n",
    "MAF (Midland International Airport) with 5.26% (1/19) and BUF (Buffalo Niagara International Airport) with 5.17% (12/232) of the flights which were supposed to fly while the temperature was below the zero-point were canceled. These airports have the highest cancellation rates, but taking into account that only 19 flights departed from MAF under these circumstances and one of them got called off this percentage does not seem that terrible. Together with the fact that the state Texas, where MAF is located, throughout the year is relatively warm and the area is not used to cold temperatures.\n",
    "\n",
    "DTW (Detroit Metropolitan Wayne County Airport) with the lowest cancellation rate of 0.38% (1/297) handles flying under freezing point remarkably better that BUF while both are located in the North-Eastern point of the U.S, where cold temperatures are not sparse.\n",
    "\n",
    "II.\n",
    "The only causes with extreme wind conditions left from BUF, the airport mentioned in the previous part. With a cancellation ratio of more that 70% (12/17) it can be assumed that the airport (and maybe the entire U.S.) was not expecting or not acting up to predictions of high wind speeds in January 2008.\n",
    "\n",
    "III.\n",
    "Extreme conditions, disregarding cold and wind speed, in general had the highest cancellation effect on airports in the South-West of the U.S. Eight of the top 10 airports with the highest ratios are located in Los Angeles, Arizona and Texas. This can be a coincidence, but looking at the numbers in the overview either the airports werent enough prepared to anticipate on these turn on events."
   ]
  },
  {
   "cell_type": "markdown",
   "metadata": {},
   "source": [
    "***\n",
    "\n",
    "<div class=\"alert alert-block alert-info\">\n",
    "\n",
    "# Question 6:\n",
    "**Can you answer the same about each destination airport?**\n",
    "    \n",
    "</div>"
   ]
  },
  {
   "cell_type": "markdown",
   "metadata": {},
   "source": [
    "### I- Freezing"
   ]
  },
  {
   "cell_type": "markdown",
   "metadata": {},
   "source": [
    "Prepare DF"
   ]
  },
  {
   "cell_type": "code",
   "execution_count": 34,
   "metadata": {
    "ExecuteTime": {
     "end_time": "2020-03-13T12:19:30.717332Z",
     "start_time": "2020-03-13T12:19:30.593964Z"
    }
   },
   "outputs": [],
   "source": [
    "freezingDF = joinedDF.where(F.col(\"AvgTempDest\") <32)\\\n",
    "                     .groupBy(\"Dest\").count()\\\n",
    "                     .withColumnRenamed(\"count\", \"CountTotal\")\n",
    "\n",
    "cancelledFreezingDF = joinedDF.where((F.col(\"Cancelled\") == 1))\\\n",
    "                              .groupBy(\"Dest\").count()\\\n",
    "                              .withColumnRenamed(\"count\", \"CountCancelled\")\n",
    "\n",
    "\n",
    "joinFreezingDF = freezingDF.join(cancelledFreezingDF, [\"Dest\"])"
   ]
  },
  {
   "cell_type": "markdown",
   "metadata": {
    "ExecuteTime": {
     "end_time": "2020-03-13T00:41:18.740391Z",
     "start_time": "2020-03-13T00:41:16.796515Z"
    }
   },
   "source": [
    "<br>\n",
    "\n",
    "Destination airports with the `lowest ratio` of flights cancelled in freezing conditions:"
   ]
  },
  {
   "cell_type": "code",
   "execution_count": 35,
   "metadata": {
    "ExecuteTime": {
     "end_time": "2020-03-13T12:19:32.105715Z",
     "start_time": "2020-03-13T12:19:30.719892Z"
    }
   },
   "outputs": [
    {
     "name": "stdout",
     "output_type": "stream",
     "text": [
      "+----+----------+--------------+------------+\n",
      "|Dest|CountTotal|CountCancelled|RoundedRatio|\n",
      "+----+----------+--------------+------------+\n",
      "| OMA|       367|             1|     0.00272|\n",
      "| DEN|       812|             3|     0.00369|\n",
      "| ALB|       215|             1|     0.00465|\n",
      "| OKC|       173|             1|     0.00578|\n",
      "| MCI|      1145|             8|     0.00699|\n",
      "| CLE|       257|             2|     0.00778|\n",
      "| CMH|       383|             3|     0.00783|\n",
      "| DTW|       296|             3|     0.01014|\n",
      "| MHT|       469|             5|     0.01066|\n",
      "| BNA|       463|             5|      0.0108|\n",
      "| COS|        92|             1|     0.01087|\n",
      "| SLC|       821|            10|     0.01218|\n",
      "| TUL|       164|             2|      0.0122|\n",
      "| BOI|       322|             4|     0.01242|\n",
      "| ABQ|       624|             8|     0.01282|\n",
      "| STL|       912|            15|     0.01645|\n",
      "| RDU|       111|             2|     0.01802|\n",
      "| RNO|       488|            10|     0.02049|\n",
      "| IAD|        94|             2|     0.02128|\n",
      "| BWI|       948|            21|     0.02215|\n",
      "+----+----------+--------------+------------+\n",
      "only showing top 20 rows\n",
      "\n"
     ]
    }
   ],
   "source": [
    "joinFreezingDF.withColumn(\"Ratio\", F.col(\"CountCancelled\") / F.col(\"CountTotal\"))\\\n",
    "              .select(\"Dest\",\n",
    "                      \"CountTotal\",\n",
    "                      \"CountCancelled\",\n",
    "                      F.round(\"Ratio\",5).alias(\"RoundedRatio\"))\\\n",
    "              .orderBy(F.col(\"RoundedRatio\").asc())\\\n",
    "              .show()"
   ]
  },
  {
   "cell_type": "markdown",
   "metadata": {
    "ExecuteTime": {
     "end_time": "2020-03-13T11:45:22.649028Z",
     "start_time": "2020-03-13T11:45:22.643844Z"
    }
   },
   "source": [
    "Destination airports with the `highest ratio` of flights cancelled in freezing conditions:"
   ]
  },
  {
   "cell_type": "code",
   "execution_count": 36,
   "metadata": {
    "ExecuteTime": {
     "end_time": "2020-03-13T12:19:33.372408Z",
     "start_time": "2020-03-13T12:19:32.108150Z"
    }
   },
   "outputs": [
    {
     "name": "stdout",
     "output_type": "stream",
     "text": [
      "+----+----------+--------------+------------+\n",
      "|Dest|CountTotal|CountCancelled|RoundedRatio|\n",
      "+----+----------+--------------+------------+\n",
      "| MAF|        19|             1|     0.05263|\n",
      "| AMA|        81|             4|     0.04938|\n",
      "| BUF|       230|            11|     0.04783|\n",
      "| PHL|       332|            14|     0.04217|\n",
      "| GEG|       366|            13|     0.03552|\n",
      "| PIT|       215|             6|     0.02791|\n",
      "| ISP|       214|             5|     0.02336|\n",
      "| MDW|      3650|            83|     0.02274|\n",
      "| BWI|       948|            21|     0.02215|\n",
      "| IAD|        94|             2|     0.02128|\n",
      "| RNO|       488|            10|     0.02049|\n",
      "| RDU|       111|             2|     0.01802|\n",
      "| STL|       912|            15|     0.01645|\n",
      "| ABQ|       624|             8|     0.01282|\n",
      "| BOI|       322|             4|     0.01242|\n",
      "| TUL|       164|             2|      0.0122|\n",
      "| SLC|       821|            10|     0.01218|\n",
      "| COS|        92|             1|     0.01087|\n",
      "| BNA|       463|             5|      0.0108|\n",
      "| MHT|       469|             5|     0.01066|\n",
      "+----+----------+--------------+------------+\n",
      "only showing top 20 rows\n",
      "\n"
     ]
    }
   ],
   "source": [
    "joinFreezingDF.withColumn(\"Ratio\", F.col(\"CountCancelled\") / F.col(\"CountTotal\"))\\\n",
    "              .select(\"Dest\",\n",
    "                      \"CountTotal\",\n",
    "                      \"CountCancelled\",\n",
    "                      F.round(\"Ratio\",5).alias(\"RoundedRatio\"))\\\n",
    "              .orderBy(F.col(\"RoundedRatio\").desc())\\\n",
    "              .show()"
   ]
  },
  {
   "cell_type": "markdown",
   "metadata": {},
   "source": [
    "### II- Windy"
   ]
  },
  {
   "cell_type": "markdown",
   "metadata": {},
   "source": [
    "Prepare DF"
   ]
  },
  {
   "cell_type": "code",
   "execution_count": 37,
   "metadata": {
    "ExecuteTime": {
     "end_time": "2020-03-13T12:19:33.442922Z",
     "start_time": "2020-03-13T12:19:33.375189Z"
    }
   },
   "outputs": [],
   "source": [
    "windspeedDF = joinedDF.where(F.col(\"AvgWindSpeedDest\") >30)\\\n",
    "                      .groupBy(\"Dest\").count()\\\n",
    "                      .withColumnRenamed(\"count\", \"CountTotal\")\n",
    "\n",
    "cancelledwindspeedDF = flightsDF.where((F.col(\"Cancelled\") == 1))\\\n",
    "                                .groupBy(\"Dest\").count()\\\n",
    "                                .withColumnRenamed(\"count\", \"CountCancelled\")\n",
    "\n",
    "joinWindspeedDF = windspeedDF.join(cancelledwindspeedDF, [\"Dest\"])"
   ]
  },
  {
   "cell_type": "markdown",
   "metadata": {},
   "source": [
    "<br>\n",
    "\n",
    "Destination airports with the `highest ratio` of flights cancelled in conditions of extreme windspeed:"
   ]
  },
  {
   "cell_type": "code",
   "execution_count": 38,
   "metadata": {
    "ExecuteTime": {
     "end_time": "2020-03-13T12:19:34.656315Z",
     "start_time": "2020-03-13T12:19:33.445273Z"
    }
   },
   "outputs": [
    {
     "name": "stdout",
     "output_type": "stream",
     "text": [
      "+----+----------+--------------+------------+\n",
      "|Dest|CountTotal|CountCancelled|RoundedRatio|\n",
      "+----+----------+--------------+------------+\n",
      "| BUF|        17|            11|     0.64706|\n",
      "+----+----------+--------------+------------+\n",
      "\n"
     ]
    }
   ],
   "source": [
    "joinWindspeedDF.withColumn(\"Ratio\", F.col(\"CountCancelled\") / F.col(\"CountTotal\"))\\\n",
    "               .select(\"Dest\",\n",
    "                       \"CountTotal\",\n",
    "                       \"CountCancelled\",\n",
    "                       F.round(\"Ratio\",5).alias(\"RoundedRatio\"))\\\n",
    "               .orderBy(F.col(\"RoundedRatio\").desc())\\\n",
    "               .show()"
   ]
  },
  {
   "cell_type": "markdown",
   "metadata": {},
   "source": [
    "### III- Other Extreme Conditions"
   ]
  },
  {
   "cell_type": "code",
   "execution_count": 39,
   "metadata": {
    "ExecuteTime": {
     "end_time": "2020-03-13T12:19:34.736794Z",
     "start_time": "2020-03-13T12:19:34.658974Z"
    }
   },
   "outputs": [],
   "source": [
    "WeatherCodeDF = joinedDF.where(F.col(\"WeatherCodeDest\") != \" \")\\\n",
    "                        .groupBy(\"Dest\").count()\\\n",
    "                        .withColumnRenamed(\"count\", \"CountTotal\")\n",
    "\n",
    "\n",
    " \n",
    "cancelledWeatherCodeDF = flightsDF.where((F.col(\"Cancelled\") == 1))\\\n",
    "                                  .groupBy(\"Dest\").count()\\\n",
    "                                  .withColumnRenamed(\"count\", \"CountCancelled\")\n",
    "\n",
    "\n",
    "joinWeatherCodeDF = WeatherCodeDF.join(cancelledWeatherCodeDF, [\"Dest\"])"
   ]
  },
  {
   "cell_type": "markdown",
   "metadata": {
    "ExecuteTime": {
     "end_time": "2020-03-13T00:41:21.472130Z",
     "start_time": "2020-03-13T00:41:19.706285Z"
    }
   },
   "source": [
    "<br>\n",
    "\n",
    "Destination airports with the `lowest ratio` of flights cancelled in summarized extreme weather conditions:"
   ]
  },
  {
   "cell_type": "code",
   "execution_count": 40,
   "metadata": {
    "ExecuteTime": {
     "end_time": "2020-03-13T12:19:36.175804Z",
     "start_time": "2020-03-13T12:19:34.738414Z"
    }
   },
   "outputs": [
    {
     "name": "stdout",
     "output_type": "stream",
     "text": [
      "+----+----------+--------------+------------+\n",
      "|Dest|CountTotal|CountCancelled|RoundedRatio|\n",
      "+----+----------+--------------+------------+\n",
      "| FLL|       426|             1|     0.00235|\n",
      "| MSY|       593|             2|     0.00337|\n",
      "| OMA|       289|             1|     0.00346|\n",
      "| RDU|       414|             2|     0.00483|\n",
      "| ALB|       200|             1|       0.005|\n",
      "| PVD|       360|             2|     0.00556|\n",
      "| AUS|       679|             4|     0.00589|\n",
      "| SEA|       505|             4|     0.00792|\n",
      "| PBI|       120|             1|     0.00833|\n",
      "| BDL|       235|             2|     0.00851|\n",
      "| RSW|       117|             1|     0.00855|\n",
      "| CMH|       444|             4|     0.00901|\n",
      "| OKC|       201|             2|     0.00995|\n",
      "| CRP|        94|             1|     0.01064|\n",
      "| BNA|       742|             8|     0.01078|\n",
      "| CLE|       274|             3|     0.01095|\n",
      "| SLC|       772|            10|     0.01295|\n",
      "| TUL|       229|             3|      0.0131|\n",
      "| MCI|       932|            13|     0.01395|\n",
      "| TPA|      1036|            15|     0.01448|\n",
      "+----+----------+--------------+------------+\n",
      "only showing top 20 rows\n",
      "\n"
     ]
    }
   ],
   "source": [
    "joinWeatherCodeDF.withColumn(\"Ratio\", F.col(\"CountCancelled\") / F.col(\"CountTotal\"))\\\n",
    "                 .select(\"Dest\",\n",
    "                         \"CountTotal\",\n",
    "                         \"CountCancelled\",\n",
    "                         F.round(\"Ratio\",5).alias(\"RoundedRatio\"))\\\n",
    "                 .orderBy(F.col(\"RoundedRatio\").asc())\\\n",
    "                 .show()"
   ]
  },
  {
   "cell_type": "markdown",
   "metadata": {
    "ExecuteTime": {
     "end_time": "2020-03-13T00:41:21.472130Z",
     "start_time": "2020-03-13T00:41:19.706285Z"
    }
   },
   "source": [
    "Destination airports with the `highest ratio` of flights cancelled in summarized extreme weather conditions:"
   ]
  },
  {
   "cell_type": "code",
   "execution_count": 41,
   "metadata": {
    "ExecuteTime": {
     "end_time": "2020-03-13T12:19:37.349624Z",
     "start_time": "2020-03-13T12:19:36.178081Z"
    }
   },
   "outputs": [
    {
     "name": "stdout",
     "output_type": "stream",
     "text": [
      "+----+----------+--------------+------------+\n",
      "|Dest|CountTotal|CountCancelled|RoundedRatio|\n",
      "+----+----------+--------------+------------+\n",
      "| PHX|       559|            75|     0.13417|\n",
      "| SFO|       429|            44|     0.10256|\n",
      "| LGB|        69|             6|     0.08696|\n",
      "| HRL|       176|            12|     0.06818|\n",
      "| LAX|      1454|            97|     0.06671|\n",
      "| BFL|        31|             2|     0.06452|\n",
      "| TUS|        31|             2|     0.06452|\n",
      "| LAS|      1327|            85|     0.06405|\n",
      "| BUR|       610|            36|     0.05902|\n",
      "| SAN|      1298|            76|     0.05855|\n",
      "| AMA|        72|             4|     0.05556|\n",
      "| MRY|        58|             3|     0.05172|\n",
      "| GEG|       315|            15|     0.04762|\n",
      "| ONT|       730|            32|     0.04384|\n",
      "| RNO|       518|            22|     0.04247|\n",
      "| OAK|      2266|            91|     0.04016|\n",
      "| PHL|       616|            23|     0.03734|\n",
      "| BUF|       333|            11|     0.03303|\n",
      "| MDW|      3456|           113|      0.0327|\n",
      "| ABQ|       433|            12|     0.02771|\n",
      "+----+----------+--------------+------------+\n",
      "only showing top 20 rows\n",
      "\n"
     ]
    }
   ],
   "source": [
    "joinWeatherCodeDF.withColumn(\"Ratio\", F.col(\"CountCancelled\") / F.col(\"CountTotal\"))\\\n",
    "                 .select(\"Dest\",\n",
    "                         \"CountTotal\",\n",
    "                         \"CountCancelled\",\n",
    "                         F.round(\"Ratio\",5).alias(\"RoundedRatio\"))\\\n",
    "                 .orderBy(F.col(\"RoundedRatio\").desc())\\\n",
    "                 .show()"
   ]
  },
  {
   "cell_type": "markdown",
   "metadata": {},
   "source": [
    "Similar to the previous question we filtered on the different weather conditions: \n",
    "    I: temperatures below 0\n",
    "    II: extreme wind\n",
    "    III: other extreme weather conditions,\n",
    "we composed for each of the conditions a new dataframe consisting the destination airport, the total flights under the\n",
    "specific weather circumstances per origin airport, the cancelled flights under the specific weather circumstances per \n",
    "origin airport and the ratio of the latter two columns.\n",
    "\n",
    "I.\n",
    "Two of the least performing origin airports are again in the list of top three worst anticipating destination airports. MAF with a ratio of 5.26% (1/19) and BUF with 4.78% (11/230). This could lead to a conclusion that or these weather circumstances are unusual for these airports or they were not ready to anticipate their operations on the conditions.\n",
    "\n",
    "DEN (Denver International Airport) belongs, just like in the order of origin aiports, in the top three best performing airports with a ratio of 0.037% (3/812). Comparing locations of the better anticipating airports, there was no common region on which we could base any assumption.\n",
    "\n",
    "II.\n",
    "Just like in the previous question, BUF is the only airport with flights, this time arriving, flying with extreme wind speed. With a ratio of 64.7% (11/17) this stresses the fact of problems with the wind in January 2008. Finding only these high wind speeds in flights from and to BUF indicate on local conditions.\n",
    "\n",
    "III.\n",
    "Again comparing the destination airports with the highest cancellation rates to the ones from the origin airports, we can see that, this time, ten out of ten aiports are located in the South-East of the U.S. This confirms that we can assume that these airports need to take better precautions regarding extreme weather.\n",
    "\n",
    "MSY (Louis Armstrong New Orleans International Airport) with the lowest cancellation ratio (0.017%) as origin airport and second lowest ratio (0.038%) as destination airport let the state of the weather influence the continuity of its flights the least.        "
   ]
  },
  {
   "cell_type": "markdown",
   "metadata": {},
   "source": [
    "***\n",
    "\n",
    "<div class=\"alert alert-block alert-info\">\n",
    "\n",
    "# Question 7:\n",
    "**What\"s the relation between the weather at the origin airport and the cancellation code (if any), the origin delay, and the `WeatherDelay`?**\n",
    "    \n",
    "</div>"
   ]
  },
  {
   "cell_type": "markdown",
   "metadata": {
    "ExecuteTime": {
     "end_time": "2020-03-13T00:44:19.533121Z",
     "start_time": "2020-03-13T00:44:17.536834Z"
    }
   },
   "source": [
    "<br>\n",
    "\n",
    "Top 20 origin airports with the `most` average `weather delay`:"
   ]
  },
  {
   "cell_type": "code",
   "execution_count": 42,
   "metadata": {
    "ExecuteTime": {
     "end_time": "2020-03-13T12:19:38.253479Z",
     "start_time": "2020-03-13T12:19:37.352059Z"
    }
   },
   "outputs": [
    {
     "name": "stdout",
     "output_type": "stream",
     "text": [
      "+------+------------------+-----------+------------------------+-------------------+\n",
      "|Origin|AverageTemperature|AverageWind|Count of Extreme Weather|AverageWeatherDelay|\n",
      "+------+------------------+-----------+------------------------+-------------------+\n",
      "|   IAD|           32.7558|       6.05|                      98|            17.0385|\n",
      "|   LGB|           54.6471|     4.7221|                      68|            10.3333|\n",
      "|   PBI|           69.9583|    10.7492|                     120|             8.0556|\n",
      "|   CLE|           25.8012|    10.8943|                     260|             7.4426|\n",
      "|   TUL|           33.0652|     10.086|                     233|             7.1509|\n",
      "|   BUF|           27.0632|    12.9256|                     315|             6.5938|\n",
      "|   SLC|           21.7727|     7.8196|                     764|             6.2731|\n",
      "|   SJC|           47.7278|     5.8084|                    1286|             6.1991|\n",
      "|   DTW|           26.1398|     10.712|                     373|             5.7162|\n",
      "|   ORF|           40.1951|      8.372|                     151|             5.2941|\n",
      "|   MDW|           20.6613|    11.3282|                    3551|             4.8031|\n",
      "|   TPA|           66.5005|     6.2985|                    1049|             4.7789|\n",
      "|   PVD|           32.0491|     8.4838|                     366|             4.5814|\n",
      "|   TUS|              58.0|        6.3|                      28|             4.4667|\n",
      "|   MSY|           52.5347|     9.5186|                     606|             4.4132|\n",
      "|   ALB|           25.9194|      6.759|                     203|             4.3529|\n",
      "|   PHX|           55.6581|     6.6043|                     585|             4.1619|\n",
      "|   JAN|           44.7227|      6.384|                     119|               3.96|\n",
      "|   RNO|           31.3464|     5.4788|                     491|             3.9455|\n",
      "|   PDX|           39.6676|     7.3372|                     686|             3.5938|\n",
      "+------+------------------+-----------+------------------------+-------------------+\n",
      "only showing top 20 rows\n",
      "\n"
     ]
    }
   ],
   "source": [
    "exteremeConditionsOrigin.groupBy(\"Origin\")\\\n",
    "                        .agg(\n",
    "                            F.avg(\"AvgTempOrigin\").alias(\"AverageTemperature\"),\n",
    "                            F.avg(\"AvgWindSpeedOrigin\").alias(\"AverageWind\"),\n",
    "                            cnt_cond(F.col(\"WeatherCodeOrigin\") != \" \").alias(\"Count of Extreme Weather\"),\n",
    "                            F.avg(\"WeatherDelay\").alias(\"AverageWeatherDelay\"))\\\n",
    "                        .orderBy(F.desc(\"AverageWeatherDelay\"))\\\n",
    "                        .select(\n",
    "                            \"Origin\",\n",
    "                            F.round(\"AverageTemperature\", 4).alias(\"AverageTemperature\"),\n",
    "                            F.round(\"AverageWind\", 4).alias(\"AverageWind\"),\n",
    "                            \"Count of Extreme Weather\",\n",
    "                            F.round(\"AverageWeatherDelay\",4).alias(\"AverageWeatherDelay\"))\\\n",
    "                        .show()"
   ]
  },
  {
   "cell_type": "markdown",
   "metadata": {
    "ExecuteTime": {
     "end_time": "2020-03-13T00:44:19.533121Z",
     "start_time": "2020-03-13T00:44:17.536834Z"
    }
   },
   "source": [
    "Top 20 origin airports with the `most` average `departure delay`:"
   ]
  },
  {
   "cell_type": "code",
   "execution_count": 43,
   "metadata": {
    "ExecuteTime": {
     "end_time": "2020-03-13T12:19:39.096329Z",
     "start_time": "2020-03-13T12:19:38.255990Z"
    }
   },
   "outputs": [
    {
     "name": "stdout",
     "output_type": "stream",
     "text": [
      "+------+------------------+-----------+------------------------+---------------+\n",
      "|Origin|AverageTemperature|AverageWind|Count of Extreme Weather|AverageDepDelay|\n",
      "+------+------------------+-----------+------------------------+---------------+\n",
      "|   TUS|              58.0|        6.3|                      28|           48.5|\n",
      "|   SFO|           47.6104|     7.9057|                     385|        34.9917|\n",
      "|   LAS|           47.4957|     8.6946|                    1386|        30.8209|\n",
      "|   PHX|           55.6581|     6.6043|                     585|        23.9583|\n",
      "|   LAX|           55.1903|     7.5441|                    1508|          17.86|\n",
      "|   BUR|           51.5725|     7.0657|                     641|        15.2828|\n",
      "|   SAN|            54.415|     5.2604|                    1236|         14.645|\n",
      "|   HRL|           59.3415|    11.1927|                     164|        14.3974|\n",
      "|   SLC|           21.7727|     7.8196|                     764|        14.0364|\n",
      "|   DAL|           43.2647|    10.4646|                    1277|        14.0221|\n",
      "|   MDW|           20.6613|    11.3282|                    3551|        13.8003|\n",
      "|   EWR|              31.0|    12.2571|                       4|        13.1429|\n",
      "|   ONT|           51.5201|     4.8908|                     773|        12.1606|\n",
      "|   OAK|           47.1841|     7.8325|                    2200|        11.7576|\n",
      "|   PHL|           34.2986|     9.7616|                     619|        11.7138|\n",
      "|   HOU|           52.3545|     9.3445|                    2200|        11.6998|\n",
      "|   RNO|           31.3464|     5.4788|                     491|        10.7315|\n",
      "|   SJC|           47.7278|     5.8084|                    1286|        10.6361|\n",
      "|   TPA|           66.5005|     6.2985|                    1049|        10.6264|\n",
      "|   BUF|           27.0632|    12.9256|                     315|        10.3214|\n",
      "+------+------------------+-----------+------------------------+---------------+\n",
      "only showing top 20 rows\n",
      "\n"
     ]
    }
   ],
   "source": [
    "exteremeConditionsOrigin.groupBy(\"Origin\")\\\n",
    "                        .agg(F.avg(\"AvgTempOrigin\").alias(\"AverageTemperature\"),\n",
    "                             F.avg(\"AvgWindSpeedOrigin\").alias(\"AverageWind\"),\n",
    "                             cnt_cond(F.col(\"WeatherCodeOrigin\") != \" \").alias(\"Count of Extreme Weather\"),\n",
    "                             F.avg(\"DepDelay\").alias(\"AverageDepDelay\"))\\\n",
    "                        .orderBy(F.desc(\"AverageDepDelay\"))\\\n",
    "                        .select(\"Origin\",\n",
    "                                F.round(\"AverageTemperature\", 4).alias(\"AverageTemperature\"),\n",
    "                                F.round(\"AverageWind\", 4).alias(\"AverageWind\"),\n",
    "                                \"Count of Extreme Weather\",\n",
    "                                F.round(\"AverageDepDelay\", 4).alias(\"AverageDepDelay\"))\\\n",
    "                        .show()"
   ]
  },
  {
   "cell_type": "markdown",
   "metadata": {
    "ExecuteTime": {
     "end_time": "2020-03-13T00:44:19.533121Z",
     "start_time": "2020-03-13T00:44:17.536834Z"
    }
   },
   "source": [
    "Top 20 origin airports with the `least` average `weather delay`:"
   ]
  },
  {
   "cell_type": "code",
   "execution_count": 44,
   "metadata": {
    "ExecuteTime": {
     "end_time": "2020-03-13T12:19:39.756819Z",
     "start_time": "2020-03-13T12:19:39.097682Z"
    }
   },
   "outputs": [
    {
     "name": "stdout",
     "output_type": "stream",
     "text": [
      "+------+------------------+-----------+------------------------+-------------------+\n",
      "|Origin|AverageTemperature|AverageWind|Count of Extreme Weather|AverageWeatherDelay|\n",
      "+------+------------------+-----------+------------------------+-------------------+\n",
      "|   LFT|              59.0|        9.8|                       1|               null|\n",
      "|   DAY|              38.0|       21.9|                       1|               null|\n",
      "|   BTR|              39.0|        8.0|                       1|               null|\n",
      "|   AMA|           31.4828|    15.1241|                      60|                0.0|\n",
      "|   COS|             21.97|      8.745|                      53|                0.0|\n",
      "|   CRP|           54.6413|    12.4413|                      92|                0.0|\n",
      "|   ELP|              50.5|      12.05|                     144|                0.0|\n",
      "|   LCH|              62.0|        8.2|                       1|                0.0|\n",
      "|   OKC|           32.8095|    13.7171|                     203|                0.0|\n",
      "|   RDU|           38.4024|     5.5084|                     422|                0.0|\n",
      "|   MRY|           50.4333|     4.9733|                      60|                0.0|\n",
      "|   EWR|              31.0|    12.2571|                       4|                0.0|\n",
      "|   BFL|           48.4848|     6.0576|                      33|                0.0|\n",
      "|   LBB|           36.3423|     13.104|                     100|                0.0|\n",
      "|   MAF|           38.3837|     8.3942|                      67|                0.0|\n",
      "|   RSW|           69.0909|     7.4727|                     121|                0.0|\n",
      "|   HRL|           59.3415|    11.1927|                     164|                0.0|\n",
      "|   IAH|              49.5|     6.1167|                       6|                0.0|\n",
      "|   BDL|           28.5372|     6.1504|                     217|             0.1087|\n",
      "|   BOI|           27.7626|     7.2565|                     317|             0.1667|\n",
      "+------+------------------+-----------+------------------------+-------------------+\n",
      "only showing top 20 rows\n",
      "\n"
     ]
    }
   ],
   "source": [
    "exteremeConditionsOrigin.groupBy(\"Origin\")\\\n",
    "                        .agg(F.avg(\"AvgTempOrigin\").alias(\"AverageTemperature\"),\n",
    "                             F.avg(\"AvgWindSpeedOrigin\").alias(\"AverageWind\"),\n",
    "                             cnt_cond(F.col(\"WeatherCodeOrigin\") != \" \").alias(\"Count of Extreme Weather\"),\n",
    "                             F.avg(\"WeatherDelay\").alias(\"AverageWeatherDelay\"))\\\n",
    "                        .orderBy(F.asc(\"AverageWeatherDelay\"))\\\n",
    "                        .select(\"Origin\",\n",
    "                                F.round(\"AverageTemperature\", 4).alias(\"AverageTemperature\"),\n",
    "                                F.round(\"AverageWind\", 4).alias(\"AverageWind\"),\n",
    "                                \"Count of Extreme Weather\",\n",
    "                                F.round(\"AverageWeatherDelay\",4).alias(\"AverageWeatherDelay\"))\\\n",
    "                        .show()"
   ]
  },
  {
   "cell_type": "markdown",
   "metadata": {
    "ExecuteTime": {
     "end_time": "2020-03-13T00:44:19.533121Z",
     "start_time": "2020-03-13T00:44:17.536834Z"
    }
   },
   "source": [
    "Top 20 origin airports with the `least` average `departure delay`:"
   ]
  },
  {
   "cell_type": "code",
   "execution_count": 45,
   "metadata": {
    "ExecuteTime": {
     "end_time": "2020-03-13T12:19:40.288387Z",
     "start_time": "2020-03-13T12:19:39.759026Z"
    }
   },
   "outputs": [
    {
     "name": "stdout",
     "output_type": "stream",
     "text": [
      "+------+------------------+-----------+------------------------+---------------+\n",
      "|Origin|AverageTemperature|AverageWind|Count of Extreme Weather|AverageDepDelay|\n",
      "+------+------------------+-----------+------------------------+---------------+\n",
      "|   LCH|              62.0|        8.2|                       1|          -10.0|\n",
      "|   DAY|              38.0|       21.9|                       1|           -7.0|\n",
      "|   BTR|              39.0|        8.0|                       1|           -4.0|\n",
      "|   LFT|              59.0|        9.8|                       1|           -3.0|\n",
      "|   COS|             21.97|      8.745|                      53|         1.5556|\n",
      "|   AMA|           31.4828|    15.1241|                      60|         2.6053|\n",
      "|   BDL|           28.5372|     6.1504|                     217|         3.3269|\n",
      "|   ALB|           25.9194|      6.759|                     203|         3.7169|\n",
      "|   BFL|           48.4848|     6.0576|                      33|         3.8125|\n",
      "|   ORF|           40.1951|      8.372|                     151|         3.8589|\n",
      "|   BHM|           41.7311|     7.1289|                     278|         3.8852|\n",
      "|   OMA|           16.8428|    10.2369|                     270|         4.3505|\n",
      "|   IND|           25.8049|    11.4363|                     316|         4.3554|\n",
      "|   RDU|           38.4024|     5.5084|                     422|          4.444|\n",
      "|   LBB|           36.3423|     13.104|                     100|          4.745|\n",
      "|   ISP|           33.4165|     9.2915|                     388|         4.8852|\n",
      "|   TUL|           33.0652|     10.086|                     233|         5.2205|\n",
      "|   MRY|           50.4333|     4.9733|                      60|            5.4|\n",
      "|   FAT|           46.3804|      4.013|                      92|         5.8889|\n",
      "|   SAT|           52.0792|     8.4472|                     568|         6.5416|\n",
      "+------+------------------+-----------+------------------------+---------------+\n",
      "only showing top 20 rows\n",
      "\n"
     ]
    }
   ],
   "source": [
    "exteremeConditionsOrigin.groupBy(\"Origin\")\\\n",
    "                        .agg(F.avg(\"AvgTempOrigin\").alias(\"AverageTemperature\"),\n",
    "                             F.avg(\"AvgWindSpeedOrigin\").alias(\"AverageWind\"),\n",
    "                             cnt_cond(F.col(\"WeatherCodeOrigin\") != \" \").alias(\"Count of Extreme Weather\"),\n",
    "                             F.avg(\"DepDelay\").alias(\"AverageDepDelay\"))\\\n",
    "                        .orderBy(F.asc(\"AverageDepDelay\"))\\\n",
    "                        .select(\"Origin\",\n",
    "                                F.round(\"AverageTemperature\", 4).alias(\"AverageTemperature\"),\n",
    "                                F.round(\"AverageWind\", 4).alias(\"AverageWind\"),\n",
    "                                \"Count of Extreme Weather\",\n",
    "                                F.round(\"AverageDepDelay\", 4).alias(\"AverageDepDelay\"))\\\n",
    "                        .show()"
   ]
  },
  {
   "cell_type": "markdown",
   "metadata": {},
   "source": [
    "After merging and filtering the dataset, we did not have any Cancellation Code, they wear already a very small part of our data set which will not make any changes.\n",
    "\n",
    "The  important variable from our joined dataset that have a **correlation** with the Average Weather Delay is Extreme Weather (Weather Code). Nearly most of the average wind and average temperature are less than the  extreme weather threshold meaning that they do not have any impact on the Delay.\n",
    "\n",
    "COD (Yellowstone Regional Airport), BDL (Bradley International Airport) and ALB (Albany International Airport) are equipped with the necessary equipment to combat extreme weathers since they have low temperatures (lower than 0 degrees celsius) while being in the top 20 airports with lowest Departure Delay.\n",
    "\n",
    "Moreover, the departure delay has also a **correlation** with the extreme weather variable, when we have one count of extreme weather we have a negative departure delay. Once the extreme weather cases increase, we see an increase in the Departure Delay."
   ]
  },
  {
   "cell_type": "markdown",
   "metadata": {},
   "source": [
    "***\n",
    "\n",
    "<div class=\"alert alert-block alert-info\">\n",
    "\n",
    "# Question 8:\n",
    "**What\"s the relation between the weather at the destination airport, the arrival delay, and the `WeatherDelay`?**\n",
    "    \n",
    "</div>"
   ]
  },
  {
   "cell_type": "markdown",
   "metadata": {
    "ExecuteTime": {
     "end_time": "2020-03-12T17:04:29.438393Z",
     "start_time": "2020-03-12T17:04:24.935535Z"
    }
   },
   "source": [
    "<br>\n",
    "\n",
    "Top 20 origin airports with the `most` average `weather delay`:"
   ]
  },
  {
   "cell_type": "code",
   "execution_count": 46,
   "metadata": {
    "ExecuteTime": {
     "end_time": "2020-03-13T12:19:40.936406Z",
     "start_time": "2020-03-13T12:19:40.291055Z"
    }
   },
   "outputs": [
    {
     "name": "stdout",
     "output_type": "stream",
     "text": [
      "+----+------------------+-----------+------------------------+-------------------+\n",
      "|Dest|AverageTemperature|AverageWind|Count of Extreme Weather|AverageWeatherDelay|\n",
      "+----+------------------+-----------+------------------------+-------------------+\n",
      "| FAT|           47.6949|     5.5814|                      51|               12.4|\n",
      "| SFO|           48.0189|     8.3375|                     248|             8.3209|\n",
      "| MDW|           20.6441|    11.1681|                    2475|              7.856|\n",
      "| GEG|            22.289|     8.2938|                     218|             7.8475|\n",
      "| HRL|           58.7927|    11.6497|                     157|              7.725|\n",
      "| LAS|           46.0124|     6.1114|                    1007|              7.243|\n",
      "| BOI|            28.273|     7.8133|                     219|             6.6818|\n",
      "| PHL|           34.4746|     9.3925|                     416|             6.0628|\n",
      "| BUF|           27.1783|    12.5613|                     225|             5.4359|\n",
      "| SLC|            23.727|     9.1106|                     438|             4.6943|\n",
      "| FLL|           72.5373|     9.6124|                     298|             4.2897|\n",
      "| CMH|           28.8816|    10.0207|                     331|             4.0274|\n",
      "| ORF|           40.8556|     7.9551|                     109|             3.2333|\n",
      "| PBI|           69.3474|     9.8395|                      88|             3.2258|\n",
      "| PVD|           32.9284|     8.1958|                     276|             3.0395|\n",
      "| DEN|           26.2647|     9.8303|                     219|             2.7078|\n",
      "| SNA|           54.5229|     5.1167|                     285|             2.4444|\n",
      "| HOU|           53.1356|     9.4563|                    1464|             2.3915|\n",
      "| SDF|           32.1495|      8.016|                     226|             2.2958|\n",
      "| ISP|           33.1865|     9.4792|                     256|             2.2759|\n",
      "+----+------------------+-----------+------------------------+-------------------+\n",
      "only showing top 20 rows\n",
      "\n"
     ]
    }
   ],
   "source": [
    "exteremeConditionsOrigin.groupBy(\"Dest\")\\\n",
    "                        .agg(F.avg(\"AvgTempDest\").alias(\"AverageTemperature\"),\n",
    "                             F.avg(\"AvgWindSpeedDest\").alias(\"AverageWind\"),\n",
    "                             cnt_cond(F.col(\"WeatherCodeDest\") != \" \").alias(\"Count of Extreme Weather\"),\n",
    "                             F.avg(\"WeatherDelay\").alias(\"AverageWeatherDelay\"))\\\n",
    "                        .orderBy(F.desc(\"AverageWeatherDelay\"))\\\n",
    "                        .select(\"Dest\",\n",
    "                                F.round(\"AverageTemperature\", 4).alias(\"AverageTemperature\"),\n",
    "                                F.round(\"AverageWind\", 4).alias(\"AverageWind\"),\n",
    "                                \"Count of Extreme Weather\",\n",
    "                                F.round(\"AverageWeatherDelay\",4).alias(\"AverageWeatherDelay\"))\\\n",
    "                        .show()"
   ]
  },
  {
   "cell_type": "markdown",
   "metadata": {
    "ExecuteTime": {
     "end_time": "2020-03-12T17:04:29.438393Z",
     "start_time": "2020-03-12T17:04:24.935535Z"
    }
   },
   "source": [
    "Top 20 origin airports with the `most` average `departure delay`:"
   ]
  },
  {
   "cell_type": "code",
   "execution_count": 47,
   "metadata": {
    "ExecuteTime": {
     "end_time": "2020-03-13T12:19:41.508339Z",
     "start_time": "2020-03-13T12:19:40.939148Z"
    }
   },
   "outputs": [
    {
     "name": "stdout",
     "output_type": "stream",
     "text": [
      "+----+------------------+-----------+------------------------+---------------+\n",
      "|Dest|AverageTemperature|AverageWind|Count of Extreme Weather|AverageDepDelay|\n",
      "+----+------------------+-----------+------------------------+---------------+\n",
      "| SAV|              47.0|        8.1|                       0|           43.0|\n",
      "| SFO|           48.0189|     8.3375|                     248|        40.2158|\n",
      "| IAH|              52.9|      11.81|                       6|           29.6|\n",
      "| BFL|           49.6667|      7.063|                      20|        18.9615|\n",
      "| EUG|             34.75|     7.5188|                      13|        18.1875|\n",
      "| MRY|           51.4651|     4.9442|                      37|        17.4419|\n",
      "| SLC|            23.727|     9.1106|                     438|        16.7362|\n",
      "| MAF|           43.3937|     9.9591|                      50|        15.0952|\n",
      "| PHL|           34.4746|     9.3925|                     416|         14.803|\n",
      "| LIT|           37.8519|     8.2148|                     137|         14.716|\n",
      "| FAT|           47.6949|     5.5814|                      51|        14.6552|\n",
      "| LAS|           46.0124|     6.1114|                    1007|        14.6152|\n",
      "| SDF|           32.1495|      8.016|                     226|        14.5781|\n",
      "| OKC|           37.1444|    13.7934|                     142|        14.2974|\n",
      "| IAD|           33.3237|     5.6618|                      69|        14.1404|\n",
      "| LAX|           54.7138|     7.4416|                     963|        13.8788|\n",
      "| DEN|           26.2647|     9.8303|                     219|        13.7245|\n",
      "| RNO|           32.7126|     5.6114|                     311|        13.6245|\n",
      "| SJC|           48.4924|      7.424|                     763|        12.8855|\n",
      "| SAN|           54.3128|     5.1645|                     854|        12.7171|\n",
      "+----+------------------+-----------+------------------------+---------------+\n",
      "only showing top 20 rows\n",
      "\n"
     ]
    }
   ],
   "source": [
    "exteremeConditionsOrigin.groupBy(\"Dest\")\\\n",
    "                        .agg(F.avg(\"AvgTempDest\").alias(\"AverageTemperature\"),\n",
    "                             F.avg(\"AvgWindSpeedDest\").alias(\"AverageWind\"),\n",
    "                             cnt_cond(F.col(\"WeatherCodeDest\") != \" \").alias(\"Count of Extreme Weather\"),\n",
    "                             F.avg(\"DepDelay\").alias(\"AverageDepDelay\"))\\\n",
    "                        .orderBy(F.desc(\"AverageDepDelay\"))\\\n",
    "                        .select(\"Dest\",\n",
    "                                F.round(\"AverageTemperature\", 4).alias(\"AverageTemperature\"),\n",
    "                                F.round(\"AverageWind\", 4).alias(\"AverageWind\"),\n",
    "                                \"Count of Extreme Weather\",\n",
    "                                F.round(\"AverageDepDelay\", 4).alias(\"AverageDepDelay\"))\\\n",
    "                        .show()"
   ]
  },
  {
   "cell_type": "markdown",
   "metadata": {
    "ExecuteTime": {
     "end_time": "2020-03-12T17:04:29.438393Z",
     "start_time": "2020-03-12T17:04:24.935535Z"
    }
   },
   "source": [
    "Top 20 origin airports with the `least` average `weather delay`:"
   ]
  },
  {
   "cell_type": "code",
   "execution_count": 57,
   "metadata": {
    "ExecuteTime": {
     "end_time": "2020-03-13T12:19:42.160283Z",
     "start_time": "2020-03-13T12:19:41.509784Z"
    }
   },
   "outputs": [
    {
     "name": "stdout",
     "output_type": "stream",
     "text": [
      "+----+------------------+-----------+------------------------+-------------------+\n",
      "|Dest|AverageTemperature|AverageWind|Count of Extreme Weather|AverageWeatherDelay|\n",
      "+----+------------------+-----------+------------------------+-------------------+\n",
      "| GSO|              27.0|        5.8|                       0|               null|\n",
      "| DCA|              38.0|        7.6|                       0|               null|\n",
      "| XNA|              22.0|        6.6|                       1|               null|\n",
      "| EUG|             34.75|     7.5188|                      13|                0.0|\n",
      "| COS|              25.5|     8.8417|                      27|                0.0|\n",
      "| SAV|              47.0|        8.1|                       0|                0.0|\n",
      "| EWR|              32.5|      7.875|                       2|                0.0|\n",
      "| IAH|              52.9|      11.81|                       6|                0.0|\n",
      "| TUL|           35.3414|    10.4545|                     162|                0.0|\n",
      "| MRY|           51.4651|     4.9442|                      37|                0.0|\n",
      "| LGB|           54.4815|     4.5494|                      55|                0.0|\n",
      "| BFL|           49.6667|      7.063|                      20|                0.0|\n",
      "| LBB|           41.3252|    13.7569|                      67|                0.2|\n",
      "| LIT|           37.8519|     8.2148|                     137|                0.2|\n",
      "| AMA|           36.5826|    15.5372|                      58|             0.2143|\n",
      "| SMF|            46.053|     9.2776|                     798|             0.3825|\n",
      "| SJC|           48.4924|      7.424|                     763|             0.4769|\n",
      "| SAN|           54.3128|     5.1645|                     854|             0.5597|\n",
      "| JAX|           53.4073|     6.2977|                     279|             0.5616|\n",
      "| RNO|           32.7126|     5.6114|                     311|             0.7323|\n",
      "+----+------------------+-----------+------------------------+-------------------+\n",
      "only showing top 20 rows\n",
      "\n"
     ]
    }
   ],
   "source": [
    "exteremeConditionsOrigin.groupBy(\"Dest\")\\\n",
    "                        .agg(F.avg(\"AvgTempDest\").alias(\"AverageTemperature\"),\n",
    "                             F.avg(\"AvgWindSpeedDest\").alias(\"AverageWind\"),\n",
    "                             cnt_cond(F.col(\"WeatherCodeDest\") != \" \").alias(\"Count of Extreme Weather\"),\n",
    "                             F.avg(\"WeatherDelay\").alias(\"AverageWeatherDelay\"))\\\n",
    "                        .orderBy(F.asc(\"AverageWeatherDelay\"))\\\n",
    "                        .select(\"Dest\",\n",
    "                                F.round(\"AverageTemperature\", 4).alias(\"AverageTemperature\"),\n",
    "                                F.round(\"AverageWind\", 4).alias(\"AverageWind\"),\n",
    "                                \"Count of Extreme Weather\",\n",
    "                                F.round(\"AverageWeatherDelay\",4).alias(\"AverageWeatherDelay\"))\\\n",
    "                        .show()"
   ]
  },
  {
   "cell_type": "markdown",
   "metadata": {
    "ExecuteTime": {
     "end_time": "2020-03-12T17:04:29.438393Z",
     "start_time": "2020-03-12T17:04:24.935535Z"
    }
   },
   "source": [
    "Top 20 origin airports with the `least` average `departure delay`:"
   ]
  },
  {
   "cell_type": "code",
   "execution_count": 58,
   "metadata": {
    "ExecuteTime": {
     "end_time": "2020-03-13T12:19:42.767349Z",
     "start_time": "2020-03-13T12:19:42.164075Z"
    },
    "scrolled": false
   },
   "outputs": [
    {
     "name": "stdout",
     "output_type": "stream",
     "text": [
      "+----+------------------+-----------+------------------------+---------------+\n",
      "|Dest|AverageTemperature|AverageWind|Count of Extreme Weather|AverageDepDelay|\n",
      "+----+------------------+-----------+------------------------+---------------+\n",
      "| DCA|              38.0|        7.6|                       0|           -2.0|\n",
      "| COS|              25.5|     8.8417|                      27|         0.8592|\n",
      "| XNA|              22.0|        6.6|                       1|            2.0|\n",
      "| GSO|              27.0|        5.8|                       0|            2.0|\n",
      "| EWR|              32.5|      7.875|                       2|            5.0|\n",
      "| RDU|           39.6967|     5.9097|                     312|         6.3303|\n",
      "| MCO|           63.6092|     8.2414|                     886|         7.0049|\n",
      "| BWI|           33.1464|     6.1136|                    1295|          7.172|\n",
      "| TPA|           63.3488|     7.5687|                     748|         7.3421|\n",
      "| ORF|           40.8556|     7.9551|                     109|         7.5775|\n",
      "| MSY|           51.9767|     9.8367|                     429|         8.2352|\n",
      "| LGB|           54.4815|     4.5494|                      55|         8.2875|\n",
      "| PVD|           32.9284|     8.1958|                     276|         8.4968|\n",
      "| DAL|           42.5624|     9.8148|                     975|         8.6653|\n",
      "| IND|           25.7205|    11.4769|                     199|          8.869|\n",
      "| RSW|           66.7616|      7.982|                      96|         8.9591|\n",
      "| BHM|           41.5241|     6.8036|                     236|          8.967|\n",
      "| CLE|           26.8697|    11.8281|                     225|         9.1313|\n",
      "| ISP|           33.1865|     9.4792|                     256|         9.1875|\n",
      "| MDW|           20.6441|    11.1681|                    2475|         9.2013|\n",
      "+----+------------------+-----------+------------------------+---------------+\n",
      "only showing top 20 rows\n",
      "\n"
     ]
    }
   ],
   "source": [
    "exteremeConditionsOrigin.groupBy(\"Dest\")\\\n",
    "                        .agg(\n",
    "                            F.avg(\"AvgTempDest\").alias(\"AverageTemperature\"),\n",
    "                            F.avg(\"AvgWindSpeedDest\").alias(\"AverageWind\"),\n",
    "                            cnt_cond(F.col(\"WeatherCodeDest\") != \" \").alias(\"Count of Extreme Weather\"),\n",
    "                            F.avg(\"DepDelay\").alias(\"AverageDepDelay\"))\\\n",
    "                        .orderBy(F.asc(\"AverageDepDelay\"))\\\n",
    "                        .select(\"Dest\",\n",
    "                                F.round(\"AverageTemperature\", 4).alias(\"AverageTemperature\"),\n",
    "                                F.round(\"AverageWind\", 4).alias(\"AverageWind\"),\n",
    "                                \"Count of Extreme Weather\",\n",
    "                                F.round(\"AverageDepDelay\", 4).alias(\"AverageDepDelay\"))\\\n",
    "                        .show()"
   ]
  },
  {
   "cell_type": "markdown",
   "metadata": {},
   "source": [
    "We can notice that same as our Origin Analysis, the  important variables from our joined dataset that have a high **correlation** with the AvgWeatherDelay are Extreme Weather (Weather Code) followed by Temperature. Nearly most of the average wind are less than 30 which means it is not dangerous.\n",
    "\n",
    "We can notice in MDW (Chicago Midway International Airport) we have a temperature lower than 0 degrees and a lot of extreme weather conditions.But we can notice that its not in the top 20 airports with high Dep Delay but with is the 20th in lowest Dep Delay, which means that this airport is equipped for bad weathers or any other issue that will delay the plane. Same goes for GSO (Piedmont Triad International Airport), XNA (Northwest Arkansas Regional Airport) and  COS (Colorado Springs Airport) looking at the least Average Weather Delay.\n",
    "\n",
    "Moreover, we can notice that the Average Departure Delay is **correlated** a bit to the extreme conditions but not to the temperature and wind. Therefore, other types of delays have to be taken into consideration as discussed before: Carrier, NAS, Security or Late Aircraft delays. "
   ]
  },
  {
   "cell_type": "markdown",
   "metadata": {},
   "source": [
    "## Conclusion"
   ]
  },
  {
   "cell_type": "markdown",
   "metadata": {},
   "source": [
    "We can conclude that the weather conditions have a high correlation with Arrival, Departure and Weather Delay. Once we start having extreme conditions, we can see that all the Delays start to increase.\n",
    "\n",
    "After doing some analysis, we can notice that some airports are much more equipped and ready to combat extreme weathers while others are still not developing or buying new equipments to decrease their Arrival and Departure Delays. \n",
    "\n",
    "We have to keep in mind that although weather is the most factor that affects delays, we also have Carrier, NAS, Security and Late Aircraft delays. "
   ]
  }
 ],
 "metadata": {
  "kernelspec": {
   "display_name": "Python 3",
   "language": "python",
   "name": "python3"
  },
  "language_info": {
   "codemirror_mode": {
    "name": "ipython",
    "version": 3
   },
   "file_extension": ".py",
   "mimetype": "text/x-python",
   "name": "python",
   "nbconvert_exporter": "python",
   "pygments_lexer": "ipython3",
   "version": "3.7.4"
  },
  "toc": {
   "base_numbering": 1,
   "nav_menu": {},
   "number_sections": true,
   "sideBar": true,
   "skip_h1_title": false,
   "title_cell": "Table of Contents",
   "title_sidebar": "Contents",
   "toc_cell": false,
   "toc_position": {
    "height": "calc(100% - 180px)",
    "left": "10px",
    "top": "150px",
    "width": "257.9779357910156px"
   },
   "toc_section_display": true,
   "toc_window_display": true
  }
 },
 "nbformat": 4,
 "nbformat_minor": 2
}
